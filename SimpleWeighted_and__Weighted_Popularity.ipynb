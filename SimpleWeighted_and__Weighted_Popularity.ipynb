{
  "nbformat": 4,
  "nbformat_minor": 0,
  "metadata": {
    "colab": {
      "name": "SimpleWeighted_and _Weighted_Popularity.ipynb",
      "provenance": [],
      "collapsed_sections": [],
      "toc_visible": true
    },
    "kernelspec": {
      "display_name": "Python 3",
      "language": "python",
      "name": "python3"
    },
    "language_info": {
      "codemirror_mode": {
        "name": "ipython",
        "version": 3
      },
      "file_extension": ".py",
      "mimetype": "text/x-python",
      "name": "python",
      "nbconvert_exporter": "python",
      "pygments_lexer": "ipython3",
      "version": "3.8.5"
    }
  },
  "cells": [
    {
      "cell_type": "code",
      "metadata": {
        "id": "QDSS9bCC0Hrh"
      },
      "source": [
        "import numpy as np\n",
        "import pandas as pd\n",
        "import seaborn as sns\n",
        "sns.set_style(\"white\")\n",
        "\n",
        "import matplotlib\n",
        "import matplotlib.pyplot as plt\n",
        "\n",
        "%matplotlib inline\n"
      ],
      "execution_count": 1,
      "outputs": []
    },
    {
      "cell_type": "markdown",
      "metadata": {
        "id": "RmlFogBD-TVM"
      },
      "source": [
        "#Simple Weighted"
      ]
    },
    {
      "cell_type": "code",
      "metadata": {
        "colab": {
          "base_uri": "https://localhost:8080/"
        },
        "id": "nWnFDIYc046e",
        "outputId": "c632da8d-821d-4ed9-e351-cd4fbff73436"
      },
      "source": [
        "#Importing \"The Movies Dataset\" while checking and replacing for null values with np.nan\n",
        "missing_value = [\"N/a\", \"na\", \"nan\", np.nan]\n",
        "the_movies_df = pd.read_csv(\"movies_metadata.csv\", na_values = missing_value)\n",
        "the_movies_df.head()\n",
        "the_movies_df.isnull().sum()\n",
        "the_movies_df.shape\n",
        "the_movies_df.info()"
      ],
      "execution_count": 2,
      "outputs": [
        {
          "output_type": "stream",
          "text": [
            "<class 'pandas.core.frame.DataFrame'>\n",
            "RangeIndex: 45466 entries, 0 to 45465\n",
            "Data columns (total 24 columns):\n",
            " #   Column                 Non-Null Count  Dtype  \n",
            "---  ------                 --------------  -----  \n",
            " 0   adult                  45466 non-null  object \n",
            " 1   belongs_to_collection  4494 non-null   object \n",
            " 2   budget                 45466 non-null  object \n",
            " 3   genres                 45466 non-null  object \n",
            " 4   homepage               7782 non-null   object \n",
            " 5   id                     45466 non-null  object \n",
            " 6   imdb_id                45449 non-null  object \n",
            " 7   original_language      45455 non-null  object \n",
            " 8   original_title         45466 non-null  object \n",
            " 9   overview               44512 non-null  object \n",
            " 10  popularity             45461 non-null  object \n",
            " 11  poster_path            45080 non-null  object \n",
            " 12  production_companies   45463 non-null  object \n",
            " 13  production_countries   45463 non-null  object \n",
            " 14  release_date           45379 non-null  object \n",
            " 15  revenue                45460 non-null  float64\n",
            " 16  runtime                45203 non-null  float64\n",
            " 17  spoken_languages       45460 non-null  object \n",
            " 18  status                 45379 non-null  object \n",
            " 19  tagline                20412 non-null  object \n",
            " 20  title                  45460 non-null  object \n",
            " 21  video                  45460 non-null  object \n",
            " 22  vote_average           45460 non-null  float64\n",
            " 23  vote_count             45460 non-null  float64\n",
            "dtypes: float64(4), object(20)\n",
            "memory usage: 8.3+ MB\n"
          ],
          "name": "stdout"
        },
        {
          "output_type": "stream",
          "text": [
            "/usr/local/lib/python3.7/dist-packages/IPython/core/interactiveshell.py:2718: DtypeWarning: Columns (10) have mixed types.Specify dtype option on import or set low_memory=False.\n",
            "  interactivity=interactivity, compiler=compiler, result=result)\n"
          ],
          "name": "stderr"
        }
      ]
    },
    {
      "cell_type": "code",
      "metadata": {
        "colab": {
          "base_uri": "https://localhost:8080/"
        },
        "id": "SBww67zQ-XSA",
        "outputId": "3de4e4ec-e726-400c-c935-6563aadcfa5e"
      },
      "source": [
        "#We only need the \"id\", \"popularity\", \"title\", \"vote_average\", \"vote_count\" columns\n",
        "#Of the 45466 entries, \"title\" has 45460 non-null entries, so we'll drop the rows which have null entry for \"title\" \n",
        "the_movies_df = the_movies_df.dropna(axis=0, subset=['title'])\n",
        "the_movies_df.info()"
      ],
      "execution_count": 3,
      "outputs": [
        {
          "output_type": "stream",
          "text": [
            "<class 'pandas.core.frame.DataFrame'>\n",
            "Int64Index: 45460 entries, 0 to 45465\n",
            "Data columns (total 24 columns):\n",
            " #   Column                 Non-Null Count  Dtype  \n",
            "---  ------                 --------------  -----  \n",
            " 0   adult                  45460 non-null  object \n",
            " 1   belongs_to_collection  4490 non-null   object \n",
            " 2   budget                 45460 non-null  object \n",
            " 3   genres                 45460 non-null  object \n",
            " 4   homepage               7778 non-null   object \n",
            " 5   id                     45460 non-null  object \n",
            " 6   imdb_id                45443 non-null  object \n",
            " 7   original_language      45449 non-null  object \n",
            " 8   original_title         45460 non-null  object \n",
            " 9   overview               44506 non-null  object \n",
            " 10  popularity             45460 non-null  object \n",
            " 11  poster_path            45077 non-null  object \n",
            " 12  production_companies   45460 non-null  object \n",
            " 13  production_countries   45460 non-null  object \n",
            " 14  release_date           45376 non-null  object \n",
            " 15  revenue                45460 non-null  float64\n",
            " 16  runtime                45203 non-null  float64\n",
            " 17  spoken_languages       45460 non-null  object \n",
            " 18  status                 45379 non-null  object \n",
            " 19  tagline                20412 non-null  object \n",
            " 20  title                  45460 non-null  object \n",
            " 21  video                  45460 non-null  object \n",
            " 22  vote_average           45460 non-null  float64\n",
            " 23  vote_count             45460 non-null  float64\n",
            "dtypes: float64(4), object(20)\n",
            "memory usage: 8.7+ MB\n"
          ],
          "name": "stdout"
        }
      ]
    },
    {
      "cell_type": "code",
      "metadata": {
        "colab": {
          "base_uri": "https://localhost:8080/"
        },
        "id": "wBvDVhiW1Cq_",
        "outputId": "1ff98c37-981e-48f7-8405-a15538e41851"
      },
      "source": [
        "#Cleaning the \"the_movies_df\"\n",
        "the_movies_df = the_movies_df.drop(columns = ['adult', 'belongs_to_collection', 'budget', 'genres', 'homepage', 'imdb_id', 'original_language', 'original_title', 'overview', 'poster_path', 'production_companies', 'production_countries', 'release_date', 'revenue', 'runtime', 'spoken_languages', 'status', 'tagline', 'video'])\n",
        "the_movies_df.info()"
      ],
      "execution_count": 4,
      "outputs": [
        {
          "output_type": "stream",
          "text": [
            "<class 'pandas.core.frame.DataFrame'>\n",
            "Int64Index: 45460 entries, 0 to 45465\n",
            "Data columns (total 5 columns):\n",
            " #   Column        Non-Null Count  Dtype  \n",
            "---  ------        --------------  -----  \n",
            " 0   id            45460 non-null  object \n",
            " 1   popularity    45460 non-null  object \n",
            " 2   title         45460 non-null  object \n",
            " 3   vote_average  45460 non-null  float64\n",
            " 4   vote_count    45460 non-null  float64\n",
            "dtypes: float64(2), object(3)\n",
            "memory usage: 2.1+ MB\n"
          ],
          "name": "stdout"
        }
      ]
    },
    {
      "cell_type": "code",
      "metadata": {
        "colab": {
          "base_uri": "https://localhost:8080/"
        },
        "id": "kF5ACl0OsgNT",
        "outputId": "2f54b7ea-ff00-41b3-c882-c5fe6e0cc9b8"
      },
      "source": [
        "#Converting popularity to float64\n",
        "the_movies_df[\"popularity\"] = pd.to_numeric(the_movies_df[\"popularity\"])\n",
        "the_movies_df[\"id\"] = pd.to_numeric(the_movies_df[\"id\"])\n",
        "\n",
        "the_movies_df.info()"
      ],
      "execution_count": 5,
      "outputs": [
        {
          "output_type": "stream",
          "text": [
            "<class 'pandas.core.frame.DataFrame'>\n",
            "Int64Index: 45460 entries, 0 to 45465\n",
            "Data columns (total 5 columns):\n",
            " #   Column        Non-Null Count  Dtype  \n",
            "---  ------        --------------  -----  \n",
            " 0   id            45460 non-null  int64  \n",
            " 1   popularity    45460 non-null  float64\n",
            " 2   title         45460 non-null  object \n",
            " 3   vote_average  45460 non-null  float64\n",
            " 4   vote_count    45460 non-null  float64\n",
            "dtypes: float64(3), int64(1), object(1)\n",
            "memory usage: 2.1+ MB\n"
          ],
          "name": "stdout"
        }
      ]
    },
    {
      "cell_type": "code",
      "metadata": {
        "colab": {
          "base_uri": "https://localhost:8080/",
          "height": 204
        },
        "id": "5CY1ZsYN4VRh",
        "outputId": "53515543-4367-4b46-d875-66ee956069cd"
      },
      "source": [
        "#Reordering the columns of \"the_movies_df\" \n",
        "the_movies_df = the_movies_df.reindex(columns=['id', 'title', 'vote_average', 'vote_count', 'popularity'])\n",
        "the_movies_df.head()"
      ],
      "execution_count": 6,
      "outputs": [
        {
          "output_type": "execute_result",
          "data": {
            "text/html": [
              "<div>\n",
              "<style scoped>\n",
              "    .dataframe tbody tr th:only-of-type {\n",
              "        vertical-align: middle;\n",
              "    }\n",
              "\n",
              "    .dataframe tbody tr th {\n",
              "        vertical-align: top;\n",
              "    }\n",
              "\n",
              "    .dataframe thead th {\n",
              "        text-align: right;\n",
              "    }\n",
              "</style>\n",
              "<table border=\"1\" class=\"dataframe\">\n",
              "  <thead>\n",
              "    <tr style=\"text-align: right;\">\n",
              "      <th></th>\n",
              "      <th>id</th>\n",
              "      <th>title</th>\n",
              "      <th>vote_average</th>\n",
              "      <th>vote_count</th>\n",
              "      <th>popularity</th>\n",
              "    </tr>\n",
              "  </thead>\n",
              "  <tbody>\n",
              "    <tr>\n",
              "      <th>0</th>\n",
              "      <td>862</td>\n",
              "      <td>Toy Story</td>\n",
              "      <td>7.7</td>\n",
              "      <td>5415.0</td>\n",
              "      <td>21.946943</td>\n",
              "    </tr>\n",
              "    <tr>\n",
              "      <th>1</th>\n",
              "      <td>8844</td>\n",
              "      <td>Jumanji</td>\n",
              "      <td>6.9</td>\n",
              "      <td>2413.0</td>\n",
              "      <td>17.015539</td>\n",
              "    </tr>\n",
              "    <tr>\n",
              "      <th>2</th>\n",
              "      <td>15602</td>\n",
              "      <td>Grumpier Old Men</td>\n",
              "      <td>6.5</td>\n",
              "      <td>92.0</td>\n",
              "      <td>11.712900</td>\n",
              "    </tr>\n",
              "    <tr>\n",
              "      <th>3</th>\n",
              "      <td>31357</td>\n",
              "      <td>Waiting to Exhale</td>\n",
              "      <td>6.1</td>\n",
              "      <td>34.0</td>\n",
              "      <td>3.859495</td>\n",
              "    </tr>\n",
              "    <tr>\n",
              "      <th>4</th>\n",
              "      <td>11862</td>\n",
              "      <td>Father of the Bride Part II</td>\n",
              "      <td>5.7</td>\n",
              "      <td>173.0</td>\n",
              "      <td>8.387519</td>\n",
              "    </tr>\n",
              "  </tbody>\n",
              "</table>\n",
              "</div>"
            ],
            "text/plain": [
              "      id                        title  vote_average  vote_count  popularity\n",
              "0    862                    Toy Story           7.7      5415.0   21.946943\n",
              "1   8844                      Jumanji           6.9      2413.0   17.015539\n",
              "2  15602             Grumpier Old Men           6.5        92.0   11.712900\n",
              "3  31357            Waiting to Exhale           6.1        34.0    3.859495\n",
              "4  11862  Father of the Bride Part II           5.7       173.0    8.387519"
            ]
          },
          "metadata": {
            "tags": []
          },
          "execution_count": 6
        }
      ]
    },
    {
      "cell_type": "code",
      "metadata": {
        "colab": {
          "base_uri": "https://localhost:8080/",
          "height": 204
        },
        "id": "5_VRmhKk4Zb4",
        "outputId": "5279980b-3f39-44eb-c0de-3c8f19bb8105"
      },
      "source": [
        "#Normalizing the \"vote_average\" in range 0 to 5\n",
        "the_movies_df['vote_average'] = (the_movies_df['vote_average'] - the_movies_df['vote_average'].min()) / (the_movies_df['vote_average'].max() - the_movies_df['vote_average'].min())*5\n",
        "the_movies_df.head()"
      ],
      "execution_count": 7,
      "outputs": [
        {
          "output_type": "execute_result",
          "data": {
            "text/html": [
              "<div>\n",
              "<style scoped>\n",
              "    .dataframe tbody tr th:only-of-type {\n",
              "        vertical-align: middle;\n",
              "    }\n",
              "\n",
              "    .dataframe tbody tr th {\n",
              "        vertical-align: top;\n",
              "    }\n",
              "\n",
              "    .dataframe thead th {\n",
              "        text-align: right;\n",
              "    }\n",
              "</style>\n",
              "<table border=\"1\" class=\"dataframe\">\n",
              "  <thead>\n",
              "    <tr style=\"text-align: right;\">\n",
              "      <th></th>\n",
              "      <th>id</th>\n",
              "      <th>title</th>\n",
              "      <th>vote_average</th>\n",
              "      <th>vote_count</th>\n",
              "      <th>popularity</th>\n",
              "    </tr>\n",
              "  </thead>\n",
              "  <tbody>\n",
              "    <tr>\n",
              "      <th>0</th>\n",
              "      <td>862</td>\n",
              "      <td>Toy Story</td>\n",
              "      <td>3.85</td>\n",
              "      <td>5415.0</td>\n",
              "      <td>21.946943</td>\n",
              "    </tr>\n",
              "    <tr>\n",
              "      <th>1</th>\n",
              "      <td>8844</td>\n",
              "      <td>Jumanji</td>\n",
              "      <td>3.45</td>\n",
              "      <td>2413.0</td>\n",
              "      <td>17.015539</td>\n",
              "    </tr>\n",
              "    <tr>\n",
              "      <th>2</th>\n",
              "      <td>15602</td>\n",
              "      <td>Grumpier Old Men</td>\n",
              "      <td>3.25</td>\n",
              "      <td>92.0</td>\n",
              "      <td>11.712900</td>\n",
              "    </tr>\n",
              "    <tr>\n",
              "      <th>3</th>\n",
              "      <td>31357</td>\n",
              "      <td>Waiting to Exhale</td>\n",
              "      <td>3.05</td>\n",
              "      <td>34.0</td>\n",
              "      <td>3.859495</td>\n",
              "    </tr>\n",
              "    <tr>\n",
              "      <th>4</th>\n",
              "      <td>11862</td>\n",
              "      <td>Father of the Bride Part II</td>\n",
              "      <td>2.85</td>\n",
              "      <td>173.0</td>\n",
              "      <td>8.387519</td>\n",
              "    </tr>\n",
              "  </tbody>\n",
              "</table>\n",
              "</div>"
            ],
            "text/plain": [
              "      id                        title  vote_average  vote_count  popularity\n",
              "0    862                    Toy Story          3.85      5415.0   21.946943\n",
              "1   8844                      Jumanji          3.45      2413.0   17.015539\n",
              "2  15602             Grumpier Old Men          3.25        92.0   11.712900\n",
              "3  31357            Waiting to Exhale          3.05        34.0    3.859495\n",
              "4  11862  Father of the Bride Part II          2.85       173.0    8.387519"
            ]
          },
          "metadata": {
            "tags": []
          },
          "execution_count": 7
        }
      ]
    },
    {
      "cell_type": "markdown",
      "metadata": {
        "id": "OlO7EMMdlYOr"
      },
      "source": [
        "## Why weighted average?\n",
        "\n",
        "##### There can be movies which have rating = 10 but have only 1 vote, in-order to avoid the overall ranking to be influenced by such ratings, we are using IMDB's weighted rating formula"
      ]
    },
    {
      "cell_type": "markdown",
      "metadata": {
        "id": "QW1TiPSp8Pfa"
      },
      "source": [
        "##IMDB weighted rating \n"
      ]
    },
    {
      "cell_type": "code",
      "metadata": {
        "id": "tkr7CoM28dt4"
      },
      "source": [
        "R = the_movies_df['vote_average']\n",
        "v = the_movies_df['vote_count']\n",
        "m = the_movies_df['vote_count'].quantile(0.75) #number of votes below which there are 75% of dataset values \n",
        "C = the_movies_df['vote_average'].mean()"
      ],
      "execution_count": 8,
      "outputs": []
    },
    {
      "cell_type": "code",
      "metadata": {
        "colab": {
          "base_uri": "https://localhost:8080/",
          "height": 204
        },
        "id": "i0GvtRb-9E44",
        "outputId": "0c237dc2-5715-4520-f014-642ec4765f91"
      },
      "source": [
        "the_movies_df['weighted_average_rating'] = (R*v + C*m)/(v+m)\n",
        "the_movies_df.head()"
      ],
      "execution_count": 9,
      "outputs": [
        {
          "output_type": "execute_result",
          "data": {
            "text/html": [
              "<div>\n",
              "<style scoped>\n",
              "    .dataframe tbody tr th:only-of-type {\n",
              "        vertical-align: middle;\n",
              "    }\n",
              "\n",
              "    .dataframe tbody tr th {\n",
              "        vertical-align: top;\n",
              "    }\n",
              "\n",
              "    .dataframe thead th {\n",
              "        text-align: right;\n",
              "    }\n",
              "</style>\n",
              "<table border=\"1\" class=\"dataframe\">\n",
              "  <thead>\n",
              "    <tr style=\"text-align: right;\">\n",
              "      <th></th>\n",
              "      <th>id</th>\n",
              "      <th>title</th>\n",
              "      <th>vote_average</th>\n",
              "      <th>vote_count</th>\n",
              "      <th>popularity</th>\n",
              "      <th>weighted_average_rating</th>\n",
              "    </tr>\n",
              "  </thead>\n",
              "  <tbody>\n",
              "    <tr>\n",
              "      <th>0</th>\n",
              "      <td>862</td>\n",
              "      <td>Toy Story</td>\n",
              "      <td>3.85</td>\n",
              "      <td>5415.0</td>\n",
              "      <td>21.946943</td>\n",
              "      <td>3.843505</td>\n",
              "    </tr>\n",
              "    <tr>\n",
              "      <th>1</th>\n",
              "      <td>8844</td>\n",
              "      <td>Jumanji</td>\n",
              "      <td>3.45</td>\n",
              "      <td>2413.0</td>\n",
              "      <td>17.015539</td>\n",
              "      <td>3.441095</td>\n",
              "    </tr>\n",
              "    <tr>\n",
              "      <th>2</th>\n",
              "      <td>15602</td>\n",
              "      <td>Grumpier Old Men</td>\n",
              "      <td>3.25</td>\n",
              "      <td>92.0</td>\n",
              "      <td>11.712900</td>\n",
              "      <td>3.131028</td>\n",
              "    </tr>\n",
              "    <tr>\n",
              "      <th>3</th>\n",
              "      <td>31357</td>\n",
              "      <td>Waiting to Exhale</td>\n",
              "      <td>3.05</td>\n",
              "      <td>34.0</td>\n",
              "      <td>3.859495</td>\n",
              "      <td>2.929552</td>\n",
              "    </tr>\n",
              "    <tr>\n",
              "      <th>4</th>\n",
              "      <td>11862</td>\n",
              "      <td>Father of the Bride Part II</td>\n",
              "      <td>2.85</td>\n",
              "      <td>173.0</td>\n",
              "      <td>8.387519</td>\n",
              "      <td>2.843283</td>\n",
              "    </tr>\n",
              "  </tbody>\n",
              "</table>\n",
              "</div>"
            ],
            "text/plain": [
              "      id                        title  ...  popularity  weighted_average_rating\n",
              "0    862                    Toy Story  ...   21.946943                 3.843505\n",
              "1   8844                      Jumanji  ...   17.015539                 3.441095\n",
              "2  15602             Grumpier Old Men  ...   11.712900                 3.131028\n",
              "3  31357            Waiting to Exhale  ...    3.859495                 2.929552\n",
              "4  11862  Father of the Bride Part II  ...    8.387519                 2.843283\n",
              "\n",
              "[5 rows x 6 columns]"
            ]
          },
          "metadata": {
            "tags": []
          },
          "execution_count": 9
        }
      ]
    },
    {
      "cell_type": "code",
      "metadata": {
        "colab": {
          "base_uri": "https://localhost:8080/",
          "height": 359
        },
        "id": "-UBr5yH89awG",
        "outputId": "5442da0f-9043-4025-82fa-cafd5cda2a1a"
      },
      "source": [
        "the_movies_df_weighted_average_rating = the_movies_df.sort_values('weighted_average_rating', ascending = False)\n",
        "the_movies_df_weighted_average_rating.head(10)"
      ],
      "execution_count": 10,
      "outputs": [
        {
          "output_type": "execute_result",
          "data": {
            "text/html": [
              "<div>\n",
              "<style scoped>\n",
              "    .dataframe tbody tr th:only-of-type {\n",
              "        vertical-align: middle;\n",
              "    }\n",
              "\n",
              "    .dataframe tbody tr th {\n",
              "        vertical-align: top;\n",
              "    }\n",
              "\n",
              "    .dataframe thead th {\n",
              "        text-align: right;\n",
              "    }\n",
              "</style>\n",
              "<table border=\"1\" class=\"dataframe\">\n",
              "  <thead>\n",
              "    <tr style=\"text-align: right;\">\n",
              "      <th></th>\n",
              "      <th>id</th>\n",
              "      <th>title</th>\n",
              "      <th>vote_average</th>\n",
              "      <th>vote_count</th>\n",
              "      <th>popularity</th>\n",
              "      <th>weighted_average_rating</th>\n",
              "    </tr>\n",
              "  </thead>\n",
              "  <tbody>\n",
              "    <tr>\n",
              "      <th>10309</th>\n",
              "      <td>19404</td>\n",
              "      <td>Dilwale Dulhania Le Jayenge</td>\n",
              "      <td>4.55</td>\n",
              "      <td>661.0</td>\n",
              "      <td>34.457024</td>\n",
              "      <td>4.464834</td>\n",
              "    </tr>\n",
              "    <tr>\n",
              "      <th>314</th>\n",
              "      <td>278</td>\n",
              "      <td>The Shawshank Redemption</td>\n",
              "      <td>4.25</td>\n",
              "      <td>8358.0</td>\n",
              "      <td>51.645403</td>\n",
              "      <td>4.244162</td>\n",
              "    </tr>\n",
              "    <tr>\n",
              "      <th>834</th>\n",
              "      <td>238</td>\n",
              "      <td>The Godfather</td>\n",
              "      <td>4.25</td>\n",
              "      <td>6024.0</td>\n",
              "      <td>41.109264</td>\n",
              "      <td>4.241913</td>\n",
              "    </tr>\n",
              "    <tr>\n",
              "      <th>40251</th>\n",
              "      <td>372058</td>\n",
              "      <td>Your Name.</td>\n",
              "      <td>4.25</td>\n",
              "      <td>1030.0</td>\n",
              "      <td>34.461252</td>\n",
              "      <td>4.203956</td>\n",
              "    </tr>\n",
              "    <tr>\n",
              "      <th>12481</th>\n",
              "      <td>155</td>\n",
              "      <td>The Dark Knight</td>\n",
              "      <td>4.15</td>\n",
              "      <td>12269.0</td>\n",
              "      <td>123.167259</td>\n",
              "      <td>4.146294</td>\n",
              "    </tr>\n",
              "    <tr>\n",
              "      <th>2843</th>\n",
              "      <td>550</td>\n",
              "      <td>Fight Club</td>\n",
              "      <td>4.15</td>\n",
              "      <td>9678.0</td>\n",
              "      <td>63.869599</td>\n",
              "      <td>4.145306</td>\n",
              "    </tr>\n",
              "    <tr>\n",
              "      <th>292</th>\n",
              "      <td>680</td>\n",
              "      <td>Pulp Fiction</td>\n",
              "      <td>4.15</td>\n",
              "      <td>8670.0</td>\n",
              "      <td>140.950236</td>\n",
              "      <td>4.144762</td>\n",
              "    </tr>\n",
              "    <tr>\n",
              "      <th>39085</th>\n",
              "      <td>192040</td>\n",
              "      <td>Planet Earth</td>\n",
              "      <td>4.40</td>\n",
              "      <td>176.0</td>\n",
              "      <td>4.501137</td>\n",
              "      <td>4.142426</td>\n",
              "    </tr>\n",
              "    <tr>\n",
              "      <th>522</th>\n",
              "      <td>424</td>\n",
              "      <td>Schindler's List</td>\n",
              "      <td>4.15</td>\n",
              "      <td>4436.0</td>\n",
              "      <td>41.725123</td>\n",
              "      <td>4.139801</td>\n",
              "    </tr>\n",
              "    <tr>\n",
              "      <th>23673</th>\n",
              "      <td>244786</td>\n",
              "      <td>Whiplash</td>\n",
              "      <td>4.15</td>\n",
              "      <td>4376.0</td>\n",
              "      <td>64.299990</td>\n",
              "      <td>4.139662</td>\n",
              "    </tr>\n",
              "  </tbody>\n",
              "</table>\n",
              "</div>"
            ],
            "text/plain": [
              "           id                        title  ...  popularity  weighted_average_rating\n",
              "10309   19404  Dilwale Dulhania Le Jayenge  ...   34.457024                 4.464834\n",
              "314       278     The Shawshank Redemption  ...   51.645403                 4.244162\n",
              "834       238                The Godfather  ...   41.109264                 4.241913\n",
              "40251  372058                   Your Name.  ...   34.461252                 4.203956\n",
              "12481     155              The Dark Knight  ...  123.167259                 4.146294\n",
              "2843      550                   Fight Club  ...   63.869599                 4.145306\n",
              "292       680                 Pulp Fiction  ...  140.950236                 4.144762\n",
              "39085  192040                 Planet Earth  ...    4.501137                 4.142426\n",
              "522       424             Schindler's List  ...   41.725123                 4.139801\n",
              "23673  244786                     Whiplash  ...   64.299990                 4.139662\n",
              "\n",
              "[10 rows x 6 columns]"
            ]
          },
          "metadata": {
            "tags": []
          },
          "execution_count": 10
        }
      ]
    },
    {
      "cell_type": "markdown",
      "metadata": {
        "id": "4UV9Tp1Qn6uR"
      },
      "source": [
        "#Weighted average + popularity"
      ]
    },
    {
      "cell_type": "markdown",
      "metadata": {
        "id": "qPpsNYIOmSS6"
      },
      "source": [
        "## Why include popularity?\n",
        "##### There can be popular movies for which not many people have voted, in-order to account for that, we'll give 50% weightage to popularity and 50% to the weighted_average_rating"
      ]
    },
    {
      "cell_type": "code",
      "metadata": {
        "colab": {
          "base_uri": "https://localhost:8080/",
          "height": 204
        },
        "id": "gvG5Ksh5oQ6W",
        "outputId": "b5c23a4a-5647-4a45-9a43-1fdcf316682d"
      },
      "source": [
        "#Normalizing the weighted_average_rating and popularity as the popularity and weighted average have different magnitude scale\n",
        "the_movies_df['weighted_average_rating'] = (the_movies_df['weighted_average_rating'] - the_movies_df['weighted_average_rating'].min()) / (the_movies_df['weighted_average_rating'].max() - the_movies_df['weighted_average_rating'].min())\n",
        "the_movies_df['popularity'] = (the_movies_df['popularity'] - the_movies_df['popularity'].min()) / (the_movies_df['popularity'].max() - the_movies_df['popularity'].min())\n",
        "the_movies_df.head()"
      ],
      "execution_count": 11,
      "outputs": [
        {
          "output_type": "execute_result",
          "data": {
            "text/html": [
              "<div>\n",
              "<style scoped>\n",
              "    .dataframe tbody tr th:only-of-type {\n",
              "        vertical-align: middle;\n",
              "    }\n",
              "\n",
              "    .dataframe tbody tr th {\n",
              "        vertical-align: top;\n",
              "    }\n",
              "\n",
              "    .dataframe thead th {\n",
              "        text-align: right;\n",
              "    }\n",
              "</style>\n",
              "<table border=\"1\" class=\"dataframe\">\n",
              "  <thead>\n",
              "    <tr style=\"text-align: right;\">\n",
              "      <th></th>\n",
              "      <th>id</th>\n",
              "      <th>title</th>\n",
              "      <th>vote_average</th>\n",
              "      <th>vote_count</th>\n",
              "      <th>popularity</th>\n",
              "      <th>weighted_average_rating</th>\n",
              "    </tr>\n",
              "  </thead>\n",
              "  <tbody>\n",
              "    <tr>\n",
              "      <th>0</th>\n",
              "      <td>862</td>\n",
              "      <td>Toy Story</td>\n",
              "      <td>3.85</td>\n",
              "      <td>5415.0</td>\n",
              "      <td>0.040087</td>\n",
              "      <td>0.818679</td>\n",
              "    </tr>\n",
              "    <tr>\n",
              "      <th>1</th>\n",
              "      <td>8844</td>\n",
              "      <td>Jumanji</td>\n",
              "      <td>3.45</td>\n",
              "      <td>2413.0</td>\n",
              "      <td>0.031079</td>\n",
              "      <td>0.701245</td>\n",
              "    </tr>\n",
              "    <tr>\n",
              "      <th>2</th>\n",
              "      <td>15602</td>\n",
              "      <td>Grumpier Old Men</td>\n",
              "      <td>3.25</td>\n",
              "      <td>92.0</td>\n",
              "      <td>0.021394</td>\n",
              "      <td>0.610759</td>\n",
              "    </tr>\n",
              "    <tr>\n",
              "      <th>3</th>\n",
              "      <td>31357</td>\n",
              "      <td>Waiting to Exhale</td>\n",
              "      <td>3.05</td>\n",
              "      <td>34.0</td>\n",
              "      <td>0.007049</td>\n",
              "      <td>0.551963</td>\n",
              "    </tr>\n",
              "    <tr>\n",
              "      <th>4</th>\n",
              "      <td>11862</td>\n",
              "      <td>Father of the Bride Part II</td>\n",
              "      <td>2.85</td>\n",
              "      <td>173.0</td>\n",
              "      <td>0.015320</td>\n",
              "      <td>0.526787</td>\n",
              "    </tr>\n",
              "  </tbody>\n",
              "</table>\n",
              "</div>"
            ],
            "text/plain": [
              "      id                        title  ...  popularity  weighted_average_rating\n",
              "0    862                    Toy Story  ...    0.040087                 0.818679\n",
              "1   8844                      Jumanji  ...    0.031079                 0.701245\n",
              "2  15602             Grumpier Old Men  ...    0.021394                 0.610759\n",
              "3  31357            Waiting to Exhale  ...    0.007049                 0.551963\n",
              "4  11862  Father of the Bride Part II  ...    0.015320                 0.526787\n",
              "\n",
              "[5 rows x 6 columns]"
            ]
          },
          "metadata": {
            "tags": []
          },
          "execution_count": 11
        }
      ]
    },
    {
      "cell_type": "code",
      "metadata": {
        "colab": {
          "base_uri": "https://localhost:8080/",
          "height": 204
        },
        "id": "xhqVkhlMoGuz",
        "outputId": "3c238b00-93b9-40d0-ec39-491d027ce242"
      },
      "source": [
        "the_movies_df['weighted_rating_popularity'] = (the_movies_df['weighted_average_rating']*0.5) + (the_movies_df['popularity']*0.5)\n",
        "the_movies_df.head()"
      ],
      "execution_count": 12,
      "outputs": [
        {
          "output_type": "execute_result",
          "data": {
            "text/html": [
              "<div>\n",
              "<style scoped>\n",
              "    .dataframe tbody tr th:only-of-type {\n",
              "        vertical-align: middle;\n",
              "    }\n",
              "\n",
              "    .dataframe tbody tr th {\n",
              "        vertical-align: top;\n",
              "    }\n",
              "\n",
              "    .dataframe thead th {\n",
              "        text-align: right;\n",
              "    }\n",
              "</style>\n",
              "<table border=\"1\" class=\"dataframe\">\n",
              "  <thead>\n",
              "    <tr style=\"text-align: right;\">\n",
              "      <th></th>\n",
              "      <th>id</th>\n",
              "      <th>title</th>\n",
              "      <th>vote_average</th>\n",
              "      <th>vote_count</th>\n",
              "      <th>popularity</th>\n",
              "      <th>weighted_average_rating</th>\n",
              "      <th>weighted_rating_popularity</th>\n",
              "    </tr>\n",
              "  </thead>\n",
              "  <tbody>\n",
              "    <tr>\n",
              "      <th>0</th>\n",
              "      <td>862</td>\n",
              "      <td>Toy Story</td>\n",
              "      <td>3.85</td>\n",
              "      <td>5415.0</td>\n",
              "      <td>0.040087</td>\n",
              "      <td>0.818679</td>\n",
              "      <td>0.429383</td>\n",
              "    </tr>\n",
              "    <tr>\n",
              "      <th>1</th>\n",
              "      <td>8844</td>\n",
              "      <td>Jumanji</td>\n",
              "      <td>3.45</td>\n",
              "      <td>2413.0</td>\n",
              "      <td>0.031079</td>\n",
              "      <td>0.701245</td>\n",
              "      <td>0.366162</td>\n",
              "    </tr>\n",
              "    <tr>\n",
              "      <th>2</th>\n",
              "      <td>15602</td>\n",
              "      <td>Grumpier Old Men</td>\n",
              "      <td>3.25</td>\n",
              "      <td>92.0</td>\n",
              "      <td>0.021394</td>\n",
              "      <td>0.610759</td>\n",
              "      <td>0.316077</td>\n",
              "    </tr>\n",
              "    <tr>\n",
              "      <th>3</th>\n",
              "      <td>31357</td>\n",
              "      <td>Waiting to Exhale</td>\n",
              "      <td>3.05</td>\n",
              "      <td>34.0</td>\n",
              "      <td>0.007049</td>\n",
              "      <td>0.551963</td>\n",
              "      <td>0.279506</td>\n",
              "    </tr>\n",
              "    <tr>\n",
              "      <th>4</th>\n",
              "      <td>11862</td>\n",
              "      <td>Father of the Bride Part II</td>\n",
              "      <td>2.85</td>\n",
              "      <td>173.0</td>\n",
              "      <td>0.015320</td>\n",
              "      <td>0.526787</td>\n",
              "      <td>0.271054</td>\n",
              "    </tr>\n",
              "  </tbody>\n",
              "</table>\n",
              "</div>"
            ],
            "text/plain": [
              "      id  ... weighted_rating_popularity\n",
              "0    862  ...                   0.429383\n",
              "1   8844  ...                   0.366162\n",
              "2  15602  ...                   0.316077\n",
              "3  31357  ...                   0.279506\n",
              "4  11862  ...                   0.271054\n",
              "\n",
              "[5 rows x 7 columns]"
            ]
          },
          "metadata": {
            "tags": []
          },
          "execution_count": 12
        }
      ]
    },
    {
      "cell_type": "code",
      "metadata": {
        "colab": {
          "base_uri": "https://localhost:8080/",
          "height": 359
        },
        "id": "3MXOGhKBqspF",
        "outputId": "b41c2739-fd5e-41df-f4d2-2b349773bff9"
      },
      "source": [
        "the_movies_df_weighted_rating_popularity = the_movies_df.sort_values('weighted_rating_popularity', ascending = False)\n",
        "the_movies_df_weighted_rating_popularity.head(10)"
      ],
      "execution_count": 13,
      "outputs": [
        {
          "output_type": "execute_result",
          "data": {
            "text/html": [
              "<div>\n",
              "<style scoped>\n",
              "    .dataframe tbody tr th:only-of-type {\n",
              "        vertical-align: middle;\n",
              "    }\n",
              "\n",
              "    .dataframe tbody tr th {\n",
              "        vertical-align: top;\n",
              "    }\n",
              "\n",
              "    .dataframe thead th {\n",
              "        text-align: right;\n",
              "    }\n",
              "</style>\n",
              "<table border=\"1\" class=\"dataframe\">\n",
              "  <thead>\n",
              "    <tr style=\"text-align: right;\">\n",
              "      <th></th>\n",
              "      <th>id</th>\n",
              "      <th>title</th>\n",
              "      <th>vote_average</th>\n",
              "      <th>vote_count</th>\n",
              "      <th>popularity</th>\n",
              "      <th>weighted_average_rating</th>\n",
              "      <th>weighted_rating_popularity</th>\n",
              "    </tr>\n",
              "  </thead>\n",
              "  <tbody>\n",
              "    <tr>\n",
              "      <th>30700</th>\n",
              "      <td>211672</td>\n",
              "      <td>Minions</td>\n",
              "      <td>3.20</td>\n",
              "      <td>4729.0</td>\n",
              "      <td>1.000000</td>\n",
              "      <td>0.630073</td>\n",
              "      <td>0.815036</td>\n",
              "    </tr>\n",
              "    <tr>\n",
              "      <th>33356</th>\n",
              "      <td>297762</td>\n",
              "      <td>Wonder Woman</td>\n",
              "      <td>3.60</td>\n",
              "      <td>5025.0</td>\n",
              "      <td>0.537613</td>\n",
              "      <td>0.746067</td>\n",
              "      <td>0.641840</td>\n",
              "    </tr>\n",
              "    <tr>\n",
              "      <th>24455</th>\n",
              "      <td>177572</td>\n",
              "      <td>Big Hero 6</td>\n",
              "      <td>3.90</td>\n",
              "      <td>6289.0</td>\n",
              "      <td>0.390602</td>\n",
              "      <td>0.833454</td>\n",
              "      <td>0.612028</td>\n",
              "    </tr>\n",
              "    <tr>\n",
              "      <th>42222</th>\n",
              "      <td>321612</td>\n",
              "      <td>Beauty and the Beast</td>\n",
              "      <td>3.40</td>\n",
              "      <td>5530.0</td>\n",
              "      <td>0.524675</td>\n",
              "      <td>0.688199</td>\n",
              "      <td>0.606437</td>\n",
              "    </tr>\n",
              "    <tr>\n",
              "      <th>292</th>\n",
              "      <td>680</td>\n",
              "      <td>Pulp Fiction</td>\n",
              "      <td>4.15</td>\n",
              "      <td>8670.0</td>\n",
              "      <td>0.257449</td>\n",
              "      <td>0.906594</td>\n",
              "      <td>0.582022</td>\n",
              "    </tr>\n",
              "    <tr>\n",
              "      <th>43644</th>\n",
              "      <td>339403</td>\n",
              "      <td>Baby Driver</td>\n",
              "      <td>3.60</td>\n",
              "      <td>2083.0</td>\n",
              "      <td>0.416507</td>\n",
              "      <td>0.743911</td>\n",
              "      <td>0.580209</td>\n",
              "    </tr>\n",
              "    <tr>\n",
              "      <th>26566</th>\n",
              "      <td>283995</td>\n",
              "      <td>Guardians of the Galaxy Vol. 2</td>\n",
              "      <td>3.80</td>\n",
              "      <td>4858.0</td>\n",
              "      <td>0.338511</td>\n",
              "      <td>0.803974</td>\n",
              "      <td>0.571243</td>\n",
              "    </tr>\n",
              "    <tr>\n",
              "      <th>12481</th>\n",
              "      <td>155</td>\n",
              "      <td>The Dark Knight</td>\n",
              "      <td>4.15</td>\n",
              "      <td>12269.0</td>\n",
              "      <td>0.224968</td>\n",
              "      <td>0.907042</td>\n",
              "      <td>0.566005</td>\n",
              "    </tr>\n",
              "    <tr>\n",
              "      <th>23675</th>\n",
              "      <td>210577</td>\n",
              "      <td>Gone Girl</td>\n",
              "      <td>3.95</td>\n",
              "      <td>6023.0</td>\n",
              "      <td>0.282748</td>\n",
              "      <td>0.847889</td>\n",
              "      <td>0.565318</td>\n",
              "    </tr>\n",
              "    <tr>\n",
              "      <th>26564</th>\n",
              "      <td>293660</td>\n",
              "      <td>Deadpool</td>\n",
              "      <td>3.70</td>\n",
              "      <td>11444.0</td>\n",
              "      <td>0.343132</td>\n",
              "      <td>0.776031</td>\n",
              "      <td>0.559581</td>\n",
              "    </tr>\n",
              "  </tbody>\n",
              "</table>\n",
              "</div>"
            ],
            "text/plain": [
              "           id  ... weighted_rating_popularity\n",
              "30700  211672  ...                   0.815036\n",
              "33356  297762  ...                   0.641840\n",
              "24455  177572  ...                   0.612028\n",
              "42222  321612  ...                   0.606437\n",
              "292       680  ...                   0.582022\n",
              "43644  339403  ...                   0.580209\n",
              "26566  283995  ...                   0.571243\n",
              "12481     155  ...                   0.566005\n",
              "23675  210577  ...                   0.565318\n",
              "26564  293660  ...                   0.559581\n",
              "\n",
              "[10 rows x 7 columns]"
            ]
          },
          "metadata": {
            "tags": []
          },
          "execution_count": 13
        }
      ]
    },
    {
      "cell_type": "code",
      "metadata": {
        "id": "EvpPyBuUtEaU"
      },
      "source": [
        "predict_df = the_movies_df_weighted_rating_popularity[['id','weighted_average_rating','weighted_rating_popularity']]"
      ],
      "execution_count": 14,
      "outputs": []
    },
    {
      "cell_type": "code",
      "metadata": {
        "id": "X9XpRB7DtdSV",
        "colab": {
          "base_uri": "https://localhost:8080/"
        },
        "outputId": "fb5720c7-3d43-431d-ec90-02c6a370e537"
      },
      "source": [
        "# import the data covert that into a convenient data\n",
        "PATH= 'ratings_small.csv'\n",
        "df = pd.read_csv(PATH, sep= \",\")[:100000]\n",
        "df.shape"
      ],
      "execution_count": 15,
      "outputs": [
        {
          "output_type": "execute_result",
          "data": {
            "text/plain": [
              "(100000, 4)"
            ]
          },
          "metadata": {
            "tags": []
          },
          "execution_count": 15
        }
      ]
    },
    {
      "cell_type": "code",
      "metadata": {
        "id": "udDMtoABht_p"
      },
      "source": [
        "def error(y_hat, y):\n",
        "    # MSE\n",
        "    y_hat = np.array(y_hat)\n",
        "    y = np.array(y)\n",
        "    MSE_ = (y_hat- y)**2\n",
        "    MSE = MSE_.sum()/len(y_hat)\n",
        "    return MSE"
      ],
      "execution_count": 16,
      "outputs": []
    },
    {
      "cell_type": "code",
      "metadata": {
        "id": "xjbOlCmchu-Y",
        "colab": {
          "base_uri": "https://localhost:8080/"
        },
        "outputId": "c88fd173-9d36-4e37-ba42-84ab79b112ef"
      },
      "source": [
        "from sklearn.utils import shuffle\n",
        "\n",
        "num_rows = df.shape[0]\n",
        "train, test = df.copy(deep = True), df[int(num_rows*0.8):].copy(deep = True)\n",
        "train[int(num_rows*0.8):]['rating']  = train[int(num_rows*0.8):]['rating']*0\n",
        "train = shuffle(train)"
      ],
      "execution_count": 17,
      "outputs": [
        {
          "output_type": "stream",
          "text": [
            "/usr/local/lib/python3.7/dist-packages/ipykernel_launcher.py:5: SettingWithCopyWarning: \n",
            "A value is trying to be set on a copy of a slice from a DataFrame.\n",
            "Try using .loc[row_indexer,col_indexer] = value instead\n",
            "\n",
            "See the caveats in the documentation: https://pandas.pydata.org/pandas-docs/stable/user_guide/indexing.html#returning-a-view-versus-a-copy\n",
            "  \"\"\"\n"
          ],
          "name": "stderr"
        }
      ]
    },
    {
      "cell_type": "code",
      "metadata": {
        "colab": {
          "base_uri": "https://localhost:8080/"
        },
        "id": "4F3qGOSVEfcW",
        "outputId": "1deec29e-647f-4452-dbdb-f1702f656da9"
      },
      "source": [
        "#For Weighted Average\n",
        "%%time\n",
        "# looking for optimal k\n",
        "y= test['rating']\n",
        "errors = {}\n",
        "y_hat = []\n",
        "misses = 0\n",
        "for i in test.index:\n",
        "    user_i, movie_j = map(int,[test.loc[i]['userId'], \n",
        "                               test.loc[i]['movieId']])\n",
        "    # make the prediction here\n",
        "    if movie_j in predict_df['id'].tolist():\n",
        "        predicted_rating = predict_df[\n",
        "                        predict_df['id']==movie_j]['weighted_average_rating'].values[0]*5\n",
        "    else:\n",
        "        misses+=1\n",
        "        predicted_rating = 0\n",
        "    y_hat.append(predicted_rating)\n",
        "#     print (predicted_rating)\n",
        "error_i = error(np.nan_to_num(np.array(y_hat)), y)        \n",
        "# errors[k]=error_i\n"
      ],
      "execution_count": 18,
      "outputs": [
        {
          "output_type": "stream",
          "text": [
            "CPU times: user 48.9 s, sys: 866 ms, total: 49.7 s\n",
            "Wall time: 50 s\n"
          ],
          "name": "stdout"
        }
      ]
    },
    {
      "cell_type": "code",
      "metadata": {
        "colab": {
          "base_uri": "https://localhost:8080/"
        },
        "id": "RtWOxipDEfcW",
        "outputId": "a8314eea-67c1-455b-8d22-dcf5dc59fcec"
      },
      "source": [
        "#Total misses in Weighted Average\n",
        "misses"
      ],
      "execution_count": 19,
      "outputs": [
        {
          "output_type": "execute_result",
          "data": {
            "text/plain": [
              "11138"
            ]
          },
          "metadata": {
            "tags": []
          },
          "execution_count": 19
        }
      ]
    },
    {
      "cell_type": "code",
      "metadata": {
        "colab": {
          "base_uri": "https://localhost:8080/"
        },
        "id": "is1siJvlEfcW",
        "outputId": "c123c9ec-1e40-4a7e-ce65-2b356f9fe431"
      },
      "source": [
        "predict_df[predict_df['id']==211672]['weighted_average_rating'].values[0]"
      ],
      "execution_count": 20,
      "outputs": [
        {
          "output_type": "execute_result",
          "data": {
            "text/plain": [
              "0.6300729375791358"
            ]
          },
          "metadata": {
            "tags": []
          },
          "execution_count": 20
        }
      ]
    },
    {
      "cell_type": "code",
      "metadata": {
        "colab": {
          "base_uri": "https://localhost:8080/"
        },
        "id": "aBjgKbvZEfcX",
        "outputId": "393a719a-8139-4183-b74d-70668e41aa7a"
      },
      "source": [
        "#Weighted average MSE \n",
        "error_i"
      ],
      "execution_count": 21,
      "outputs": [
        {
          "output_type": "execute_result",
          "data": {
            "text/plain": [
              "8.373335366042719"
            ]
          },
          "metadata": {
            "tags": []
          },
          "execution_count": 21
        }
      ]
    },
    {
      "cell_type": "code",
      "metadata": {
        "colab": {
          "base_uri": "https://localhost:8080/"
        },
        "id": "mMY6QABsK-fa",
        "outputId": "0711cd7e-5693-485b-b485-9a667a50f89b"
      },
      "source": [
        "#For Weighted Average + Popularity\n",
        "%%time\n",
        "# looking for optimal k\n",
        "y= test['rating']\n",
        "errors = {}\n",
        "y_hat_1 = []\n",
        "misses = 0\n",
        "for i in test.index:\n",
        "    user_i, movie_j = map(int,[test.loc[i]['userId'], \n",
        "                               test.loc[i]['movieId']])\n",
        "    # make the prediction here\n",
        "    if movie_j in predict_df['id'].tolist():\n",
        "        predicted_rating = predict_df[\n",
        "                        predict_df['id']==movie_j]['weighted_rating_popularity'].values[0]*5\n",
        "    else:\n",
        "        misses+=1\n",
        "        predicted_rating = 0\n",
        "    y_hat_1.append(predicted_rating)\n",
        "#     print (predicted_rating)\n",
        "error_i_1 = error(np.nan_to_num(np.array(y_hat_1)), y)        \n",
        "# errors[k]=error_i\n"
      ],
      "execution_count": 29,
      "outputs": [
        {
          "output_type": "stream",
          "text": [
            "CPU times: user 50.4 s, sys: 796 ms, total: 51.2 s\n",
            "Wall time: 51.5 s\n"
          ],
          "name": "stdout"
        }
      ]
    },
    {
      "cell_type": "code",
      "metadata": {
        "colab": {
          "base_uri": "https://localhost:8080/"
        },
        "id": "3YYJ_BVdLFUZ",
        "outputId": "4496f63a-1323-4d81-a8d1-c7f6a6235498"
      },
      "source": [
        "#Total misses in Weighted Average + Popularity\n",
        "misses"
      ],
      "execution_count": 30,
      "outputs": [
        {
          "output_type": "execute_result",
          "data": {
            "text/plain": [
              "11138"
            ]
          },
          "metadata": {
            "tags": []
          },
          "execution_count": 30
        }
      ]
    },
    {
      "cell_type": "code",
      "metadata": {
        "colab": {
          "base_uri": "https://localhost:8080/"
        },
        "id": "KGOFduSfLHCi",
        "outputId": "2e9dd55a-ab8b-4fe6-bae5-1381dc00db05"
      },
      "source": [
        "#Weighted average + Popularity MSE\n",
        "error_i_1"
      ],
      "execution_count": 31,
      "outputs": [
        {
          "output_type": "execute_result",
          "data": {
            "text/plain": [
              "9.948226071489083"
            ]
          },
          "metadata": {
            "tags": []
          },
          "execution_count": 31
        }
      ]
    },
    {
      "cell_type": "code",
      "metadata": {
        "colab": {
          "base_uri": "https://localhost:8080/",
          "height": 419
        },
        "id": "1P6X3J-jEfcX",
        "outputId": "3ee15d58-ed68-4038-dd5c-de2ba65707b1"
      },
      "source": [
        "predict_df"
      ],
      "execution_count": 25,
      "outputs": [
        {
          "output_type": "execute_result",
          "data": {
            "text/html": [
              "<div>\n",
              "<style scoped>\n",
              "    .dataframe tbody tr th:only-of-type {\n",
              "        vertical-align: middle;\n",
              "    }\n",
              "\n",
              "    .dataframe tbody tr th {\n",
              "        vertical-align: top;\n",
              "    }\n",
              "\n",
              "    .dataframe thead th {\n",
              "        text-align: right;\n",
              "    }\n",
              "</style>\n",
              "<table border=\"1\" class=\"dataframe\">\n",
              "  <thead>\n",
              "    <tr style=\"text-align: right;\">\n",
              "      <th></th>\n",
              "      <th>id</th>\n",
              "      <th>weighted_average_rating</th>\n",
              "      <th>weighted_rating_popularity</th>\n",
              "    </tr>\n",
              "  </thead>\n",
              "  <tbody>\n",
              "    <tr>\n",
              "      <th>30700</th>\n",
              "      <td>211672</td>\n",
              "      <td>0.630073</td>\n",
              "      <td>0.815036</td>\n",
              "    </tr>\n",
              "    <tr>\n",
              "      <th>33356</th>\n",
              "      <td>297762</td>\n",
              "      <td>0.746067</td>\n",
              "      <td>0.641840</td>\n",
              "    </tr>\n",
              "    <tr>\n",
              "      <th>24455</th>\n",
              "      <td>177572</td>\n",
              "      <td>0.833454</td>\n",
              "      <td>0.612028</td>\n",
              "    </tr>\n",
              "    <tr>\n",
              "      <th>42222</th>\n",
              "      <td>321612</td>\n",
              "      <td>0.688199</td>\n",
              "      <td>0.606437</td>\n",
              "    </tr>\n",
              "    <tr>\n",
              "      <th>292</th>\n",
              "      <td>680</td>\n",
              "      <td>0.906594</td>\n",
              "      <td>0.582022</td>\n",
              "    </tr>\n",
              "    <tr>\n",
              "      <th>...</th>\n",
              "      <td>...</td>\n",
              "      <td>...</td>\n",
              "      <td>...</td>\n",
              "    </tr>\n",
              "    <tr>\n",
              "      <th>3471</th>\n",
              "      <td>5491</td>\n",
              "      <td>0.179113</td>\n",
              "      <td>0.094375</td>\n",
              "    </tr>\n",
              "    <tr>\n",
              "      <th>17708</th>\n",
              "      <td>40016</td>\n",
              "      <td>0.172916</td>\n",
              "      <td>0.088768</td>\n",
              "    </tr>\n",
              "    <tr>\n",
              "      <th>13566</th>\n",
              "      <td>14164</td>\n",
              "      <td>0.146683</td>\n",
              "      <td>0.081448</td>\n",
              "    </tr>\n",
              "    <tr>\n",
              "      <th>43393</th>\n",
              "      <td>271404</td>\n",
              "      <td>0.132545</td>\n",
              "      <td>0.072132</td>\n",
              "    </tr>\n",
              "    <tr>\n",
              "      <th>26559</th>\n",
              "      <td>76600</td>\n",
              "      <td>0.000000</td>\n",
              "      <td>0.005498</td>\n",
              "    </tr>\n",
              "  </tbody>\n",
              "</table>\n",
              "<p>45460 rows × 3 columns</p>\n",
              "</div>"
            ],
            "text/plain": [
              "           id  weighted_average_rating  weighted_rating_popularity\n",
              "30700  211672                 0.630073                    0.815036\n",
              "33356  297762                 0.746067                    0.641840\n",
              "24455  177572                 0.833454                    0.612028\n",
              "42222  321612                 0.688199                    0.606437\n",
              "292       680                 0.906594                    0.582022\n",
              "...       ...                      ...                         ...\n",
              "3471     5491                 0.179113                    0.094375\n",
              "17708   40016                 0.172916                    0.088768\n",
              "13566   14164                 0.146683                    0.081448\n",
              "43393  271404                 0.132545                    0.072132\n",
              "26559   76600                 0.000000                    0.005498\n",
              "\n",
              "[45460 rows x 3 columns]"
            ]
          },
          "metadata": {
            "tags": []
          },
          "execution_count": 25
        }
      ]
    },
    {
      "cell_type": "code",
      "metadata": {
        "id": "ej9Ii41gEfca"
      },
      "source": [
        ""
      ],
      "execution_count": 25,
      "outputs": []
    }
  ]
}