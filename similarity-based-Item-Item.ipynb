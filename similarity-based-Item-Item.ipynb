{
 "cells": [
  {
   "cell_type": "code",
   "execution_count": 1,
   "metadata": {},
   "outputs": [],
   "source": [
    "import numpy as np\n",
    "import pandas as pd\n",
    "import matplotlib.pyplot as plt"
   ]
  },
  {
   "cell_type": "code",
   "execution_count": 2,
   "metadata": {},
   "outputs": [
    {
     "data": {
      "text/plain": [
       "(100004, 4)"
      ]
     },
     "execution_count": 2,
     "metadata": {},
     "output_type": "execute_result"
    }
   ],
   "source": [
    "# import the data covert that into a convenient data\n",
    "PATH= '/home/ac-optimus/data_science/recommendation_sys/ratings_small.csv'\n",
    "df = pd.read_csv(PATH, sep= \",\")\n",
    "# df = pd.read_csv(PATH, sep= \",\")\n",
    "df.shape"
   ]
  },
  {
   "cell_type": "code",
   "execution_count": 3,
   "metadata": {},
   "outputs": [
    {
     "data": {
      "text/html": [
       "<div>\n",
       "<style scoped>\n",
       "    .dataframe tbody tr th:only-of-type {\n",
       "        vertical-align: middle;\n",
       "    }\n",
       "\n",
       "    .dataframe tbody tr th {\n",
       "        vertical-align: top;\n",
       "    }\n",
       "\n",
       "    .dataframe thead th {\n",
       "        text-align: right;\n",
       "    }\n",
       "</style>\n",
       "<table border=\"1\" class=\"dataframe\">\n",
       "  <thead>\n",
       "    <tr style=\"text-align: right;\">\n",
       "      <th></th>\n",
       "      <th>userId</th>\n",
       "      <th>movieId</th>\n",
       "      <th>rating</th>\n",
       "    </tr>\n",
       "  </thead>\n",
       "  <tbody>\n",
       "    <tr>\n",
       "      <th>0</th>\n",
       "      <td>1</td>\n",
       "      <td>31</td>\n",
       "      <td>2.5</td>\n",
       "    </tr>\n",
       "    <tr>\n",
       "      <th>1</th>\n",
       "      <td>1</td>\n",
       "      <td>1029</td>\n",
       "      <td>3.0</td>\n",
       "    </tr>\n",
       "    <tr>\n",
       "      <th>2</th>\n",
       "      <td>1</td>\n",
       "      <td>1061</td>\n",
       "      <td>3.0</td>\n",
       "    </tr>\n",
       "    <tr>\n",
       "      <th>3</th>\n",
       "      <td>1</td>\n",
       "      <td>1129</td>\n",
       "      <td>2.0</td>\n",
       "    </tr>\n",
       "    <tr>\n",
       "      <th>4</th>\n",
       "      <td>1</td>\n",
       "      <td>1172</td>\n",
       "      <td>4.0</td>\n",
       "    </tr>\n",
       "  </tbody>\n",
       "</table>\n",
       "</div>"
      ],
      "text/plain": [
       "   userId  movieId  rating\n",
       "0       1       31     2.5\n",
       "1       1     1029     3.0\n",
       "2       1     1061     3.0\n",
       "3       1     1129     2.0\n",
       "4       1     1172     4.0"
      ]
     },
     "execution_count": 3,
     "metadata": {},
     "output_type": "execute_result"
    }
   ],
   "source": [
    "df.drop('timestamp', axis=1, inplace=True)\n",
    "df.head()"
   ]
  },
  {
   "cell_type": "code",
   "execution_count": 4,
   "metadata": {},
   "outputs": [],
   "source": [
    "# this gave me a good plot\n",
    "from sklearn.utils import shuffle\n",
    "df = shuffle(df)"
   ]
  },
  {
   "cell_type": "code",
   "execution_count": 5,
   "metadata": {},
   "outputs": [
    {
     "data": {
      "text/html": [
       "<div>\n",
       "<style scoped>\n",
       "    .dataframe tbody tr th:only-of-type {\n",
       "        vertical-align: middle;\n",
       "    }\n",
       "\n",
       "    .dataframe tbody tr th {\n",
       "        vertical-align: top;\n",
       "    }\n",
       "\n",
       "    .dataframe thead th {\n",
       "        text-align: right;\n",
       "    }\n",
       "</style>\n",
       "<table border=\"1\" class=\"dataframe\">\n",
       "  <thead>\n",
       "    <tr style=\"text-align: right;\">\n",
       "      <th></th>\n",
       "      <th>userId</th>\n",
       "      <th>movieId</th>\n",
       "      <th>rating</th>\n",
       "    </tr>\n",
       "  </thead>\n",
       "  <tbody>\n",
       "    <tr>\n",
       "      <th>61320</th>\n",
       "      <td>450</td>\n",
       "      <td>4873</td>\n",
       "      <td>5.0</td>\n",
       "    </tr>\n",
       "    <tr>\n",
       "      <th>55900</th>\n",
       "      <td>405</td>\n",
       "      <td>648</td>\n",
       "      <td>2.0</td>\n",
       "    </tr>\n",
       "    <tr>\n",
       "      <th>86443</th>\n",
       "      <td>578</td>\n",
       "      <td>1196</td>\n",
       "      <td>0.5</td>\n",
       "    </tr>\n",
       "    <tr>\n",
       "      <th>55923</th>\n",
       "      <td>405</td>\n",
       "      <td>1087</td>\n",
       "      <td>3.5</td>\n",
       "    </tr>\n",
       "    <tr>\n",
       "      <th>91849</th>\n",
       "      <td>608</td>\n",
       "      <td>696</td>\n",
       "      <td>1.0</td>\n",
       "    </tr>\n",
       "  </tbody>\n",
       "</table>\n",
       "</div>"
      ],
      "text/plain": [
       "       userId  movieId  rating\n",
       "61320     450     4873     5.0\n",
       "55900     405      648     2.0\n",
       "86443     578     1196     0.5\n",
       "55923     405     1087     3.5\n",
       "91849     608      696     1.0"
      ]
     },
     "execution_count": 5,
     "metadata": {},
     "output_type": "execute_result"
    }
   ],
   "source": [
    "df.head()"
   ]
  },
  {
   "cell_type": "code",
   "execution_count": 6,
   "metadata": {},
   "outputs": [
    {
     "name": "stderr",
     "output_type": "stream",
     "text": [
      "<ipython-input-6-75ff325d5135>:3: SettingWithCopyWarning: \n",
      "A value is trying to be set on a copy of a slice from a DataFrame.\n",
      "Try using .loc[row_indexer,col_indexer] = value instead\n",
      "\n",
      "See the caveats in the documentation: https://pandas.pydata.org/pandas-docs/stable/user_guide/indexing.html#returning-a-view-versus-a-copy\n",
      "  train[int(num_rows*0.8):]['rating']  = train[int(num_rows*0.8):]['rating']*0\n"
     ]
    }
   ],
   "source": [
    "num_rows = df.shape[0]\n",
    "train, test = df.copy(deep = True), df[int(num_rows*0.8):].copy(deep = True)\n",
    "train[int(num_rows*0.8):]['rating']  = train[int(num_rows*0.8):]['rating']*0\n",
    "train = shuffle(train)"
   ]
  },
  {
   "cell_type": "code",
   "execution_count": 7,
   "metadata": {},
   "outputs": [
    {
     "data": {
      "text/html": [
       "<div>\n",
       "<style scoped>\n",
       "    .dataframe tbody tr th:only-of-type {\n",
       "        vertical-align: middle;\n",
       "    }\n",
       "\n",
       "    .dataframe tbody tr th {\n",
       "        vertical-align: top;\n",
       "    }\n",
       "\n",
       "    .dataframe thead th {\n",
       "        text-align: right;\n",
       "    }\n",
       "</style>\n",
       "<table border=\"1\" class=\"dataframe\">\n",
       "  <thead>\n",
       "    <tr style=\"text-align: right;\">\n",
       "      <th>movieId</th>\n",
       "      <th>1</th>\n",
       "      <th>2</th>\n",
       "      <th>3</th>\n",
       "      <th>4</th>\n",
       "      <th>5</th>\n",
       "      <th>6</th>\n",
       "      <th>7</th>\n",
       "      <th>8</th>\n",
       "      <th>9</th>\n",
       "      <th>10</th>\n",
       "      <th>...</th>\n",
       "      <th>161084</th>\n",
       "      <th>161155</th>\n",
       "      <th>161594</th>\n",
       "      <th>161830</th>\n",
       "      <th>161918</th>\n",
       "      <th>161944</th>\n",
       "      <th>162376</th>\n",
       "      <th>162542</th>\n",
       "      <th>162672</th>\n",
       "      <th>163949</th>\n",
       "    </tr>\n",
       "    <tr>\n",
       "      <th>userId</th>\n",
       "      <th></th>\n",
       "      <th></th>\n",
       "      <th></th>\n",
       "      <th></th>\n",
       "      <th></th>\n",
       "      <th></th>\n",
       "      <th></th>\n",
       "      <th></th>\n",
       "      <th></th>\n",
       "      <th></th>\n",
       "      <th></th>\n",
       "      <th></th>\n",
       "      <th></th>\n",
       "      <th></th>\n",
       "      <th></th>\n",
       "      <th></th>\n",
       "      <th></th>\n",
       "      <th></th>\n",
       "      <th></th>\n",
       "      <th></th>\n",
       "      <th></th>\n",
       "    </tr>\n",
       "  </thead>\n",
       "  <tbody>\n",
       "    <tr>\n",
       "      <th>1</th>\n",
       "      <td>0.0</td>\n",
       "      <td>0.0</td>\n",
       "      <td>0.0</td>\n",
       "      <td>0.0</td>\n",
       "      <td>0.0</td>\n",
       "      <td>0.0</td>\n",
       "      <td>0.0</td>\n",
       "      <td>0.0</td>\n",
       "      <td>0.0</td>\n",
       "      <td>0.0</td>\n",
       "      <td>...</td>\n",
       "      <td>0.0</td>\n",
       "      <td>0.0</td>\n",
       "      <td>0.0</td>\n",
       "      <td>0.0</td>\n",
       "      <td>0.0</td>\n",
       "      <td>0.0</td>\n",
       "      <td>0.0</td>\n",
       "      <td>0.0</td>\n",
       "      <td>0.0</td>\n",
       "      <td>0.0</td>\n",
       "    </tr>\n",
       "    <tr>\n",
       "      <th>2</th>\n",
       "      <td>0.0</td>\n",
       "      <td>0.0</td>\n",
       "      <td>0.0</td>\n",
       "      <td>0.0</td>\n",
       "      <td>0.0</td>\n",
       "      <td>0.0</td>\n",
       "      <td>0.0</td>\n",
       "      <td>0.0</td>\n",
       "      <td>0.0</td>\n",
       "      <td>4.0</td>\n",
       "      <td>...</td>\n",
       "      <td>0.0</td>\n",
       "      <td>0.0</td>\n",
       "      <td>0.0</td>\n",
       "      <td>0.0</td>\n",
       "      <td>0.0</td>\n",
       "      <td>0.0</td>\n",
       "      <td>0.0</td>\n",
       "      <td>0.0</td>\n",
       "      <td>0.0</td>\n",
       "      <td>0.0</td>\n",
       "    </tr>\n",
       "    <tr>\n",
       "      <th>3</th>\n",
       "      <td>0.0</td>\n",
       "      <td>0.0</td>\n",
       "      <td>0.0</td>\n",
       "      <td>0.0</td>\n",
       "      <td>0.0</td>\n",
       "      <td>0.0</td>\n",
       "      <td>0.0</td>\n",
       "      <td>0.0</td>\n",
       "      <td>0.0</td>\n",
       "      <td>0.0</td>\n",
       "      <td>...</td>\n",
       "      <td>0.0</td>\n",
       "      <td>0.0</td>\n",
       "      <td>0.0</td>\n",
       "      <td>0.0</td>\n",
       "      <td>0.0</td>\n",
       "      <td>0.0</td>\n",
       "      <td>0.0</td>\n",
       "      <td>0.0</td>\n",
       "      <td>0.0</td>\n",
       "      <td>0.0</td>\n",
       "    </tr>\n",
       "    <tr>\n",
       "      <th>4</th>\n",
       "      <td>0.0</td>\n",
       "      <td>0.0</td>\n",
       "      <td>0.0</td>\n",
       "      <td>0.0</td>\n",
       "      <td>0.0</td>\n",
       "      <td>0.0</td>\n",
       "      <td>0.0</td>\n",
       "      <td>0.0</td>\n",
       "      <td>0.0</td>\n",
       "      <td>4.0</td>\n",
       "      <td>...</td>\n",
       "      <td>0.0</td>\n",
       "      <td>0.0</td>\n",
       "      <td>0.0</td>\n",
       "      <td>0.0</td>\n",
       "      <td>0.0</td>\n",
       "      <td>0.0</td>\n",
       "      <td>0.0</td>\n",
       "      <td>0.0</td>\n",
       "      <td>0.0</td>\n",
       "      <td>0.0</td>\n",
       "    </tr>\n",
       "    <tr>\n",
       "      <th>5</th>\n",
       "      <td>0.0</td>\n",
       "      <td>0.0</td>\n",
       "      <td>0.0</td>\n",
       "      <td>0.0</td>\n",
       "      <td>0.0</td>\n",
       "      <td>0.0</td>\n",
       "      <td>0.0</td>\n",
       "      <td>0.0</td>\n",
       "      <td>0.0</td>\n",
       "      <td>0.0</td>\n",
       "      <td>...</td>\n",
       "      <td>0.0</td>\n",
       "      <td>0.0</td>\n",
       "      <td>0.0</td>\n",
       "      <td>0.0</td>\n",
       "      <td>0.0</td>\n",
       "      <td>0.0</td>\n",
       "      <td>0.0</td>\n",
       "      <td>0.0</td>\n",
       "      <td>0.0</td>\n",
       "      <td>0.0</td>\n",
       "    </tr>\n",
       "  </tbody>\n",
       "</table>\n",
       "<p>5 rows × 9066 columns</p>\n",
       "</div>"
      ],
      "text/plain": [
       "movieId  1       2       3       4       5       6       7       8       \\\n",
       "userId                                                                    \n",
       "1           0.0     0.0     0.0     0.0     0.0     0.0     0.0     0.0   \n",
       "2           0.0     0.0     0.0     0.0     0.0     0.0     0.0     0.0   \n",
       "3           0.0     0.0     0.0     0.0     0.0     0.0     0.0     0.0   \n",
       "4           0.0     0.0     0.0     0.0     0.0     0.0     0.0     0.0   \n",
       "5           0.0     0.0     0.0     0.0     0.0     0.0     0.0     0.0   \n",
       "\n",
       "movieId  9       10      ...  161084  161155  161594  161830  161918  161944  \\\n",
       "userId                   ...                                                   \n",
       "1           0.0     0.0  ...     0.0     0.0     0.0     0.0     0.0     0.0   \n",
       "2           0.0     4.0  ...     0.0     0.0     0.0     0.0     0.0     0.0   \n",
       "3           0.0     0.0  ...     0.0     0.0     0.0     0.0     0.0     0.0   \n",
       "4           0.0     4.0  ...     0.0     0.0     0.0     0.0     0.0     0.0   \n",
       "5           0.0     0.0  ...     0.0     0.0     0.0     0.0     0.0     0.0   \n",
       "\n",
       "movieId  162376  162542  162672  163949  \n",
       "userId                                   \n",
       "1           0.0     0.0     0.0     0.0  \n",
       "2           0.0     0.0     0.0     0.0  \n",
       "3           0.0     0.0     0.0     0.0  \n",
       "4           0.0     0.0     0.0     0.0  \n",
       "5           0.0     0.0     0.0     0.0  \n",
       "\n",
       "[5 rows x 9066 columns]"
      ]
     },
     "execution_count": 7,
     "metadata": {},
     "output_type": "execute_result"
    }
   ],
   "source": [
    "user_movie_rating =train.groupby(['userId','movieId'])['rating'].max().unstack().fillna(0)\n",
    "user_movie_rating.head()"
   ]
  },
  {
   "cell_type": "code",
   "execution_count": 8,
   "metadata": {},
   "outputs": [
    {
     "data": {
      "text/html": [
       "<div>\n",
       "<style scoped>\n",
       "    .dataframe tbody tr th:only-of-type {\n",
       "        vertical-align: middle;\n",
       "    }\n",
       "\n",
       "    .dataframe tbody tr th {\n",
       "        vertical-align: top;\n",
       "    }\n",
       "\n",
       "    .dataframe thead th {\n",
       "        text-align: right;\n",
       "    }\n",
       "</style>\n",
       "<table border=\"1\" class=\"dataframe\">\n",
       "  <thead>\n",
       "    <tr style=\"text-align: right;\">\n",
       "      <th>movieId</th>\n",
       "      <th>1</th>\n",
       "      <th>2</th>\n",
       "      <th>3</th>\n",
       "      <th>4</th>\n",
       "      <th>5</th>\n",
       "      <th>6</th>\n",
       "      <th>7</th>\n",
       "      <th>8</th>\n",
       "      <th>9</th>\n",
       "      <th>10</th>\n",
       "      <th>...</th>\n",
       "      <th>161084</th>\n",
       "      <th>161155</th>\n",
       "      <th>161594</th>\n",
       "      <th>161830</th>\n",
       "      <th>161918</th>\n",
       "      <th>161944</th>\n",
       "      <th>162376</th>\n",
       "      <th>162542</th>\n",
       "      <th>162672</th>\n",
       "      <th>163949</th>\n",
       "    </tr>\n",
       "    <tr>\n",
       "      <th>userId</th>\n",
       "      <th></th>\n",
       "      <th></th>\n",
       "      <th></th>\n",
       "      <th></th>\n",
       "      <th></th>\n",
       "      <th></th>\n",
       "      <th></th>\n",
       "      <th></th>\n",
       "      <th></th>\n",
       "      <th></th>\n",
       "      <th></th>\n",
       "      <th></th>\n",
       "      <th></th>\n",
       "      <th></th>\n",
       "      <th></th>\n",
       "      <th></th>\n",
       "      <th></th>\n",
       "      <th></th>\n",
       "      <th></th>\n",
       "      <th></th>\n",
       "      <th></th>\n",
       "    </tr>\n",
       "  </thead>\n",
       "  <tbody>\n",
       "    <tr>\n",
       "      <th>1</th>\n",
       "      <td>-0.003750</td>\n",
       "      <td>-0.003750</td>\n",
       "      <td>-0.003750</td>\n",
       "      <td>-0.003750</td>\n",
       "      <td>-0.003750</td>\n",
       "      <td>-0.003750</td>\n",
       "      <td>-0.003750</td>\n",
       "      <td>-0.003750</td>\n",
       "      <td>-0.003750</td>\n",
       "      <td>-0.003750</td>\n",
       "      <td>...</td>\n",
       "      <td>-0.003750</td>\n",
       "      <td>-0.003750</td>\n",
       "      <td>-0.003750</td>\n",
       "      <td>-0.003750</td>\n",
       "      <td>-0.003750</td>\n",
       "      <td>-0.003750</td>\n",
       "      <td>-0.003750</td>\n",
       "      <td>-0.003750</td>\n",
       "      <td>-0.003750</td>\n",
       "      <td>-0.003750</td>\n",
       "    </tr>\n",
       "    <tr>\n",
       "      <th>2</th>\n",
       "      <td>-0.025370</td>\n",
       "      <td>-0.025370</td>\n",
       "      <td>-0.025370</td>\n",
       "      <td>-0.025370</td>\n",
       "      <td>-0.025370</td>\n",
       "      <td>-0.025370</td>\n",
       "      <td>-0.025370</td>\n",
       "      <td>-0.025370</td>\n",
       "      <td>-0.025370</td>\n",
       "      <td>3.974630</td>\n",
       "      <td>...</td>\n",
       "      <td>-0.025370</td>\n",
       "      <td>-0.025370</td>\n",
       "      <td>-0.025370</td>\n",
       "      <td>-0.025370</td>\n",
       "      <td>-0.025370</td>\n",
       "      <td>-0.025370</td>\n",
       "      <td>-0.025370</td>\n",
       "      <td>-0.025370</td>\n",
       "      <td>-0.025370</td>\n",
       "      <td>-0.025370</td>\n",
       "    </tr>\n",
       "    <tr>\n",
       "      <th>3</th>\n",
       "      <td>-0.016159</td>\n",
       "      <td>-0.016159</td>\n",
       "      <td>-0.016159</td>\n",
       "      <td>-0.016159</td>\n",
       "      <td>-0.016159</td>\n",
       "      <td>-0.016159</td>\n",
       "      <td>-0.016159</td>\n",
       "      <td>-0.016159</td>\n",
       "      <td>-0.016159</td>\n",
       "      <td>-0.016159</td>\n",
       "      <td>...</td>\n",
       "      <td>-0.016159</td>\n",
       "      <td>-0.016159</td>\n",
       "      <td>-0.016159</td>\n",
       "      <td>-0.016159</td>\n",
       "      <td>-0.016159</td>\n",
       "      <td>-0.016159</td>\n",
       "      <td>-0.016159</td>\n",
       "      <td>-0.016159</td>\n",
       "      <td>-0.016159</td>\n",
       "      <td>-0.016159</td>\n",
       "    </tr>\n",
       "    <tr>\n",
       "      <th>4</th>\n",
       "      <td>-0.078315</td>\n",
       "      <td>-0.078315</td>\n",
       "      <td>-0.078315</td>\n",
       "      <td>-0.078315</td>\n",
       "      <td>-0.078315</td>\n",
       "      <td>-0.078315</td>\n",
       "      <td>-0.078315</td>\n",
       "      <td>-0.078315</td>\n",
       "      <td>-0.078315</td>\n",
       "      <td>3.921685</td>\n",
       "      <td>...</td>\n",
       "      <td>-0.078315</td>\n",
       "      <td>-0.078315</td>\n",
       "      <td>-0.078315</td>\n",
       "      <td>-0.078315</td>\n",
       "      <td>-0.078315</td>\n",
       "      <td>-0.078315</td>\n",
       "      <td>-0.078315</td>\n",
       "      <td>-0.078315</td>\n",
       "      <td>-0.078315</td>\n",
       "      <td>-0.078315</td>\n",
       "    </tr>\n",
       "    <tr>\n",
       "      <th>5</th>\n",
       "      <td>-0.035903</td>\n",
       "      <td>-0.035903</td>\n",
       "      <td>-0.035903</td>\n",
       "      <td>-0.035903</td>\n",
       "      <td>-0.035903</td>\n",
       "      <td>-0.035903</td>\n",
       "      <td>-0.035903</td>\n",
       "      <td>-0.035903</td>\n",
       "      <td>-0.035903</td>\n",
       "      <td>-0.035903</td>\n",
       "      <td>...</td>\n",
       "      <td>-0.035903</td>\n",
       "      <td>-0.035903</td>\n",
       "      <td>-0.035903</td>\n",
       "      <td>-0.035903</td>\n",
       "      <td>-0.035903</td>\n",
       "      <td>-0.035903</td>\n",
       "      <td>-0.035903</td>\n",
       "      <td>-0.035903</td>\n",
       "      <td>-0.035903</td>\n",
       "      <td>-0.035903</td>\n",
       "    </tr>\n",
       "  </tbody>\n",
       "</table>\n",
       "<p>5 rows × 9066 columns</p>\n",
       "</div>"
      ],
      "text/plain": [
       "movieId    1         2         3         4         5         6         7       \\\n",
       "userId                                                                          \n",
       "1       -0.003750 -0.003750 -0.003750 -0.003750 -0.003750 -0.003750 -0.003750   \n",
       "2       -0.025370 -0.025370 -0.025370 -0.025370 -0.025370 -0.025370 -0.025370   \n",
       "3       -0.016159 -0.016159 -0.016159 -0.016159 -0.016159 -0.016159 -0.016159   \n",
       "4       -0.078315 -0.078315 -0.078315 -0.078315 -0.078315 -0.078315 -0.078315   \n",
       "5       -0.035903 -0.035903 -0.035903 -0.035903 -0.035903 -0.035903 -0.035903   \n",
       "\n",
       "movieId    8         9         10      ...    161084    161155    161594  \\\n",
       "userId                                 ...                                 \n",
       "1       -0.003750 -0.003750 -0.003750  ... -0.003750 -0.003750 -0.003750   \n",
       "2       -0.025370 -0.025370  3.974630  ... -0.025370 -0.025370 -0.025370   \n",
       "3       -0.016159 -0.016159 -0.016159  ... -0.016159 -0.016159 -0.016159   \n",
       "4       -0.078315 -0.078315  3.921685  ... -0.078315 -0.078315 -0.078315   \n",
       "5       -0.035903 -0.035903 -0.035903  ... -0.035903 -0.035903 -0.035903   \n",
       "\n",
       "movieId    161830    161918    161944    162376    162542    162672    163949  \n",
       "userId                                                                         \n",
       "1       -0.003750 -0.003750 -0.003750 -0.003750 -0.003750 -0.003750 -0.003750  \n",
       "2       -0.025370 -0.025370 -0.025370 -0.025370 -0.025370 -0.025370 -0.025370  \n",
       "3       -0.016159 -0.016159 -0.016159 -0.016159 -0.016159 -0.016159 -0.016159  \n",
       "4       -0.078315 -0.078315 -0.078315 -0.078315 -0.078315 -0.078315 -0.078315  \n",
       "5       -0.035903 -0.035903 -0.035903 -0.035903 -0.035903 -0.035903 -0.035903  \n",
       "\n",
       "[5 rows x 9066 columns]"
      ]
     },
     "execution_count": 8,
     "metadata": {},
     "output_type": "execute_result"
    }
   ],
   "source": [
    "central_mean = user_movie_rating.sub(user_movie_rating.mean(axis=1), axis=0)\n",
    "central_mean.head()"
   ]
  },
  {
   "cell_type": "code",
   "execution_count": 9,
   "metadata": {},
   "outputs": [
    {
     "name": "stdout",
     "output_type": "stream",
     "text": [
      "We have 671 users in our user-movie matrix.\n",
      "We have 9066 movies in our user-movie matrix.\n"
     ]
    }
   ],
   "source": [
    "user_movie_rating.shape\n",
    "print (\"We have {} users in our user-movie matrix.\".format(user_movie_rating.shape[0]))\n",
    "print (\"We have {} movies in our user-movie matrix.\".format(user_movie_rating.shape[1]))\n"
   ]
  },
  {
   "cell_type": "code",
   "execution_count": 10,
   "metadata": {},
   "outputs": [
    {
     "data": {
      "text/html": [
       "<div>\n",
       "<style scoped>\n",
       "    .dataframe tbody tr th:only-of-type {\n",
       "        vertical-align: middle;\n",
       "    }\n",
       "\n",
       "    .dataframe tbody tr th {\n",
       "        vertical-align: top;\n",
       "    }\n",
       "\n",
       "    .dataframe thead th {\n",
       "        text-align: right;\n",
       "    }\n",
       "</style>\n",
       "<table border=\"1\" class=\"dataframe\">\n",
       "  <thead>\n",
       "    <tr style=\"text-align: right;\">\n",
       "      <th>movieId</th>\n",
       "      <th>1</th>\n",
       "      <th>2</th>\n",
       "      <th>3</th>\n",
       "      <th>4</th>\n",
       "      <th>5</th>\n",
       "      <th>6</th>\n",
       "      <th>7</th>\n",
       "      <th>8</th>\n",
       "      <th>9</th>\n",
       "      <th>10</th>\n",
       "      <th>...</th>\n",
       "      <th>161084</th>\n",
       "      <th>161155</th>\n",
       "      <th>161594</th>\n",
       "      <th>161830</th>\n",
       "      <th>161918</th>\n",
       "      <th>161944</th>\n",
       "      <th>162376</th>\n",
       "      <th>162542</th>\n",
       "      <th>162672</th>\n",
       "      <th>163949</th>\n",
       "    </tr>\n",
       "    <tr>\n",
       "      <th>movieId</th>\n",
       "      <th></th>\n",
       "      <th></th>\n",
       "      <th></th>\n",
       "      <th></th>\n",
       "      <th></th>\n",
       "      <th></th>\n",
       "      <th></th>\n",
       "      <th></th>\n",
       "      <th></th>\n",
       "      <th></th>\n",
       "      <th></th>\n",
       "      <th></th>\n",
       "      <th></th>\n",
       "      <th></th>\n",
       "      <th></th>\n",
       "      <th></th>\n",
       "      <th></th>\n",
       "      <th></th>\n",
       "      <th></th>\n",
       "      <th></th>\n",
       "      <th></th>\n",
       "    </tr>\n",
       "  </thead>\n",
       "  <tbody>\n",
       "    <tr>\n",
       "      <th>1</th>\n",
       "      <td>1.000000</td>\n",
       "      <td>0.139555</td>\n",
       "      <td>0.128125</td>\n",
       "      <td>0.058892</td>\n",
       "      <td>0.107724</td>\n",
       "      <td>0.139330</td>\n",
       "      <td>0.129784</td>\n",
       "      <td>0.007196</td>\n",
       "      <td>0.022741</td>\n",
       "      <td>0.041319</td>\n",
       "      <td>...</td>\n",
       "      <td>NaN</td>\n",
       "      <td>0.017985</td>\n",
       "      <td>-0.024211</td>\n",
       "      <td>0.081279</td>\n",
       "      <td>NaN</td>\n",
       "      <td>0.081279</td>\n",
       "      <td>-0.024211</td>\n",
       "      <td>NaN</td>\n",
       "      <td>-0.024211</td>\n",
       "      <td>NaN</td>\n",
       "    </tr>\n",
       "    <tr>\n",
       "      <th>2</th>\n",
       "      <td>0.139555</td>\n",
       "      <td>1.000000</td>\n",
       "      <td>0.111003</td>\n",
       "      <td>0.055651</td>\n",
       "      <td>0.137014</td>\n",
       "      <td>0.095027</td>\n",
       "      <td>-0.008758</td>\n",
       "      <td>0.176114</td>\n",
       "      <td>0.052506</td>\n",
       "      <td>0.296724</td>\n",
       "      <td>...</td>\n",
       "      <td>NaN</td>\n",
       "      <td>0.051776</td>\n",
       "      <td>-0.014462</td>\n",
       "      <td>0.084895</td>\n",
       "      <td>NaN</td>\n",
       "      <td>-0.014462</td>\n",
       "      <td>-0.014462</td>\n",
       "      <td>NaN</td>\n",
       "      <td>-0.014462</td>\n",
       "      <td>NaN</td>\n",
       "    </tr>\n",
       "    <tr>\n",
       "      <th>3</th>\n",
       "      <td>0.128125</td>\n",
       "      <td>0.111003</td>\n",
       "      <td>1.000000</td>\n",
       "      <td>0.111916</td>\n",
       "      <td>0.228635</td>\n",
       "      <td>0.128911</td>\n",
       "      <td>0.284848</td>\n",
       "      <td>0.137551</td>\n",
       "      <td>0.301862</td>\n",
       "      <td>0.043167</td>\n",
       "      <td>...</td>\n",
       "      <td>NaN</td>\n",
       "      <td>-0.010577</td>\n",
       "      <td>-0.010577</td>\n",
       "      <td>0.117681</td>\n",
       "      <td>NaN</td>\n",
       "      <td>-0.010577</td>\n",
       "      <td>-0.010577</td>\n",
       "      <td>NaN</td>\n",
       "      <td>-0.010577</td>\n",
       "      <td>NaN</td>\n",
       "    </tr>\n",
       "    <tr>\n",
       "      <th>4</th>\n",
       "      <td>0.058892</td>\n",
       "      <td>0.055651</td>\n",
       "      <td>0.111916</td>\n",
       "      <td>1.000000</td>\n",
       "      <td>0.110005</td>\n",
       "      <td>0.051695</td>\n",
       "      <td>0.076066</td>\n",
       "      <td>0.403128</td>\n",
       "      <td>0.180753</td>\n",
       "      <td>0.086685</td>\n",
       "      <td>...</td>\n",
       "      <td>NaN</td>\n",
       "      <td>-0.004452</td>\n",
       "      <td>-0.004452</td>\n",
       "      <td>-0.004452</td>\n",
       "      <td>NaN</td>\n",
       "      <td>-0.004452</td>\n",
       "      <td>-0.004452</td>\n",
       "      <td>NaN</td>\n",
       "      <td>-0.004452</td>\n",
       "      <td>NaN</td>\n",
       "    </tr>\n",
       "    <tr>\n",
       "      <th>5</th>\n",
       "      <td>0.107724</td>\n",
       "      <td>0.137014</td>\n",
       "      <td>0.228635</td>\n",
       "      <td>0.110005</td>\n",
       "      <td>1.000000</td>\n",
       "      <td>0.113190</td>\n",
       "      <td>0.252538</td>\n",
       "      <td>0.124522</td>\n",
       "      <td>0.219156</td>\n",
       "      <td>0.173738</td>\n",
       "      <td>...</td>\n",
       "      <td>NaN</td>\n",
       "      <td>0.199375</td>\n",
       "      <td>-0.009548</td>\n",
       "      <td>0.129734</td>\n",
       "      <td>NaN</td>\n",
       "      <td>-0.009548</td>\n",
       "      <td>-0.009548</td>\n",
       "      <td>NaN</td>\n",
       "      <td>-0.009548</td>\n",
       "      <td>NaN</td>\n",
       "    </tr>\n",
       "  </tbody>\n",
       "</table>\n",
       "<p>5 rows × 9066 columns</p>\n",
       "</div>"
      ],
      "text/plain": [
       "movieId    1         2         3         4         5         6         7       \\\n",
       "movieId                                                                         \n",
       "1        1.000000  0.139555  0.128125  0.058892  0.107724  0.139330  0.129784   \n",
       "2        0.139555  1.000000  0.111003  0.055651  0.137014  0.095027 -0.008758   \n",
       "3        0.128125  0.111003  1.000000  0.111916  0.228635  0.128911  0.284848   \n",
       "4        0.058892  0.055651  0.111916  1.000000  0.110005  0.051695  0.076066   \n",
       "5        0.107724  0.137014  0.228635  0.110005  1.000000  0.113190  0.252538   \n",
       "\n",
       "movieId    8         9         10      ...  161084    161155    161594  \\\n",
       "movieId                                ...                               \n",
       "1        0.007196  0.022741  0.041319  ...     NaN  0.017985 -0.024211   \n",
       "2        0.176114  0.052506  0.296724  ...     NaN  0.051776 -0.014462   \n",
       "3        0.137551  0.301862  0.043167  ...     NaN -0.010577 -0.010577   \n",
       "4        0.403128  0.180753  0.086685  ...     NaN -0.004452 -0.004452   \n",
       "5        0.124522  0.219156  0.173738  ...     NaN  0.199375 -0.009548   \n",
       "\n",
       "movieId    161830  161918    161944    162376  162542    162672  163949  \n",
       "movieId                                                                  \n",
       "1        0.081279     NaN  0.081279 -0.024211     NaN -0.024211     NaN  \n",
       "2        0.084895     NaN -0.014462 -0.014462     NaN -0.014462     NaN  \n",
       "3        0.117681     NaN -0.010577 -0.010577     NaN -0.010577     NaN  \n",
       "4       -0.004452     NaN -0.004452 -0.004452     NaN -0.004452     NaN  \n",
       "5        0.129734     NaN -0.009548 -0.009548     NaN -0.009548     NaN  \n",
       "\n",
       "[5 rows x 9066 columns]"
      ]
     },
     "execution_count": 10,
     "metadata": {},
     "output_type": "execute_result"
    }
   ],
   "source": [
    "correlation_matrix = user_movie_rating.corr()\n",
    "correlation_matrix.head()"
   ]
  },
  {
   "cell_type": "code",
   "execution_count": 11,
   "metadata": {},
   "outputs": [],
   "source": [
    "# person similarity based\n",
    "\n",
    "# when we want to find a recommendaiton for a user.\n",
    "# we compute the correlation(cetered cosine or person correlation, making a saperate column would be a good idea)\n",
    "# with all the users in the utility matrix\n",
    "# return the top movies that user had not watched yet and recommend that movie\n",
    "# main aim is to fill the values that is it.\n",
    "# central_mean.iloc[0].corr(central_mean.iloc[1])\n",
    "# user_movie_rating= central_mean"
   ]
  },
  {
   "cell_type": "code",
   "execution_count": 12,
   "metadata": {},
   "outputs": [],
   "source": [
    "def error(y_hat, y):\n",
    "    # MSE\n",
    "    y_hat = np.array(y_hat)\n",
    "    y = np.array(y)\n",
    "    MSE_ = (y_hat- y)**2\n",
    "    MSE = MSE_.sum()\n",
    "    return MSE"
   ]
  },
  {
   "cell_type": "markdown",
   "metadata": {},
   "source": [
    "### Similarity based"
   ]
  },
  {
   "cell_type": "code",
   "execution_count": 13,
   "metadata": {},
   "outputs": [],
   "source": [
    "def PredictMovieRating(user_i, movie_i, corr_mat, user_movie_rating, k):\n",
    "    # for user x\n",
    "    # rxi = sum over knn (sxy*ryi)/sum over all the knn similarities\n",
    "    all_neighbours = corr_mat.loc[movie_i]\n",
    "    all_neighbours = all_neighbours.drop(movie_i)\n",
    "    topk_neighbours = all_neighbours.sort_values(ascending=False)[:k]  # knn\n",
    "    # knn user ids\n",
    "    knn = topk_neighbours.index.tolist()\n",
    "#     return knn\n",
    "    sum_sim = sum([corr_mat[movie_i][movie_j] for movie_j in knn])\n",
    "    weighted_sum_sim = sum([corr_mat[movie_i][movie_j]\n",
    "                            *user_movie_rating[movie_j][user_i] \n",
    "                           for movie_j in knn])\n",
    "    predicted_rating = weighted_sum_sim/sum_sim\n",
    "    return predicted_rating"
   ]
  },
  {
   "cell_type": "code",
   "execution_count": 14,
   "metadata": {},
   "outputs": [],
   "source": [
    "# Similarity based\n",
    "# we have to keep  a correlation matrix. we can say that we update this on regular intervals\n",
    "# use the prediction formulae given in the video\n",
    "# here we need k nearest neighbours based on whome we can make a prediction\n",
    "# how do we decide k?\n",
    "# def PredictMovieRating(user_i, movie_i, corr_mat, user_movie_rating):\n",
    "#     # for user x\n",
    "#     # rxi = sum over knn (sxy*ryi)/sum over all the knn similarities\n",
    "#     all_neighbours = corr_mat.iloc[user_i]\n",
    "#     all_neighbours.drop(user_i)\n",
    "#     topk_neighbours = all_neighbours.sort()[:k]  # knn\n",
    "#     # knn user ids\n",
    "#     knn = topk_neighbours.index.tolist()\n",
    "    \n",
    "#     sum_sim = sum([corr_mat[user_i][user_j] for user_j in knn])\n",
    "#     weighted_sum_sim = sum([corr_mat[user_i][user_j]*user_movie_rating[user_j][movie_i] \n",
    "#                            for user_j in knn])\n",
    "#     predicted_rating = weighted_sum_sim/sum_sim\n",
    "#     return predicted_rating\n",
    "    \n",
    "def Prediction(user_i, intial_mat, user_movie_rating, corr_mat):\n",
    "    # return a list of movieIds as prediction\n",
    "    # we wont populate user_movie_rating here, let the user do that after he has watched the movie\n",
    "    predicted_ratings = []  # a heap\n",
    "    movieIds = intial_mat.columns()\n",
    "    for movieId in movieIds:\n",
    "        if intial_mat[user_i][movieId] == 'Null': # check if null value\n",
    "            # time to predict rating for this movie\n",
    "            rating = PredictMovieRating(user_i, movieId, corr_mat, user_movie_rating)\n",
    "            predicted_ratings.append((rating, movieId))\n",
    "    predicted_ratings.sort(key= lambda x:x[0])\n",
    "    movie_predictions = [x[1] for x in predicted_ratings]\n",
    "    return movie_predictions\n"
   ]
  },
  {
   "cell_type": "code",
   "execution_count": 15,
   "metadata": {},
   "outputs": [],
   "source": [
    "# to compute error\n",
    "# create a new matrix that has ratings based on similarities \n",
    "# compare with the y and yhat and get the error\n",
    "# we can use the same split of test and train as in assignment."
   ]
  },
  {
   "cell_type": "markdown",
   "metadata": {},
   "source": [
    "# obtain the optimal k"
   ]
  },
  {
   "cell_type": "code",
   "execution_count": 54,
   "metadata": {},
   "outputs": [
    {
     "name": "stdout",
     "output_type": "stream",
     "text": [
      "CPU times: user 20min 35s, sys: 2.79 s, total: 20min 38s\n",
      "Wall time: 20min 59s\n"
     ]
    }
   ],
   "source": [
    "%%time\n",
    "# looking for optimal k\n",
    "y= test['rating']\n",
    "errors = {}\n",
    "for k in range(1, 20):\n",
    "    y_hat = []\n",
    "    for i in test.index:\n",
    "        user_i, movie_j = map(int,[test.loc[i]['userId'], \n",
    "                                   test.loc[i]['movieId']])\n",
    "        # make the prediction here\n",
    "        predicted_rating = PredictMovieRating(user_i, \n",
    "                                              movie_j, \n",
    "                                              correlation_matrix, \n",
    "                                              user_movie_rating, k)\n",
    "        y_hat.append(predicted_rating)\n",
    "    error_i = error(np.nan_to_num(np.array(y_hat)), y)        \n",
    "    errors[k]=error_i\n"
   ]
  },
  {
   "cell_type": "code",
   "execution_count": 55,
   "metadata": {},
   "outputs": [
    {
     "data": {
      "text/plain": [
       "Text(0.5, 1.0, 'optimal neighbour search')"
      ]
     },
     "execution_count": 55,
     "metadata": {},
     "output_type": "execute_result"
    },
    {
     "data": {
      "image/png": "[encoded data removed]",
      "text/plain": [
       "<Figure size 432x288 with 1 Axes>"
      ]
     },
     "metadata": {
      "needs_background": "light"
     },
     "output_type": "display_data"
    }
   ],
   "source": [
    "plt.plot(errors.keys(), errors.values())\n",
    "plt.xlabel('K')\n",
    "plt.ylabel('error')\n",
    "plt.title('optimal neighbour search')"
   ]
  },
  {
   "cell_type": "markdown",
   "metadata": {},
   "source": [
    "# Evaluation"
   ]
  },
  {
   "cell_type": "markdown",
   "metadata": {},
   "source": [
    "### optimial k =8"
   ]
  },
  {
   "cell_type": "code",
   "execution_count": 16,
   "metadata": {
    "scrolled": true
   },
   "outputs": [
    {
     "name": "stdout",
     "output_type": "stream",
     "text": [
      "CPU times: user 1min 1s, sys: 68.1 ms, total: 1min 1s\n",
      "Wall time: 1min 1s\n"
     ]
    }
   ],
   "source": [
    "%%time\n",
    "# looking for optimal k\n",
    "y= test['rating']\n",
    "errors = {}\n",
    "y_hat = []\n",
    "for i in test.index:\n",
    "    user_i, movie_j = map(int,[test.loc[i]['userId'], \n",
    "                               test.loc[i]['movieId']])\n",
    "    # make the prediction here\n",
    "    predicted_rating = PredictMovieRating(user_i, \n",
    "                                          movie_j, \n",
    "                                          correlation_matrix, \n",
    "                                          user_movie_rating, 8)\n",
    "    y_hat.append(predicted_rating)\n",
    "error_i = error(np.nan_to_num(np.array(y_hat)), y)        \n"
   ]
  },
  {
   "cell_type": "code",
   "execution_count": 17,
   "metadata": {},
   "outputs": [
    {
     "data": {
      "text/plain": [
       "193921.69619113905"
      ]
     },
     "execution_count": 17,
     "metadata": {},
     "output_type": "execute_result"
    }
   ],
   "source": [
    "y= test['rating'].tolist()\n",
    "# compute error\n",
    "error(np.nan_to_num(np.array(y_hat)), y)"
   ]
  },
  {
   "cell_type": "code",
   "execution_count": 18,
   "metadata": {},
   "outputs": [
    {
     "data": {
      "text/html": [
       "<div>\n",
       "<style scoped>\n",
       "    .dataframe tbody tr th:only-of-type {\n",
       "        vertical-align: middle;\n",
       "    }\n",
       "\n",
       "    .dataframe tbody tr th {\n",
       "        vertical-align: top;\n",
       "    }\n",
       "\n",
       "    .dataframe thead th {\n",
       "        text-align: right;\n",
       "    }\n",
       "</style>\n",
       "<table border=\"1\" class=\"dataframe\">\n",
       "  <thead>\n",
       "    <tr style=\"text-align: right;\">\n",
       "      <th></th>\n",
       "      <th>userId</th>\n",
       "      <th>movieId</th>\n",
       "      <th>rating</th>\n",
       "      <th>prediction</th>\n",
       "    </tr>\n",
       "  </thead>\n",
       "  <tbody>\n",
       "    <tr>\n",
       "      <th>38882</th>\n",
       "      <td>285</td>\n",
       "      <td>370</td>\n",
       "      <td>1.0</td>\n",
       "      <td>0.706353</td>\n",
       "    </tr>\n",
       "    <tr>\n",
       "      <th>61099</th>\n",
       "      <td>445</td>\n",
       "      <td>4874</td>\n",
       "      <td>4.0</td>\n",
       "      <td>0.000000</td>\n",
       "    </tr>\n",
       "    <tr>\n",
       "      <th>72888</th>\n",
       "      <td>509</td>\n",
       "      <td>3081</td>\n",
       "      <td>3.5</td>\n",
       "      <td>0.487943</td>\n",
       "    </tr>\n",
       "    <tr>\n",
       "      <th>65623</th>\n",
       "      <td>467</td>\n",
       "      <td>2154</td>\n",
       "      <td>4.0</td>\n",
       "      <td>0.000000</td>\n",
       "    </tr>\n",
       "    <tr>\n",
       "      <th>94577</th>\n",
       "      <td>624</td>\n",
       "      <td>46062</td>\n",
       "      <td>3.5</td>\n",
       "      <td>0.283187</td>\n",
       "    </tr>\n",
       "  </tbody>\n",
       "</table>\n",
       "</div>"
      ],
      "text/plain": [
       "       userId  movieId  rating  prediction\n",
       "38882     285      370     1.0    0.706353\n",
       "61099     445     4874     4.0    0.000000\n",
       "72888     509     3081     3.5    0.487943\n",
       "65623     467     2154     4.0    0.000000\n",
       "94577     624    46062     3.5    0.283187"
      ]
     },
     "execution_count": 18,
     "metadata": {},
     "output_type": "execute_result"
    }
   ],
   "source": [
    "test['prediction'] = y_hat\n",
    "test.head()"
   ]
  },
  {
   "cell_type": "code",
   "execution_count": 19,
   "metadata": {},
   "outputs": [
    {
     "name": "stdout",
     "output_type": "stream",
     "text": [
      "547\n"
     ]
    },
    {
     "data": {
      "text/plain": [
       "494"
      ]
     },
     "execution_count": 19,
     "metadata": {},
     "output_type": "execute_result"
    }
   ],
   "source": [
    "from collections import Counter\n",
    "user_freq_dict = Counter(test['userId'].tolist())\n",
    "max_voting = max(user_freq_dict.values())\n",
    "for i in user_freq_dict:\n",
    "    if user_freq_dict[i] == max_voting:\n",
    "        print(i)\n",
    "user_freq_dict[547]"
   ]
  },
  {
   "cell_type": "code",
   "execution_count": 94,
   "metadata": {},
   "outputs": [
    {
     "data": {
      "text/html": [
       "<div>\n",
       "<style scoped>\n",
       "    .dataframe tbody tr th:only-of-type {\n",
       "        vertical-align: middle;\n",
       "    }\n",
       "\n",
       "    .dataframe tbody tr th {\n",
       "        vertical-align: top;\n",
       "    }\n",
       "\n",
       "    .dataframe thead th {\n",
       "        text-align: right;\n",
       "    }\n",
       "</style>\n",
       "<table border=\"1\" class=\"dataframe\">\n",
       "  <thead>\n",
       "    <tr style=\"text-align: right;\">\n",
       "      <th></th>\n",
       "      <th>userId</th>\n",
       "      <th>movieId</th>\n",
       "      <th>rating</th>\n",
       "      <th>prediction</th>\n",
       "    </tr>\n",
       "  </thead>\n",
       "  <tbody>\n",
       "    <tr>\n",
       "      <th>2698</th>\n",
       "      <td>17</td>\n",
       "      <td>111</td>\n",
       "      <td>5.0</td>\n",
       "      <td>2.598993</td>\n",
       "    </tr>\n",
       "    <tr>\n",
       "      <th>2842</th>\n",
       "      <td>17</td>\n",
       "      <td>2579</td>\n",
       "      <td>5.0</td>\n",
       "      <td>0.000000</td>\n",
       "    </tr>\n",
       "    <tr>\n",
       "      <th>3006</th>\n",
       "      <td>17</td>\n",
       "      <td>7587</td>\n",
       "      <td>5.0</td>\n",
       "      <td>0.000000</td>\n",
       "    </tr>\n",
       "    <tr>\n",
       "      <th>2773</th>\n",
       "      <td>17</td>\n",
       "      <td>1246</td>\n",
       "      <td>5.0</td>\n",
       "      <td>0.000000</td>\n",
       "    </tr>\n",
       "    <tr>\n",
       "      <th>2924</th>\n",
       "      <td>17</td>\n",
       "      <td>5105</td>\n",
       "      <td>5.0</td>\n",
       "      <td>0.000000</td>\n",
       "    </tr>\n",
       "  </tbody>\n",
       "</table>\n",
       "</div>"
      ],
      "text/plain": [
       "      userId  movieId  rating  prediction\n",
       "2698      17      111     5.0    2.598993\n",
       "2842      17     2579     5.0    0.000000\n",
       "3006      17     7587     5.0    0.000000\n",
       "2773      17     1246     5.0    0.000000\n",
       "2924      17     5105     5.0    0.000000"
      ]
     },
     "execution_count": 94,
     "metadata": {},
     "output_type": "execute_result"
    }
   ],
   "source": [
    "one_user= test.loc[(test['userId'] == 17)].sort_values('rating', \n",
    "                      inplace=False, \n",
    "                      ascending=False)\n",
    "one_user.head()"
   ]
  },
  {
   "cell_type": "markdown",
   "metadata": {},
   "source": [
    "### Recall and Precision"
   ]
  },
  {
   "cell_type": "code",
   "execution_count": 95,
   "metadata": {},
   "outputs": [
    {
     "data": {
      "text/plain": [
       "(82, 7)"
      ]
     },
     "execution_count": 95,
     "metadata": {},
     "output_type": "execute_result"
    }
   ],
   "source": [
    "relevance_threshold = 2\n",
    "recommended_movies = set(one_user.loc[(one_user['prediction'] >= relevance_threshold)]['movieId'].tolist())\n",
    "relavent_movies = set(one_user.loc[(one_user['rating'] >= relevance_threshold)]['movieId'].tolist())\n",
    "len(relavent_movies), len(recommended_movies)"
   ]
  },
  {
   "cell_type": "code",
   "execution_count": 96,
   "metadata": {},
   "outputs": [],
   "source": [
    "recommended_movies_intersection_relavant_movies = [i for i in recommended_movies if i in relavent_movies]\n",
    "recommended_movies_intersection_relavant_movies;"
   ]
  },
  {
   "cell_type": "code",
   "execution_count": 97,
   "metadata": {},
   "outputs": [],
   "source": [
    "recall = len(recommended_movies_intersection_relavant_movies)/len(relavent_movies)\n",
    "precision = len(recommended_movies_intersection_relavant_movies)/len(recommended_movies)"
   ]
  },
  {
   "cell_type": "code",
   "execution_count": 98,
   "metadata": {},
   "outputs": [
    {
     "data": {
      "text/plain": [
       "(7, 7, 82)"
      ]
     },
     "execution_count": 98,
     "metadata": {},
     "output_type": "execute_result"
    }
   ],
   "source": [
    "len(recommended_movies), len(recommended_movies_intersection_relavant_movies), len(relavent_movies)"
   ]
  },
  {
   "cell_type": "code",
   "execution_count": 99,
   "metadata": {},
   "outputs": [
    {
     "data": {
      "text/plain": [
       "(1.0, 0.08536585365853659)"
      ]
     },
     "execution_count": 99,
     "metadata": {},
     "output_type": "execute_result"
    }
   ],
   "source": [
    "precision, recall"
   ]
  },
  {
   "cell_type": "code",
   "execution_count": 100,
   "metadata": {},
   "outputs": [
    {
     "data": {
      "text/plain": [
       "0.15730337078651685"
      ]
     },
     "execution_count": 100,
     "metadata": {},
     "output_type": "execute_result"
    }
   ],
   "source": [
    "f_score = 2*precision*recall/(precision+recall)\n",
    "f_score"
   ]
  },
  {
   "cell_type": "markdown",
   "metadata": {},
   "source": [
    "### Recall@k and Precision@k"
   ]
  },
  {
   "cell_type": "code",
   "execution_count": 101,
   "metadata": {},
   "outputs": [
    {
     "data": {
      "text/html": [
       "<div>\n",
       "<style scoped>\n",
       "    .dataframe tbody tr th:only-of-type {\n",
       "        vertical-align: middle;\n",
       "    }\n",
       "\n",
       "    .dataframe tbody tr th {\n",
       "        vertical-align: top;\n",
       "    }\n",
       "\n",
       "    .dataframe thead th {\n",
       "        text-align: right;\n",
       "    }\n",
       "</style>\n",
       "<table border=\"1\" class=\"dataframe\">\n",
       "  <thead>\n",
       "    <tr style=\"text-align: right;\">\n",
       "      <th></th>\n",
       "      <th>userId</th>\n",
       "      <th>movieId</th>\n",
       "      <th>rating</th>\n",
       "      <th>prediction</th>\n",
       "    </tr>\n",
       "  </thead>\n",
       "  <tbody>\n",
       "    <tr>\n",
       "      <th>2862</th>\n",
       "      <td>17</td>\n",
       "      <td>2959</td>\n",
       "      <td>5.0</td>\n",
       "      <td>3.333757</td>\n",
       "    </tr>\n",
       "    <tr>\n",
       "      <th>2916</th>\n",
       "      <td>17</td>\n",
       "      <td>4993</td>\n",
       "      <td>4.5</td>\n",
       "      <td>2.953773</td>\n",
       "    </tr>\n",
       "    <tr>\n",
       "      <th>2710</th>\n",
       "      <td>17</td>\n",
       "      <td>296</td>\n",
       "      <td>5.0</td>\n",
       "      <td>2.899922</td>\n",
       "    </tr>\n",
       "    <tr>\n",
       "      <th>2698</th>\n",
       "      <td>17</td>\n",
       "      <td>111</td>\n",
       "      <td>5.0</td>\n",
       "      <td>2.598993</td>\n",
       "    </tr>\n",
       "    <tr>\n",
       "      <th>2933</th>\n",
       "      <td>17</td>\n",
       "      <td>5445</td>\n",
       "      <td>4.5</td>\n",
       "      <td>2.573050</td>\n",
       "    </tr>\n",
       "  </tbody>\n",
       "</table>\n",
       "</div>"
      ],
      "text/plain": [
       "      userId  movieId  rating  prediction\n",
       "2862      17     2959     5.0    3.333757\n",
       "2916      17     4993     4.5    2.953773\n",
       "2710      17      296     5.0    2.899922\n",
       "2698      17      111     5.0    2.598993\n",
       "2933      17     5445     4.5    2.573050"
      ]
     },
     "execution_count": 101,
     "metadata": {},
     "output_type": "execute_result"
    }
   ],
   "source": [
    "k=8\n",
    "top_k_predictions_df = one_user.sort_values('prediction', ascending=False)[:k]\n",
    "top_k_predictions_df.head()"
   ]
  },
  {
   "cell_type": "code",
   "execution_count": 102,
   "metadata": {},
   "outputs": [],
   "source": [
    "relevance_threshold=2\n",
    "top_k_movies_recommended = set(top_k_predictions_df.loc[(top_k_predictions_df['prediction'] >= relevance_threshold)]['movieId'].tolist())\n",
    "top_k_movies_relevant = set(top_k_predictions_df.loc[(top_k_predictions_df['rating'] >= relevance_threshold)]['movieId'].tolist())\n",
    "# top_k_predictions_df['rating']"
   ]
  },
  {
   "cell_type": "code",
   "execution_count": 103,
   "metadata": {},
   "outputs": [
    {
     "data": {
      "text/plain": [
       "[4993, 5445, 296, 2762, 111, 2959, 1104]"
      ]
     },
     "execution_count": 103,
     "metadata": {},
     "output_type": "execute_result"
    }
   ],
   "source": [
    "recommended_movies_intersection_relavant_movies = [i for i in top_k_movies_recommended\n",
    "                                                   if i in top_k_movies_relevant]\n",
    "recommended_movies_intersection_relavant_movies"
   ]
  },
  {
   "cell_type": "code",
   "execution_count": 104,
   "metadata": {},
   "outputs": [
    {
     "data": {
      "text/plain": [
       "(7, 7, 8)"
      ]
     },
     "execution_count": 104,
     "metadata": {},
     "output_type": "execute_result"
    }
   ],
   "source": [
    "len(top_k_movies_recommended), len(recommended_movies_intersection_relavant_movies), len(top_k_movies_relevant)"
   ]
  },
  {
   "cell_type": "code",
   "execution_count": 105,
   "metadata": {},
   "outputs": [],
   "source": [
    "recall = len(recommended_movies_intersection_relavant_movies)/len(top_k_movies_relevant)\n",
    "precision = len(recommended_movies_intersection_relavant_movies)/len(top_k_movies_recommended)"
   ]
  },
  {
   "cell_type": "code",
   "execution_count": 106,
   "metadata": {},
   "outputs": [
    {
     "data": {
      "text/plain": [
       "(1.0, 0.875)"
      ]
     },
     "execution_count": 106,
     "metadata": {},
     "output_type": "execute_result"
    }
   ],
   "source": [
    "precision, recall"
   ]
  },
  {
   "cell_type": "code",
   "execution_count": 107,
   "metadata": {},
   "outputs": [
    {
     "data": {
      "text/plain": [
       "0.9333333333333333"
      ]
     },
     "execution_count": 107,
     "metadata": {},
     "output_type": "execute_result"
    }
   ],
   "source": [
    "f_score = 2*precision*recall/(precision+recall)\n",
    "f_score"
   ]
  },
  {
   "cell_type": "code",
   "execution_count": null,
   "metadata": {},
   "outputs": [],
   "source": []
  }
 ],
 "metadata": {
  "kernelspec": {
   "display_name": "Python 3",
   "language": "python",
   "name": "python3"
  },
  "language_info": {
   "codemirror_mode": {
    "name": "ipython",
    "version": 3
   },
   "file_extension": ".py",
   "mimetype": "text/x-python",
   "name": "python",
   "nbconvert_exporter": "python",
   "pygments_lexer": "ipython3",
   "version": "3.8.5"
  }
 },
 "nbformat": 4,
 "nbformat_minor": 4
}
