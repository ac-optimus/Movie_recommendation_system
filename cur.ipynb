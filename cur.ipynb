{
  "nbformat": 4,
  "nbformat_minor": 0,
  "metadata": {
    "kernelspec": {
      "display_name": "Python 3",
      "language": "python",
      "name": "python3"
    },
    "language_info": {
      "codemirror_mode": {
        "name": "ipython",
        "version": 3
      },
      "file_extension": ".py",
      "mimetype": "text/x-python",
      "name": "python",
      "nbconvert_exporter": "python",
      "pygments_lexer": "ipython3",
      "version": "3.8.5"
    },
    "colab": {
      "name": "cur.ipynb",
      "provenance": [],
      "collapsed_sections": [],
      "toc_visible": true
    }
  },
  "cells": [
    {
      "cell_type": "markdown",
      "metadata": {
        "id": "mzkB6lncp8Cp"
      },
      "source": [
        "### CUR\n"
      ]
    },
    {
      "cell_type": "code",
      "metadata": {
        "id": "uaO8OTWDp8Cx"
      },
      "source": [
        "import numpy as np\n",
        "import pandas as pd\n",
        "import matplotlib.pyplot as plt\n",
        "import warnings\n",
        "warnings.filterwarnings('ignore')"
      ],
      "execution_count": 1,
      "outputs": []
    },
    {
      "cell_type": "code",
      "metadata": {
        "colab": {
          "base_uri": "https://localhost:8080/"
        },
        "id": "ciIXSBOxp8Cz",
        "outputId": "57e2e81c-b3e7-4a21-b017-3c5876b1c0d4"
      },
      "source": [
        "df = pd.read_csv(\"ratings_small.csv\")[:100000] \n",
        "df.shape"
      ],
      "execution_count": 2,
      "outputs": [
        {
          "output_type": "execute_result",
          "data": {
            "text/plain": [
              "(100000, 4)"
            ]
          },
          "metadata": {
            "tags": []
          },
          "execution_count": 2
        }
      ]
    },
    {
      "cell_type": "code",
      "metadata": {
        "colab": {
          "base_uri": "https://localhost:8080/",
          "height": 204
        },
        "id": "i6-N0sAjp8C1",
        "outputId": "9105c6b6-d666-4466-b080-c4be92dfb0fe"
      },
      "source": [
        "df.drop('timestamp', axis=1, inplace=True)\n",
        "df.head()"
      ],
      "execution_count": 3,
      "outputs": [
        {
          "output_type": "execute_result",
          "data": {
            "text/html": [
              "<div>\n",
              "<style scoped>\n",
              "    .dataframe tbody tr th:only-of-type {\n",
              "        vertical-align: middle;\n",
              "    }\n",
              "\n",
              "    .dataframe tbody tr th {\n",
              "        vertical-align: top;\n",
              "    }\n",
              "\n",
              "    .dataframe thead th {\n",
              "        text-align: right;\n",
              "    }\n",
              "</style>\n",
              "<table border=\"1\" class=\"dataframe\">\n",
              "  <thead>\n",
              "    <tr style=\"text-align: right;\">\n",
              "      <th></th>\n",
              "      <th>userId</th>\n",
              "      <th>movieId</th>\n",
              "      <th>rating</th>\n",
              "    </tr>\n",
              "  </thead>\n",
              "  <tbody>\n",
              "    <tr>\n",
              "      <th>0</th>\n",
              "      <td>1</td>\n",
              "      <td>31</td>\n",
              "      <td>2.5</td>\n",
              "    </tr>\n",
              "    <tr>\n",
              "      <th>1</th>\n",
              "      <td>1</td>\n",
              "      <td>1029</td>\n",
              "      <td>3.0</td>\n",
              "    </tr>\n",
              "    <tr>\n",
              "      <th>2</th>\n",
              "      <td>1</td>\n",
              "      <td>1061</td>\n",
              "      <td>3.0</td>\n",
              "    </tr>\n",
              "    <tr>\n",
              "      <th>3</th>\n",
              "      <td>1</td>\n",
              "      <td>1129</td>\n",
              "      <td>2.0</td>\n",
              "    </tr>\n",
              "    <tr>\n",
              "      <th>4</th>\n",
              "      <td>1</td>\n",
              "      <td>1172</td>\n",
              "      <td>4.0</td>\n",
              "    </tr>\n",
              "  </tbody>\n",
              "</table>\n",
              "</div>"
            ],
            "text/plain": [
              "   userId  movieId  rating\n",
              "0       1       31     2.5\n",
              "1       1     1029     3.0\n",
              "2       1     1061     3.0\n",
              "3       1     1129     2.0\n",
              "4       1     1172     4.0"
            ]
          },
          "metadata": {
            "tags": []
          },
          "execution_count": 3
        }
      ]
    },
    {
      "cell_type": "code",
      "metadata": {
        "id": "Lo5x_D4Gp8C2"
      },
      "source": [
        "# shuffling the data\n",
        "from sklearn.utils import shuffle\n",
        "df = shuffle(df)"
      ],
      "execution_count": 4,
      "outputs": []
    },
    {
      "cell_type": "code",
      "metadata": {
        "colab": {
          "base_uri": "https://localhost:8080/",
          "height": 204
        },
        "id": "KYjEUDxkp8C2",
        "outputId": "fd7bbb13-c25e-4e22-f619-46948f96a97d"
      },
      "source": [
        "df.head()"
      ],
      "execution_count": 5,
      "outputs": [
        {
          "output_type": "execute_result",
          "data": {
            "text/html": [
              "<div>\n",
              "<style scoped>\n",
              "    .dataframe tbody tr th:only-of-type {\n",
              "        vertical-align: middle;\n",
              "    }\n",
              "\n",
              "    .dataframe tbody tr th {\n",
              "        vertical-align: top;\n",
              "    }\n",
              "\n",
              "    .dataframe thead th {\n",
              "        text-align: right;\n",
              "    }\n",
              "</style>\n",
              "<table border=\"1\" class=\"dataframe\">\n",
              "  <thead>\n",
              "    <tr style=\"text-align: right;\">\n",
              "      <th></th>\n",
              "      <th>userId</th>\n",
              "      <th>movieId</th>\n",
              "      <th>rating</th>\n",
              "    </tr>\n",
              "  </thead>\n",
              "  <tbody>\n",
              "    <tr>\n",
              "      <th>68627</th>\n",
              "      <td>475</td>\n",
              "      <td>77561</td>\n",
              "      <td>3.5</td>\n",
              "    </tr>\n",
              "    <tr>\n",
              "      <th>61623</th>\n",
              "      <td>452</td>\n",
              "      <td>912</td>\n",
              "      <td>5.0</td>\n",
              "    </tr>\n",
              "    <tr>\n",
              "      <th>13852</th>\n",
              "      <td>90</td>\n",
              "      <td>800</td>\n",
              "      <td>5.0</td>\n",
              "    </tr>\n",
              "    <tr>\n",
              "      <th>61209</th>\n",
              "      <td>447</td>\n",
              "      <td>555</td>\n",
              "      <td>3.0</td>\n",
              "    </tr>\n",
              "    <tr>\n",
              "      <th>66611</th>\n",
              "      <td>468</td>\n",
              "      <td>7407</td>\n",
              "      <td>2.5</td>\n",
              "    </tr>\n",
              "  </tbody>\n",
              "</table>\n",
              "</div>"
            ],
            "text/plain": [
              "       userId  movieId  rating\n",
              "68627     475    77561     3.5\n",
              "61623     452      912     5.0\n",
              "13852      90      800     5.0\n",
              "61209     447      555     3.0\n",
              "66611     468     7407     2.5"
            ]
          },
          "metadata": {
            "tags": []
          },
          "execution_count": 5
        }
      ]
    },
    {
      "cell_type": "code",
      "metadata": {
        "id": "DXT5ufbGp8C3"
      },
      "source": [
        "# train - 80% of the data.\n",
        "num_rows = df.shape[0]\n",
        "train, test = df.copy(deep = True), df[int(num_rows*0.8):].copy(deep = True)\n",
        "train[int(num_rows*0.8):]['rating']  = train[int(num_rows*0.8):]['rating']*0\n",
        "train = shuffle(train, random_state=0)"
      ],
      "execution_count": 6,
      "outputs": []
    },
    {
      "cell_type": "code",
      "metadata": {
        "colab": {
          "base_uri": "https://localhost:8080/",
          "height": 284
        },
        "id": "46EmxSeSp8C3",
        "outputId": "2d5c73d7-6ceb-4ca4-9be7-7e98151073e8"
      },
      "source": [
        "# creating user-movie rating utility matrix\n",
        "user_movie_rating =train.groupby(['userId','movieId'])['rating'].max().unstack().fillna(0)\n",
        "user_movie_rating.head()"
      ],
      "execution_count": 7,
      "outputs": [
        {
          "output_type": "execute_result",
          "data": {
            "text/html": [
              "<div>\n",
              "<style scoped>\n",
              "    .dataframe tbody tr th:only-of-type {\n",
              "        vertical-align: middle;\n",
              "    }\n",
              "\n",
              "    .dataframe tbody tr th {\n",
              "        vertical-align: top;\n",
              "    }\n",
              "\n",
              "    .dataframe thead th {\n",
              "        text-align: right;\n",
              "    }\n",
              "</style>\n",
              "<table border=\"1\" class=\"dataframe\">\n",
              "  <thead>\n",
              "    <tr style=\"text-align: right;\">\n",
              "      <th>movieId</th>\n",
              "      <th>1</th>\n",
              "      <th>2</th>\n",
              "      <th>3</th>\n",
              "      <th>4</th>\n",
              "      <th>5</th>\n",
              "      <th>6</th>\n",
              "      <th>7</th>\n",
              "      <th>8</th>\n",
              "      <th>9</th>\n",
              "      <th>10</th>\n",
              "      <th>11</th>\n",
              "      <th>12</th>\n",
              "      <th>13</th>\n",
              "      <th>14</th>\n",
              "      <th>15</th>\n",
              "      <th>16</th>\n",
              "      <th>17</th>\n",
              "      <th>18</th>\n",
              "      <th>19</th>\n",
              "      <th>20</th>\n",
              "      <th>21</th>\n",
              "      <th>22</th>\n",
              "      <th>23</th>\n",
              "      <th>24</th>\n",
              "      <th>25</th>\n",
              "      <th>26</th>\n",
              "      <th>27</th>\n",
              "      <th>28</th>\n",
              "      <th>29</th>\n",
              "      <th>30</th>\n",
              "      <th>31</th>\n",
              "      <th>32</th>\n",
              "      <th>34</th>\n",
              "      <th>35</th>\n",
              "      <th>36</th>\n",
              "      <th>37</th>\n",
              "      <th>38</th>\n",
              "      <th>39</th>\n",
              "      <th>40</th>\n",
              "      <th>41</th>\n",
              "      <th>...</th>\n",
              "      <th>155820</th>\n",
              "      <th>156025</th>\n",
              "      <th>156387</th>\n",
              "      <th>156607</th>\n",
              "      <th>156609</th>\n",
              "      <th>156726</th>\n",
              "      <th>157200</th>\n",
              "      <th>157296</th>\n",
              "      <th>157407</th>\n",
              "      <th>157667</th>\n",
              "      <th>158238</th>\n",
              "      <th>158314</th>\n",
              "      <th>158528</th>\n",
              "      <th>158956</th>\n",
              "      <th>159093</th>\n",
              "      <th>159462</th>\n",
              "      <th>159690</th>\n",
              "      <th>159755</th>\n",
              "      <th>159858</th>\n",
              "      <th>159972</th>\n",
              "      <th>160080</th>\n",
              "      <th>160271</th>\n",
              "      <th>160438</th>\n",
              "      <th>160440</th>\n",
              "      <th>160563</th>\n",
              "      <th>160565</th>\n",
              "      <th>160567</th>\n",
              "      <th>160590</th>\n",
              "      <th>160656</th>\n",
              "      <th>160718</th>\n",
              "      <th>161084</th>\n",
              "      <th>161155</th>\n",
              "      <th>161594</th>\n",
              "      <th>161830</th>\n",
              "      <th>161918</th>\n",
              "      <th>161944</th>\n",
              "      <th>162376</th>\n",
              "      <th>162542</th>\n",
              "      <th>162672</th>\n",
              "      <th>163949</th>\n",
              "    </tr>\n",
              "    <tr>\n",
              "      <th>userId</th>\n",
              "      <th></th>\n",
              "      <th></th>\n",
              "      <th></th>\n",
              "      <th></th>\n",
              "      <th></th>\n",
              "      <th></th>\n",
              "      <th></th>\n",
              "      <th></th>\n",
              "      <th></th>\n",
              "      <th></th>\n",
              "      <th></th>\n",
              "      <th></th>\n",
              "      <th></th>\n",
              "      <th></th>\n",
              "      <th></th>\n",
              "      <th></th>\n",
              "      <th></th>\n",
              "      <th></th>\n",
              "      <th></th>\n",
              "      <th></th>\n",
              "      <th></th>\n",
              "      <th></th>\n",
              "      <th></th>\n",
              "      <th></th>\n",
              "      <th></th>\n",
              "      <th></th>\n",
              "      <th></th>\n",
              "      <th></th>\n",
              "      <th></th>\n",
              "      <th></th>\n",
              "      <th></th>\n",
              "      <th></th>\n",
              "      <th></th>\n",
              "      <th></th>\n",
              "      <th></th>\n",
              "      <th></th>\n",
              "      <th></th>\n",
              "      <th></th>\n",
              "      <th></th>\n",
              "      <th></th>\n",
              "      <th></th>\n",
              "      <th></th>\n",
              "      <th></th>\n",
              "      <th></th>\n",
              "      <th></th>\n",
              "      <th></th>\n",
              "      <th></th>\n",
              "      <th></th>\n",
              "      <th></th>\n",
              "      <th></th>\n",
              "      <th></th>\n",
              "      <th></th>\n",
              "      <th></th>\n",
              "      <th></th>\n",
              "      <th></th>\n",
              "      <th></th>\n",
              "      <th></th>\n",
              "      <th></th>\n",
              "      <th></th>\n",
              "      <th></th>\n",
              "      <th></th>\n",
              "      <th></th>\n",
              "      <th></th>\n",
              "      <th></th>\n",
              "      <th></th>\n",
              "      <th></th>\n",
              "      <th></th>\n",
              "      <th></th>\n",
              "      <th></th>\n",
              "      <th></th>\n",
              "      <th></th>\n",
              "      <th></th>\n",
              "      <th></th>\n",
              "      <th></th>\n",
              "      <th></th>\n",
              "      <th></th>\n",
              "      <th></th>\n",
              "      <th></th>\n",
              "      <th></th>\n",
              "      <th></th>\n",
              "      <th></th>\n",
              "    </tr>\n",
              "  </thead>\n",
              "  <tbody>\n",
              "    <tr>\n",
              "      <th>1</th>\n",
              "      <td>0.0</td>\n",
              "      <td>0.0</td>\n",
              "      <td>0.0</td>\n",
              "      <td>0.0</td>\n",
              "      <td>0.0</td>\n",
              "      <td>0.0</td>\n",
              "      <td>0.0</td>\n",
              "      <td>0.0</td>\n",
              "      <td>0.0</td>\n",
              "      <td>0.0</td>\n",
              "      <td>0.0</td>\n",
              "      <td>0.0</td>\n",
              "      <td>0.0</td>\n",
              "      <td>0.0</td>\n",
              "      <td>0.0</td>\n",
              "      <td>0.0</td>\n",
              "      <td>0.0</td>\n",
              "      <td>0.0</td>\n",
              "      <td>0.0</td>\n",
              "      <td>0.0</td>\n",
              "      <td>0.0</td>\n",
              "      <td>0.0</td>\n",
              "      <td>0.0</td>\n",
              "      <td>0.0</td>\n",
              "      <td>0.0</td>\n",
              "      <td>0.0</td>\n",
              "      <td>0.0</td>\n",
              "      <td>0.0</td>\n",
              "      <td>0.0</td>\n",
              "      <td>0.0</td>\n",
              "      <td>0.0</td>\n",
              "      <td>0.0</td>\n",
              "      <td>0.0</td>\n",
              "      <td>0.0</td>\n",
              "      <td>0.0</td>\n",
              "      <td>0.0</td>\n",
              "      <td>0.0</td>\n",
              "      <td>0.0</td>\n",
              "      <td>0.0</td>\n",
              "      <td>0.0</td>\n",
              "      <td>...</td>\n",
              "      <td>0.0</td>\n",
              "      <td>0.0</td>\n",
              "      <td>0.0</td>\n",
              "      <td>0.0</td>\n",
              "      <td>0.0</td>\n",
              "      <td>0.0</td>\n",
              "      <td>0.0</td>\n",
              "      <td>0.0</td>\n",
              "      <td>0.0</td>\n",
              "      <td>0.0</td>\n",
              "      <td>0.0</td>\n",
              "      <td>0.0</td>\n",
              "      <td>0.0</td>\n",
              "      <td>0.0</td>\n",
              "      <td>0.0</td>\n",
              "      <td>0.0</td>\n",
              "      <td>0.0</td>\n",
              "      <td>0.0</td>\n",
              "      <td>0.0</td>\n",
              "      <td>0.0</td>\n",
              "      <td>0.0</td>\n",
              "      <td>0.0</td>\n",
              "      <td>0.0</td>\n",
              "      <td>0.0</td>\n",
              "      <td>0.0</td>\n",
              "      <td>0.0</td>\n",
              "      <td>0.0</td>\n",
              "      <td>0.0</td>\n",
              "      <td>0.0</td>\n",
              "      <td>0.0</td>\n",
              "      <td>0.0</td>\n",
              "      <td>0.0</td>\n",
              "      <td>0.0</td>\n",
              "      <td>0.0</td>\n",
              "      <td>0.0</td>\n",
              "      <td>0.0</td>\n",
              "      <td>0.0</td>\n",
              "      <td>0.0</td>\n",
              "      <td>0.0</td>\n",
              "      <td>0.0</td>\n",
              "    </tr>\n",
              "    <tr>\n",
              "      <th>2</th>\n",
              "      <td>0.0</td>\n",
              "      <td>0.0</td>\n",
              "      <td>0.0</td>\n",
              "      <td>0.0</td>\n",
              "      <td>0.0</td>\n",
              "      <td>0.0</td>\n",
              "      <td>0.0</td>\n",
              "      <td>0.0</td>\n",
              "      <td>0.0</td>\n",
              "      <td>0.0</td>\n",
              "      <td>0.0</td>\n",
              "      <td>0.0</td>\n",
              "      <td>0.0</td>\n",
              "      <td>0.0</td>\n",
              "      <td>0.0</td>\n",
              "      <td>0.0</td>\n",
              "      <td>5.0</td>\n",
              "      <td>0.0</td>\n",
              "      <td>0.0</td>\n",
              "      <td>0.0</td>\n",
              "      <td>0.0</td>\n",
              "      <td>0.0</td>\n",
              "      <td>0.0</td>\n",
              "      <td>0.0</td>\n",
              "      <td>0.0</td>\n",
              "      <td>0.0</td>\n",
              "      <td>0.0</td>\n",
              "      <td>0.0</td>\n",
              "      <td>0.0</td>\n",
              "      <td>0.0</td>\n",
              "      <td>0.0</td>\n",
              "      <td>0.0</td>\n",
              "      <td>0.0</td>\n",
              "      <td>0.0</td>\n",
              "      <td>0.0</td>\n",
              "      <td>0.0</td>\n",
              "      <td>0.0</td>\n",
              "      <td>5.0</td>\n",
              "      <td>0.0</td>\n",
              "      <td>0.0</td>\n",
              "      <td>...</td>\n",
              "      <td>0.0</td>\n",
              "      <td>0.0</td>\n",
              "      <td>0.0</td>\n",
              "      <td>0.0</td>\n",
              "      <td>0.0</td>\n",
              "      <td>0.0</td>\n",
              "      <td>0.0</td>\n",
              "      <td>0.0</td>\n",
              "      <td>0.0</td>\n",
              "      <td>0.0</td>\n",
              "      <td>0.0</td>\n",
              "      <td>0.0</td>\n",
              "      <td>0.0</td>\n",
              "      <td>0.0</td>\n",
              "      <td>0.0</td>\n",
              "      <td>0.0</td>\n",
              "      <td>0.0</td>\n",
              "      <td>0.0</td>\n",
              "      <td>0.0</td>\n",
              "      <td>0.0</td>\n",
              "      <td>0.0</td>\n",
              "      <td>0.0</td>\n",
              "      <td>0.0</td>\n",
              "      <td>0.0</td>\n",
              "      <td>0.0</td>\n",
              "      <td>0.0</td>\n",
              "      <td>0.0</td>\n",
              "      <td>0.0</td>\n",
              "      <td>0.0</td>\n",
              "      <td>0.0</td>\n",
              "      <td>0.0</td>\n",
              "      <td>0.0</td>\n",
              "      <td>0.0</td>\n",
              "      <td>0.0</td>\n",
              "      <td>0.0</td>\n",
              "      <td>0.0</td>\n",
              "      <td>0.0</td>\n",
              "      <td>0.0</td>\n",
              "      <td>0.0</td>\n",
              "      <td>0.0</td>\n",
              "    </tr>\n",
              "    <tr>\n",
              "      <th>3</th>\n",
              "      <td>0.0</td>\n",
              "      <td>0.0</td>\n",
              "      <td>0.0</td>\n",
              "      <td>0.0</td>\n",
              "      <td>0.0</td>\n",
              "      <td>0.0</td>\n",
              "      <td>0.0</td>\n",
              "      <td>0.0</td>\n",
              "      <td>0.0</td>\n",
              "      <td>0.0</td>\n",
              "      <td>0.0</td>\n",
              "      <td>0.0</td>\n",
              "      <td>0.0</td>\n",
              "      <td>0.0</td>\n",
              "      <td>0.0</td>\n",
              "      <td>0.0</td>\n",
              "      <td>0.0</td>\n",
              "      <td>0.0</td>\n",
              "      <td>0.0</td>\n",
              "      <td>0.0</td>\n",
              "      <td>0.0</td>\n",
              "      <td>0.0</td>\n",
              "      <td>0.0</td>\n",
              "      <td>0.0</td>\n",
              "      <td>0.0</td>\n",
              "      <td>0.0</td>\n",
              "      <td>0.0</td>\n",
              "      <td>0.0</td>\n",
              "      <td>0.0</td>\n",
              "      <td>0.0</td>\n",
              "      <td>0.0</td>\n",
              "      <td>0.0</td>\n",
              "      <td>0.0</td>\n",
              "      <td>0.0</td>\n",
              "      <td>0.0</td>\n",
              "      <td>0.0</td>\n",
              "      <td>0.0</td>\n",
              "      <td>0.0</td>\n",
              "      <td>0.0</td>\n",
              "      <td>0.0</td>\n",
              "      <td>...</td>\n",
              "      <td>0.0</td>\n",
              "      <td>0.0</td>\n",
              "      <td>0.0</td>\n",
              "      <td>0.0</td>\n",
              "      <td>0.0</td>\n",
              "      <td>0.0</td>\n",
              "      <td>0.0</td>\n",
              "      <td>0.0</td>\n",
              "      <td>0.0</td>\n",
              "      <td>0.0</td>\n",
              "      <td>0.0</td>\n",
              "      <td>0.0</td>\n",
              "      <td>0.0</td>\n",
              "      <td>0.0</td>\n",
              "      <td>0.0</td>\n",
              "      <td>0.0</td>\n",
              "      <td>0.0</td>\n",
              "      <td>0.0</td>\n",
              "      <td>0.0</td>\n",
              "      <td>0.0</td>\n",
              "      <td>0.0</td>\n",
              "      <td>0.0</td>\n",
              "      <td>0.0</td>\n",
              "      <td>0.0</td>\n",
              "      <td>0.0</td>\n",
              "      <td>0.0</td>\n",
              "      <td>0.0</td>\n",
              "      <td>0.0</td>\n",
              "      <td>0.0</td>\n",
              "      <td>0.0</td>\n",
              "      <td>0.0</td>\n",
              "      <td>0.0</td>\n",
              "      <td>0.0</td>\n",
              "      <td>0.0</td>\n",
              "      <td>0.0</td>\n",
              "      <td>0.0</td>\n",
              "      <td>0.0</td>\n",
              "      <td>0.0</td>\n",
              "      <td>0.0</td>\n",
              "      <td>0.0</td>\n",
              "    </tr>\n",
              "    <tr>\n",
              "      <th>4</th>\n",
              "      <td>0.0</td>\n",
              "      <td>0.0</td>\n",
              "      <td>0.0</td>\n",
              "      <td>0.0</td>\n",
              "      <td>0.0</td>\n",
              "      <td>0.0</td>\n",
              "      <td>0.0</td>\n",
              "      <td>0.0</td>\n",
              "      <td>0.0</td>\n",
              "      <td>0.0</td>\n",
              "      <td>0.0</td>\n",
              "      <td>0.0</td>\n",
              "      <td>0.0</td>\n",
              "      <td>0.0</td>\n",
              "      <td>0.0</td>\n",
              "      <td>0.0</td>\n",
              "      <td>0.0</td>\n",
              "      <td>0.0</td>\n",
              "      <td>0.0</td>\n",
              "      <td>0.0</td>\n",
              "      <td>0.0</td>\n",
              "      <td>0.0</td>\n",
              "      <td>0.0</td>\n",
              "      <td>0.0</td>\n",
              "      <td>0.0</td>\n",
              "      <td>0.0</td>\n",
              "      <td>0.0</td>\n",
              "      <td>0.0</td>\n",
              "      <td>0.0</td>\n",
              "      <td>0.0</td>\n",
              "      <td>0.0</td>\n",
              "      <td>0.0</td>\n",
              "      <td>5.0</td>\n",
              "      <td>0.0</td>\n",
              "      <td>0.0</td>\n",
              "      <td>0.0</td>\n",
              "      <td>0.0</td>\n",
              "      <td>0.0</td>\n",
              "      <td>0.0</td>\n",
              "      <td>0.0</td>\n",
              "      <td>...</td>\n",
              "      <td>0.0</td>\n",
              "      <td>0.0</td>\n",
              "      <td>0.0</td>\n",
              "      <td>0.0</td>\n",
              "      <td>0.0</td>\n",
              "      <td>0.0</td>\n",
              "      <td>0.0</td>\n",
              "      <td>0.0</td>\n",
              "      <td>0.0</td>\n",
              "      <td>0.0</td>\n",
              "      <td>0.0</td>\n",
              "      <td>0.0</td>\n",
              "      <td>0.0</td>\n",
              "      <td>0.0</td>\n",
              "      <td>0.0</td>\n",
              "      <td>0.0</td>\n",
              "      <td>0.0</td>\n",
              "      <td>0.0</td>\n",
              "      <td>0.0</td>\n",
              "      <td>0.0</td>\n",
              "      <td>0.0</td>\n",
              "      <td>0.0</td>\n",
              "      <td>0.0</td>\n",
              "      <td>0.0</td>\n",
              "      <td>0.0</td>\n",
              "      <td>0.0</td>\n",
              "      <td>0.0</td>\n",
              "      <td>0.0</td>\n",
              "      <td>0.0</td>\n",
              "      <td>0.0</td>\n",
              "      <td>0.0</td>\n",
              "      <td>0.0</td>\n",
              "      <td>0.0</td>\n",
              "      <td>0.0</td>\n",
              "      <td>0.0</td>\n",
              "      <td>0.0</td>\n",
              "      <td>0.0</td>\n",
              "      <td>0.0</td>\n",
              "      <td>0.0</td>\n",
              "      <td>0.0</td>\n",
              "    </tr>\n",
              "    <tr>\n",
              "      <th>5</th>\n",
              "      <td>0.0</td>\n",
              "      <td>0.0</td>\n",
              "      <td>4.0</td>\n",
              "      <td>0.0</td>\n",
              "      <td>0.0</td>\n",
              "      <td>0.0</td>\n",
              "      <td>0.0</td>\n",
              "      <td>0.0</td>\n",
              "      <td>0.0</td>\n",
              "      <td>0.0</td>\n",
              "      <td>0.0</td>\n",
              "      <td>0.0</td>\n",
              "      <td>0.0</td>\n",
              "      <td>0.0</td>\n",
              "      <td>0.0</td>\n",
              "      <td>0.0</td>\n",
              "      <td>0.0</td>\n",
              "      <td>0.0</td>\n",
              "      <td>0.0</td>\n",
              "      <td>0.0</td>\n",
              "      <td>0.0</td>\n",
              "      <td>0.0</td>\n",
              "      <td>0.0</td>\n",
              "      <td>0.0</td>\n",
              "      <td>0.0</td>\n",
              "      <td>0.0</td>\n",
              "      <td>0.0</td>\n",
              "      <td>0.0</td>\n",
              "      <td>0.0</td>\n",
              "      <td>0.0</td>\n",
              "      <td>0.0</td>\n",
              "      <td>0.0</td>\n",
              "      <td>0.0</td>\n",
              "      <td>0.0</td>\n",
              "      <td>0.0</td>\n",
              "      <td>0.0</td>\n",
              "      <td>0.0</td>\n",
              "      <td>4.0</td>\n",
              "      <td>0.0</td>\n",
              "      <td>0.0</td>\n",
              "      <td>...</td>\n",
              "      <td>0.0</td>\n",
              "      <td>0.0</td>\n",
              "      <td>0.0</td>\n",
              "      <td>0.0</td>\n",
              "      <td>0.0</td>\n",
              "      <td>0.0</td>\n",
              "      <td>0.0</td>\n",
              "      <td>0.0</td>\n",
              "      <td>0.0</td>\n",
              "      <td>0.0</td>\n",
              "      <td>0.0</td>\n",
              "      <td>0.0</td>\n",
              "      <td>0.0</td>\n",
              "      <td>0.0</td>\n",
              "      <td>0.0</td>\n",
              "      <td>0.0</td>\n",
              "      <td>0.0</td>\n",
              "      <td>0.0</td>\n",
              "      <td>0.0</td>\n",
              "      <td>0.0</td>\n",
              "      <td>0.0</td>\n",
              "      <td>0.0</td>\n",
              "      <td>0.0</td>\n",
              "      <td>0.0</td>\n",
              "      <td>0.0</td>\n",
              "      <td>0.0</td>\n",
              "      <td>0.0</td>\n",
              "      <td>0.0</td>\n",
              "      <td>0.0</td>\n",
              "      <td>0.0</td>\n",
              "      <td>0.0</td>\n",
              "      <td>0.0</td>\n",
              "      <td>0.0</td>\n",
              "      <td>0.0</td>\n",
              "      <td>0.0</td>\n",
              "      <td>0.0</td>\n",
              "      <td>0.0</td>\n",
              "      <td>0.0</td>\n",
              "      <td>0.0</td>\n",
              "      <td>0.0</td>\n",
              "    </tr>\n",
              "  </tbody>\n",
              "</table>\n",
              "<p>5 rows × 9066 columns</p>\n",
              "</div>"
            ],
            "text/plain": [
              "movieId  1       2       3       4       ...  162376  162542  162672  163949\n",
              "userId                                   ...                                \n",
              "1           0.0     0.0     0.0     0.0  ...     0.0     0.0     0.0     0.0\n",
              "2           0.0     0.0     0.0     0.0  ...     0.0     0.0     0.0     0.0\n",
              "3           0.0     0.0     0.0     0.0  ...     0.0     0.0     0.0     0.0\n",
              "4           0.0     0.0     0.0     0.0  ...     0.0     0.0     0.0     0.0\n",
              "5           0.0     0.0     4.0     0.0  ...     0.0     0.0     0.0     0.0\n",
              "\n",
              "[5 rows x 9066 columns]"
            ]
          },
          "metadata": {
            "tags": []
          },
          "execution_count": 7
        }
      ]
    },
    {
      "cell_type": "code",
      "metadata": {
        "id": "96LkFXfMp8C8"
      },
      "source": [
        "def low_rank_k(rank, u, s, v):\n",
        "    # SVD \n",
        "    u_new = u[:,:rank]\n",
        "    v_new = v[:rank, :]\n",
        "    s_new = s[:rank]\n",
        "    singular_mat = np.diag(s_new)\n",
        "    low_rank_mat = np.dot(np.dot(u_new, singular_mat), v_new)\n",
        "    return low_rank_mat"
      ],
      "execution_count": 8,
      "outputs": []
    },
    {
      "cell_type": "code",
      "metadata": {
        "id": "Q7VP_-Map8DA"
      },
      "source": [
        "def error(y_hat, y):\n",
        "    # MSE\n",
        "    y_hat = np.array(y_hat)\n",
        "    y = np.array(y)\n",
        "    MSE_ = (y_hat- y)**2\n",
        "    MSE = MSE_.sum()/len(y_hat)\n",
        "    return MSE"
      ],
      "execution_count": 9,
      "outputs": []
    },
    {
      "cell_type": "code",
      "metadata": {
        "id": "0KCIDis5p8DB"
      },
      "source": [
        "relevance_threshold = 1\n",
        "relevant_df = df.loc[(df['rating'] >= relevance_threshold)]"
      ],
      "execution_count": 10,
      "outputs": []
    },
    {
      "cell_type": "code",
      "metadata": {
        "id": "yo9gTof0p8DB",
        "colab": {
          "base_uri": "https://localhost:8080/"
        },
        "outputId": "ad2fc984-8a8e-460d-9578-3169051b6f28"
      },
      "source": [
        "print(\"Number of relevant user item pair is {} out of {}\".format(len(relevant_df), len(df)))"
      ],
      "execution_count": 11,
      "outputs": [
        {
          "output_type": "stream",
          "text": [
            "Number of relevant user item pair is 98899 out of 100000\n"
          ],
          "name": "stdout"
        }
      ]
    },
    {
      "cell_type": "code",
      "metadata": {
        "id": "B1hdVotZp8DC"
      },
      "source": [
        "u, s, v = np.linalg.svd(user_movie_rating, full_matrices=False)\n",
        "optimal_k=10\n",
        "Pred = low_rank_k(optimal_k, u, s, v)\n",
        "Pred = pd.DataFrame(Pred, columns=user_movie_rating.columns, index= user_movie_rating.index)\n",
        "y_hat = [Pred.loc[int(test.iloc[i]['userId']), int(test.iloc[i]['movieId'])] \n",
        "             for i in range(len(test))] "
      ],
      "execution_count": 12,
      "outputs": []
    },
    {
      "cell_type": "code",
      "metadata": {
        "id": "Lz4Ho67Wp8DC"
      },
      "source": [
        ""
      ],
      "execution_count": 12,
      "outputs": []
    },
    {
      "cell_type": "code",
      "metadata": {
        "id": "U0Dlgfmxp8C6"
      },
      "source": [
        "def cur(A, k):\n",
        "  \n",
        "  A = A.to_numpy()\n",
        "  # print(A.shape)\n",
        "\n",
        "  if (k > A.shape[0]) or (k > A.shape[1]):\n",
        "    print(\"error: k greater than matrix dimensions.\\n\")\n",
        "    return\n",
        "\n",
        "  R = np.zeros(( k, A.shape[1]))\n",
        "  C = np.zeros((A.shape[0], k))  \n",
        "  W = np.zeros((k, k))\n",
        "\n",
        "  A_square = A**2\n",
        "  A_sum_square = np.sum(A_square)\n",
        "    \n",
        "  #Prob of each row\n",
        "  prob_row = np.sum(A_square, axis = 1) / A_sum_square\n",
        "  #Prob of each col\n",
        "  prob_col =  np.sum(A_square, axis = 0) / A_sum_square\n",
        "  \n",
        "\n",
        "\n",
        "  #selecting rows\n",
        "  r_count = 0\n",
        "  row_taken_list = []\n",
        "  row_dup_list = []\n",
        "\n",
        "  while r_count < k:\n",
        "    i = np.random.choice(np.arange(A.shape[0]), p = prob_row)\n",
        "    #if row already taken, increase the count of duplicates\n",
        "    if i in row_taken_list:\n",
        "      row_dup_list[row_taken_list.index(i)] =  row_dup_list[row_taken_list.index(i)] + 1      \n",
        "    \n",
        "    #if row not taken, divide it with root of (k*prob of row) and take it\n",
        "    elif i not in row_taken_list:\n",
        "      R[r_count, :] = A[i, :] / np.sqrt(prob_row[i]*k)\n",
        "      r_count = r_count + 1\n",
        "      row_taken_list.append(i)\n",
        "      row_dup_list.append(1)\n",
        "        \n",
        "  \n",
        "  #multiplying rows by root of no. of duplicates\n",
        "  R = np.multiply(R.T, np.sqrt(row_dup_list))\n",
        "  R = R.T\n",
        "\n",
        "\n",
        "  #selecting columns\n",
        "  c_count = 0\n",
        "  col_taken_list = []\n",
        "  col_dup_list = []\n",
        "\n",
        "  while c_count < k:\n",
        "    i = np.random.choice(np.arange(A.shape[1]), p = prob_col)\n",
        "    #if column already taken, increase the count of duplicates\n",
        "    if i in col_taken_list:\n",
        "      col_dup_list[col_taken_list.index(i)] =  col_dup_list[col_taken_list.index(i)] + 1      \n",
        "    \n",
        "    #if column not taken, divide it with root of (k*prob of column) and take it\n",
        "    elif i not in col_taken_list:\n",
        "      C[:, c_count] = A[:, i] / np.sqrt(prob_col[i]*k)\n",
        "      c_count = c_count + 1\n",
        "      col_taken_list.append(i)\n",
        "      col_dup_list.append(1)\n",
        "  \n",
        "  #multiplying columns by root of no. of duplicates\n",
        "  C = np.multiply(C, np.sqrt(col_dup_list))\n",
        "\n",
        "  #intersection matrix W\n",
        "  for i, I in enumerate(row_taken_list):\n",
        "    for j, J in enumerate(col_taken_list):\n",
        "      W[i, j] = A[I, J]\n",
        "\n",
        "  #Calculating svd decomposition of W\n",
        "  X, sigma, Y_T = np.linalg.svd(W, full_matrices=False)\n",
        "  sigma = np.diag(sigma)\n",
        "\n",
        "  #Taking pseudo-inverse of sigma\n",
        "  for i in range(k):\n",
        "    if sigma[i, i] >= 1:\n",
        "      sigma[i, i] = 1/sigma[i, i]\n",
        "    else:\n",
        "      sigma[i, i] = 0\n",
        "\n",
        "  #Calculating U\n",
        "  U = np.dot(Y_T.T, np.dot(np.dot(sigma, sigma), X.T))\n",
        "\n",
        "  return C, U, R"
      ],
      "execution_count": 13,
      "outputs": []
    },
    {
      "cell_type": "code",
      "metadata": {
        "id": "Q-EVpeqlp8DQ"
      },
      "source": [
        "#Looping N times to select the min value of CUR for a particular k \n",
        "#Done to select C, U, R corresponding to the decomposition with min error \n",
        "def CUR_best(A, k, N = 10):\n",
        "  c, u, r  = cur(A, k)\n",
        "  err = error(A, c@u@r)\n",
        "  for i in range(N):\n",
        "    ctmp, utmp, rtmp  = cur(A, k)\n",
        "    err_temp = error(A, ctmp@utmp@rtmp)\n",
        "    Pred_my_new = np.dot(np.dot(ctmp, utmp), rtmp)\n",
        "    Pred_my_new = pd.DataFrame(Pred_my_new, columns=A.columns, index= A.index)\n",
        "    y_hat = [Pred_my_new.loc[int(test.iloc[i]['userId']), int(test.iloc[i]['movieId'])] \n",
        "                  for i in range(len(test))] \n",
        "    err_temp = error(y_hat, test['rating'])\n",
        "    if err_temp < err:\n",
        "      err = err_temp\n",
        "      c = ctmp\n",
        "      u = utmp\n",
        "      r = rtmp\n",
        "  return c, u, r, err\n",
        "\n",
        "errors= [] \n",
        "def cur_loop(A):\n",
        "    errors_my_new_1 = []\n",
        "    ks = np.arange(1, 650, 20)\n",
        "    for k in ks:\n",
        "      c,u,r, err = CUR_best(A, k)\n",
        "      errors_my_new_1.append(err)\n",
        "    return errors_my_new_1\n",
        "    \n",
        "errors = cur_loop(user_movie_rating)"
      ],
      "execution_count": 14,
      "outputs": []
    },
    {
      "cell_type": "code",
      "metadata": {
        "colab": {
          "base_uri": "https://localhost:8080/",
          "height": 329
        },
        "id": "ZbUzNf_ghx2i",
        "outputId": "f8f857ae-f4d9-4d56-b04c-6c7e733e0510"
      },
      "source": [
        "#plotting errors_pip\n",
        "plt.yscale(\"log\")\n",
        "plt.plot(np.arange(0, 660, 20), errors)\n",
        "plt.xlabel('k')\n",
        "plt.ylabel('log(error of k)')\n",
        "plt.title('k vs log(error of k) in range (0, 671)')\n",
        "plt.figure()"
      ],
      "execution_count": 15,
      "outputs": [
        {
          "output_type": "execute_result",
          "data": {
            "text/plain": [
              "<Figure size 432x288 with 0 Axes>"
            ]
          },
          "metadata": {
            "tags": []
          },
          "execution_count": 15
        },
        {
          "output_type": "display_data",
          "data": {
            "image/png": "[encoded data removed]",
            "text/plain": [
              "<Figure size 432x288 with 1 Axes>"
            ]
          },
          "metadata": {
            "tags": [],
            "needs_background": "light"
          }
        },
        {
          "output_type": "display_data",
          "data": {
            "text/plain": [
              "<Figure size 432x288 with 0 Axes>"
            ]
          },
          "metadata": {
            "tags": []
          }
        }
      ]
    },
    {
      "cell_type": "code",
      "metadata": {
        "colab": {
          "base_uri": "https://localhost:8080/"
        },
        "id": "Mll5gtpSH9ay",
        "outputId": "4980bd71-8fb8-45d3-d657-bf5bf917da06"
      },
      "source": [
        "np.arange(0, 660, 20)"
      ],
      "execution_count": 34,
      "outputs": [
        {
          "output_type": "execute_result",
          "data": {
            "text/plain": [
              "array([  0,  20,  40,  60,  80, 100, 120, 140, 160, 180, 200, 220, 240,\n",
              "       260, 280, 300, 320, 340, 360, 380, 400, 420, 440, 460, 480, 500,\n",
              "       520, 540, 560, 580, 600, 620, 640])"
            ]
          },
          "metadata": {
            "tags": []
          },
          "execution_count": 34
        }
      ]
    },
    {
      "cell_type": "code",
      "metadata": {
        "colab": {
          "base_uri": "https://localhost:8080/"
        },
        "id": "qd35_Ssgm2kV",
        "outputId": "3996f7d5-fa96-4aaa-a0de-9ba3b52b4e31"
      },
      "source": [
        "errors"
      ],
      "execution_count": 16,
      "outputs": [
        {
          "output_type": "execute_result",
          "data": {
            "text/plain": [
              "[13.742125,\n",
              " 256.8024089784333,\n",
              " 647.5038170727106,\n",
              " 436.950751931859,\n",
              " 349.39596813010706,\n",
              " 288.61431312331285,\n",
              " 230.07734940388966,\n",
              " 160.2207092096026,\n",
              " 154.3536590792949,\n",
              " 120.55660151994387,\n",
              " 100.1945034429731,\n",
              " 103.92618492389569,\n",
              " 93.97201014974796,\n",
              " 72.85692288928112,\n",
              " 71.02677125514806,\n",
              " 65.68553621316289,\n",
              " 61.72764572138842,\n",
              " 63.58086729097915,\n",
              " 62.796719167306996,\n",
              " 47.3217249884774,\n",
              " 58.14391626908556,\n",
              " 58.6876662260369,\n",
              " 49.27304218587773,\n",
              " 51.985775947243305,\n",
              " 46.79684916838867,\n",
              " 52.54889024642751,\n",
              " 51.94601735562526,\n",
              " 48.805665334946404,\n",
              " 55.08104316983966,\n",
              " 60.21967086357797,\n",
              " 61.89825624332248,\n",
              " 60.901661148657105,\n",
              " 73.22737418379113]"
            ]
          },
          "metadata": {
            "tags": []
          },
          "execution_count": 16
        }
      ]
    },
    {
      "cell_type": "code",
      "metadata": {
        "colab": {
          "base_uri": "https://localhost:8080/"
        },
        "id": "bZNYblaEN-Zs",
        "outputId": "94c75044-e12e-4a0f-9f9e-3f48bb47077a"
      },
      "source": [
        "  #Time taken for single CUR decomposition corresponding to the best k \n",
        "  %%time\n",
        "  A = user_movie_rating\n",
        "  k  = 480\n",
        "  y_hat = []\n",
        "  c, u, r  = cur(A, k)\n",
        "  err = error(A, c@u@r)\n",
        "  for i in range(0, 1):\n",
        "    ctmp, utmp, rtmp  = cur(A, k)\n",
        "    err_temp = error(A, ctmp@utmp@rtmp)\n",
        "    Pred_my_new = np.dot(np.dot(ctmp, utmp), rtmp)\n",
        "    Pred_my_new = pd.DataFrame(Pred_my_new, columns=A.columns, index= A.index)\n",
        "    y_hat_i = [Pred_my_new.loc[int(test.iloc[i]['userId']), int(test.iloc[i]['movieId'])] \n",
        "                  for i in range(len(test))] \n",
        "    err_temp = error(y_hat_i, test['rating'])\n",
        "    if err_temp < err:\n",
        "      err = err_temp\n",
        "      c = ctmp\n",
        "      u = utmp\n",
        "      r = rtmp\n",
        "      y_hat = y_hat_i"
      ],
      "execution_count": 35,
      "outputs": [
        {
          "output_type": "stream",
          "text": [
            "CPU times: user 7.97 s, sys: 512 ms, total: 8.48 s\n",
            "Wall time: 7.62 s\n"
          ],
          "name": "stdout"
        }
      ]
    },
    {
      "cell_type": "code",
      "metadata": {
        "id": "tkvbUwITp8DK",
        "colab": {
          "base_uri": "https://localhost:8080/",
          "height": 204
        },
        "outputId": "fb7cda5f-e019-4b36-d699-7da9c39dc73c"
      },
      "source": [
        "test['prediction'] = y_hat\n",
        "test.head()"
      ],
      "execution_count": 36,
      "outputs": [
        {
          "output_type": "execute_result",
          "data": {
            "text/html": [
              "<div>\n",
              "<style scoped>\n",
              "    .dataframe tbody tr th:only-of-type {\n",
              "        vertical-align: middle;\n",
              "    }\n",
              "\n",
              "    .dataframe tbody tr th {\n",
              "        vertical-align: top;\n",
              "    }\n",
              "\n",
              "    .dataframe thead th {\n",
              "        text-align: right;\n",
              "    }\n",
              "</style>\n",
              "<table border=\"1\" class=\"dataframe\">\n",
              "  <thead>\n",
              "    <tr style=\"text-align: right;\">\n",
              "      <th></th>\n",
              "      <th>userId</th>\n",
              "      <th>movieId</th>\n",
              "      <th>rating</th>\n",
              "      <th>prediction</th>\n",
              "    </tr>\n",
              "  </thead>\n",
              "  <tbody>\n",
              "    <tr>\n",
              "      <th>86626</th>\n",
              "      <td>580</td>\n",
              "      <td>899</td>\n",
              "      <td>4.0</td>\n",
              "      <td>8.440072</td>\n",
              "    </tr>\n",
              "    <tr>\n",
              "      <th>87195</th>\n",
              "      <td>580</td>\n",
              "      <td>7766</td>\n",
              "      <td>4.0</td>\n",
              "      <td>4.608307</td>\n",
              "    </tr>\n",
              "    <tr>\n",
              "      <th>73762</th>\n",
              "      <td>514</td>\n",
              "      <td>1252</td>\n",
              "      <td>4.0</td>\n",
              "      <td>0.523224</td>\n",
              "    </tr>\n",
              "    <tr>\n",
              "      <th>73166</th>\n",
              "      <td>509</td>\n",
              "      <td>7156</td>\n",
              "      <td>3.5</td>\n",
              "      <td>4.205320</td>\n",
              "    </tr>\n",
              "    <tr>\n",
              "      <th>46070</th>\n",
              "      <td>333</td>\n",
              "      <td>356</td>\n",
              "      <td>4.5</td>\n",
              "      <td>-2.762270</td>\n",
              "    </tr>\n",
              "  </tbody>\n",
              "</table>\n",
              "</div>"
            ],
            "text/plain": [
              "       userId  movieId  rating  prediction\n",
              "86626     580      899     4.0    8.440072\n",
              "87195     580     7766     4.0    4.608307\n",
              "73762     514     1252     4.0    0.523224\n",
              "73166     509     7156     3.5    4.205320\n",
              "46070     333      356     4.5   -2.762270"
            ]
          },
          "metadata": {
            "tags": []
          },
          "execution_count": 36
        }
      ]
    },
    {
      "cell_type": "code",
      "metadata": {
        "id": "b5zGsXQTjbc3"
      },
      "source": [
        "from collections import Counter\n",
        "user_freq_dict = Counter(test['userId'].tolist())\n",
        "max_voting = max(user_freq_dict.values())\n",
        "for i in user_freq_dict:\n",
        "    if user_freq_dict[i] == max_voting:\n",
        "        user_choice =i"
      ],
      "execution_count": 37,
      "outputs": []
    },
    {
      "cell_type": "code",
      "metadata": {
        "id": "7WODAWVFp8DL",
        "colab": {
          "base_uri": "https://localhost:8080/",
          "height": 204
        },
        "outputId": "0b7f6841-c827-4e29-80ca-e7b7f8310c6a"
      },
      "source": [
        "one_user= test.loc[(test['userId'] == 17)].sort_values('rating', \n",
        "                      inplace=False, \n",
        "                      ascending=False)\n",
        "one_user.head()"
      ],
      "execution_count": 38,
      "outputs": [
        {
          "output_type": "execute_result",
          "data": {
            "text/html": [
              "<div>\n",
              "<style scoped>\n",
              "    .dataframe tbody tr th:only-of-type {\n",
              "        vertical-align: middle;\n",
              "    }\n",
              "\n",
              "    .dataframe tbody tr th {\n",
              "        vertical-align: top;\n",
              "    }\n",
              "\n",
              "    .dataframe thead th {\n",
              "        text-align: right;\n",
              "    }\n",
              "</style>\n",
              "<table border=\"1\" class=\"dataframe\">\n",
              "  <thead>\n",
              "    <tr style=\"text-align: right;\">\n",
              "      <th></th>\n",
              "      <th>userId</th>\n",
              "      <th>movieId</th>\n",
              "      <th>rating</th>\n",
              "      <th>prediction</th>\n",
              "    </tr>\n",
              "  </thead>\n",
              "  <tbody>\n",
              "    <tr>\n",
              "      <th>3045</th>\n",
              "      <td>17</td>\n",
              "      <td>31410</td>\n",
              "      <td>5.0</td>\n",
              "      <td>-4.529378</td>\n",
              "    </tr>\n",
              "    <tr>\n",
              "      <th>2908</th>\n",
              "      <td>17</td>\n",
              "      <td>4848</td>\n",
              "      <td>5.0</td>\n",
              "      <td>0.679043</td>\n",
              "    </tr>\n",
              "    <tr>\n",
              "      <th>2712</th>\n",
              "      <td>17</td>\n",
              "      <td>318</td>\n",
              "      <td>5.0</td>\n",
              "      <td>4.269132</td>\n",
              "    </tr>\n",
              "    <tr>\n",
              "      <th>2996</th>\n",
              "      <td>17</td>\n",
              "      <td>7123</td>\n",
              "      <td>5.0</td>\n",
              "      <td>1.098429</td>\n",
              "    </tr>\n",
              "    <tr>\n",
              "      <th>2840</th>\n",
              "      <td>17</td>\n",
              "      <td>2551</td>\n",
              "      <td>5.0</td>\n",
              "      <td>1.227672</td>\n",
              "    </tr>\n",
              "  </tbody>\n",
              "</table>\n",
              "</div>"
            ],
            "text/plain": [
              "      userId  movieId  rating  prediction\n",
              "3045      17    31410     5.0   -4.529378\n",
              "2908      17     4848     5.0    0.679043\n",
              "2712      17      318     5.0    4.269132\n",
              "2996      17     7123     5.0    1.098429\n",
              "2840      17     2551     5.0    1.227672"
            ]
          },
          "metadata": {
            "tags": []
          },
          "execution_count": 38
        }
      ]
    },
    {
      "cell_type": "markdown",
      "metadata": {
        "id": "l2YOefqwp8DL"
      },
      "source": [
        "### Recall and Precision"
      ]
    },
    {
      "cell_type": "code",
      "metadata": {
        "id": "msoc7hi_p8DL",
        "colab": {
          "base_uri": "https://localhost:8080/"
        },
        "outputId": "51dcd2e1-40c8-410f-9d57-c8835bc1b3b0"
      },
      "source": [
        "relevance_threshold = 2\n",
        "recommended_movies = set(one_user.loc[(one_user['prediction'] >= relevance_threshold)]['movieId'].tolist())\n",
        "relavent_movies = set(one_user.loc[(one_user['rating'] >= relevance_threshold)]['movieId'].tolist())\n",
        "len(relavent_movies), len(recommended_movies)"
      ],
      "execution_count": 39,
      "outputs": [
        {
          "output_type": "execute_result",
          "data": {
            "text/plain": [
              "(80, 21)"
            ]
          },
          "metadata": {
            "tags": []
          },
          "execution_count": 39
        }
      ]
    },
    {
      "cell_type": "code",
      "metadata": {
        "id": "iSQasWJup8DM"
      },
      "source": [
        "recommended_movies_intersection_relavant_movies = [i for i in recommended_movies if i in relavent_movies]\n",
        "recommended_movies_intersection_relavant_movies;"
      ],
      "execution_count": 40,
      "outputs": []
    },
    {
      "cell_type": "code",
      "metadata": {
        "id": "3NLUe8YEp8DM",
        "colab": {
          "base_uri": "https://localhost:8080/"
        },
        "outputId": "065f4083-31a3-40ca-cde6-06fbb2a77d6c"
      },
      "source": [
        "len(recommended_movies), len(recommended_movies_intersection_relavant_movies), len(relavent_movies)"
      ],
      "execution_count": 41,
      "outputs": [
        {
          "output_type": "execute_result",
          "data": {
            "text/plain": [
              "(21, 20, 80)"
            ]
          },
          "metadata": {
            "tags": []
          },
          "execution_count": 41
        }
      ]
    },
    {
      "cell_type": "code",
      "metadata": {
        "id": "ObNuzNmep8DM"
      },
      "source": [
        "recall = len(recommended_movies_intersection_relavant_movies)/len(relavent_movies)\n",
        "precision = len(recommended_movies_intersection_relavant_movies)/len(recommended_movies)"
      ],
      "execution_count": 42,
      "outputs": []
    },
    {
      "cell_type": "code",
      "metadata": {
        "id": "Aci8rHtFp8DN",
        "colab": {
          "base_uri": "https://localhost:8080/"
        },
        "outputId": "7dd9d96c-0d80-475b-81ee-a639d7c1e99f"
      },
      "source": [
        "precision, recall"
      ],
      "execution_count": 43,
      "outputs": [
        {
          "output_type": "execute_result",
          "data": {
            "text/plain": [
              "(0.9523809523809523, 0.25)"
            ]
          },
          "metadata": {
            "tags": []
          },
          "execution_count": 43
        }
      ]
    },
    {
      "cell_type": "code",
      "metadata": {
        "id": "v2JIGUJCp8DN",
        "colab": {
          "base_uri": "https://localhost:8080/"
        },
        "outputId": "5f2a7862-b914-49d6-ddd9-6954c05ae9e5"
      },
      "source": [
        "f_score = 2*precision*recall/(precision+recall)\n",
        "f_score"
      ],
      "execution_count": 44,
      "outputs": [
        {
          "output_type": "execute_result",
          "data": {
            "text/plain": [
              "0.39603960396039606"
            ]
          },
          "metadata": {
            "tags": []
          },
          "execution_count": 44
        }
      ]
    },
    {
      "cell_type": "markdown",
      "metadata": {
        "id": "GFzjUdkyp8DO"
      },
      "source": [
        "### Recall@k and Precision@k\n",
        "- recall and precision on top k predictions"
      ]
    },
    {
      "cell_type": "code",
      "metadata": {
        "id": "0TfoJyLrp8DO",
        "colab": {
          "base_uri": "https://localhost:8080/",
          "height": 204
        },
        "outputId": "79511990-bb86-41f8-b277-e884021b6b4b"
      },
      "source": [
        "k=18\n",
        "top_k_predictions_df = one_user.sort_values('prediction', ascending=False)[:k]\n",
        "top_k_predictions_df.head()"
      ],
      "execution_count": 45,
      "outputs": [
        {
          "output_type": "execute_result",
          "data": {
            "text/html": [
              "<div>\n",
              "<style scoped>\n",
              "    .dataframe tbody tr th:only-of-type {\n",
              "        vertical-align: middle;\n",
              "    }\n",
              "\n",
              "    .dataframe tbody tr th {\n",
              "        vertical-align: top;\n",
              "    }\n",
              "\n",
              "    .dataframe thead th {\n",
              "        text-align: right;\n",
              "    }\n",
              "</style>\n",
              "<table border=\"1\" class=\"dataframe\">\n",
              "  <thead>\n",
              "    <tr style=\"text-align: right;\">\n",
              "      <th></th>\n",
              "      <th>userId</th>\n",
              "      <th>movieId</th>\n",
              "      <th>rating</th>\n",
              "      <th>prediction</th>\n",
              "    </tr>\n",
              "  </thead>\n",
              "  <tbody>\n",
              "    <tr>\n",
              "      <th>2695</th>\n",
              "      <td>17</td>\n",
              "      <td>36</td>\n",
              "      <td>4.5</td>\n",
              "      <td>18.617867</td>\n",
              "    </tr>\n",
              "    <tr>\n",
              "      <th>2701</th>\n",
              "      <td>17</td>\n",
              "      <td>185</td>\n",
              "      <td>3.0</td>\n",
              "      <td>16.341101</td>\n",
              "    </tr>\n",
              "    <tr>\n",
              "      <th>2857</th>\n",
              "      <td>17</td>\n",
              "      <td>2858</td>\n",
              "      <td>4.5</td>\n",
              "      <td>12.675472</td>\n",
              "    </tr>\n",
              "    <tr>\n",
              "      <th>2868</th>\n",
              "      <td>17</td>\n",
              "      <td>3160</td>\n",
              "      <td>2.5</td>\n",
              "      <td>11.870240</td>\n",
              "    </tr>\n",
              "    <tr>\n",
              "      <th>2883</th>\n",
              "      <td>17</td>\n",
              "      <td>3730</td>\n",
              "      <td>3.0</td>\n",
              "      <td>10.417786</td>\n",
              "    </tr>\n",
              "  </tbody>\n",
              "</table>\n",
              "</div>"
            ],
            "text/plain": [
              "      userId  movieId  rating  prediction\n",
              "2695      17       36     4.5   18.617867\n",
              "2701      17      185     3.0   16.341101\n",
              "2857      17     2858     4.5   12.675472\n",
              "2868      17     3160     2.5   11.870240\n",
              "2883      17     3730     3.0   10.417786"
            ]
          },
          "metadata": {
            "tags": []
          },
          "execution_count": 45
        }
      ]
    },
    {
      "cell_type": "code",
      "metadata": {
        "id": "uqOOGrU6p8DO"
      },
      "source": [
        "relevance_threshold=2\n",
        "top_k_movies_recommended = set(top_k_predictions_df.loc[(top_k_predictions_df['prediction'] >= relevance_threshold)]['movieId'].tolist())\n",
        "top_k_movies_relevant = set(top_k_predictions_df.loc[(top_k_predictions_df['rating'] >= relevance_threshold)]['movieId'].tolist())"
      ],
      "execution_count": 46,
      "outputs": []
    },
    {
      "cell_type": "code",
      "metadata": {
        "id": "JWxzcztPp8DP",
        "colab": {
          "base_uri": "https://localhost:8080/"
        },
        "outputId": "74a87407-ef12-4661-bd07-fdace825f8bc"
      },
      "source": [
        "recommended_movies_intersection_relavant_movies = [i for i in top_k_movies_recommended\n",
        "                                                   if i in top_k_movies_relevant]\n",
        "recommended_movies_intersection_relavant_movies"
      ],
      "execution_count": 47,
      "outputs": [
        {
          "output_type": "execute_result",
          "data": {
            "text/plain": [
              "[318,\n",
              " 866,\n",
              " 1411,\n",
              " 36,\n",
              " 965,\n",
              " 6502,\n",
              " 1255,\n",
              " 1464,\n",
              " 2858,\n",
              " 6987,\n",
              " 5105,\n",
              " 3730,\n",
              " 8914,\n",
              " 3160,\n",
              " 185,\n",
              " 1244,\n",
              " 25]"
            ]
          },
          "metadata": {
            "tags": []
          },
          "execution_count": 47
        }
      ]
    },
    {
      "cell_type": "code",
      "metadata": {
        "id": "fDWFZiXEp8DP",
        "colab": {
          "base_uri": "https://localhost:8080/"
        },
        "outputId": "5b8571f4-99bf-4001-fe68-32476132ca3f"
      },
      "source": [
        "len(top_k_movies_recommended), len(recommended_movies_intersection_relavant_movies), len(top_k_movies_relevant)"
      ],
      "execution_count": 48,
      "outputs": [
        {
          "output_type": "execute_result",
          "data": {
            "text/plain": [
              "(18, 17, 17)"
            ]
          },
          "metadata": {
            "tags": []
          },
          "execution_count": 48
        }
      ]
    },
    {
      "cell_type": "code",
      "metadata": {
        "id": "xw0n10CUp8DP"
      },
      "source": [
        "if len(top_k_movies_relevant)!=0:\n",
        "    recall = len(recommended_movies_intersection_relavant_movies)/len(top_k_movies_relevant)\n",
        "else:\n",
        "    recall = 1\n",
        "if len(top_k_movies_recommended)!=0:\n",
        "    precision = len(recommended_movies_intersection_relavant_movies)/len(top_k_movies_recommended)\n",
        "else:\n",
        "    precision = 1"
      ],
      "execution_count": 49,
      "outputs": []
    },
    {
      "cell_type": "code",
      "metadata": {
        "id": "eAxVo65wp8DP",
        "colab": {
          "base_uri": "https://localhost:8080/"
        },
        "outputId": "505f723b-4f31-4070-be27-cdbb4961541b"
      },
      "source": [
        "precision, recall"
      ],
      "execution_count": 50,
      "outputs": [
        {
          "output_type": "execute_result",
          "data": {
            "text/plain": [
              "(0.9444444444444444, 1.0)"
            ]
          },
          "metadata": {
            "tags": []
          },
          "execution_count": 50
        }
      ]
    },
    {
      "cell_type": "code",
      "metadata": {
        "id": "QhkY3OS_p8DQ",
        "colab": {
          "base_uri": "https://localhost:8080/"
        },
        "outputId": "5e5510f8-04e6-4300-d595-51de8eb45bfc"
      },
      "source": [
        "f_score = 2*precision*recall/(precision+recall)\n",
        "f_score"
      ],
      "execution_count": 51,
      "outputs": [
        {
          "output_type": "execute_result",
          "data": {
            "text/plain": [
              "0.9714285714285714"
            ]
          },
          "metadata": {
            "tags": []
          },
          "execution_count": 51
        }
      ]
    },
    {
      "cell_type": "code",
      "metadata": {
        "id": "oHH86m9RjAUW"
      },
      "source": [
        ""
      ],
      "execution_count": 33,
      "outputs": []
    }
  ]
}