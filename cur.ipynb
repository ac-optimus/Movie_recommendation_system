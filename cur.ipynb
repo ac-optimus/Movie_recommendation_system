{
  "nbformat": 4,
  "nbformat_minor": 0,
  "metadata": {
    "kernelspec": {
      "display_name": "Python 3",
      "language": "python",
      "name": "python3"
    },
    "language_info": {
      "codemirror_mode": {
        "name": "ipython",
        "version": 3
      },
      "file_extension": ".py",
      "mimetype": "text/x-python",
      "name": "python",
      "nbconvert_exporter": "python",
      "pygments_lexer": "ipython3",
      "version": "3.8.5"
    },
    "colab": {
      "name": "cur.ipynb",
      "provenance": [],
      "collapsed_sections": [],
      "toc_visible": true
    }
  },
  "cells": [
    {
      "cell_type": "markdown",
      "metadata": {
        "id": "mzkB6lncp8Cp"
      },
      "source": [
        "### Precision and Recall - SVD\n"
      ]
    },
    {
      "cell_type": "code",
      "metadata": {
        "id": "uaO8OTWDp8Cx"
      },
      "source": [
        "import numpy as np\n",
        "import pandas as pd\n",
        "import matplotlib.pyplot as plt\n",
        "import warnings\n",
        "warnings.filterwarnings('ignore')"
      ],
      "execution_count": 146,
      "outputs": []
    },
    {
      "cell_type": "code",
      "metadata": {
        "colab": {
          "base_uri": "https://localhost:8080/"
        },
        "id": "ciIXSBOxp8Cz",
        "outputId": "9c03f9ec-2457-4277-8155-889beca22137"
      },
      "source": [
        "df = pd.read_csv(\"ratings_small.csv\")[:100000] \n",
        "df.shape"
      ],
      "execution_count": 147,
      "outputs": [
        {
          "output_type": "execute_result",
          "data": {
            "text/plain": [
              "(100000, 4)"
            ]
          },
          "metadata": {
            "tags": []
          },
          "execution_count": 147
        }
      ]
    },
    {
      "cell_type": "code",
      "metadata": {
        "colab": {
          "base_uri": "https://localhost:8080/",
          "height": 204
        },
        "id": "i6-N0sAjp8C1",
        "outputId": "35e1f0e9-d356-4492-c138-005076f11599"
      },
      "source": [
        "df.drop('timestamp', axis=1, inplace=True)\n",
        "df.head()"
      ],
      "execution_count": 148,
      "outputs": [
        {
          "output_type": "execute_result",
          "data": {
            "text/html": [
              "<div>\n",
              "<style scoped>\n",
              "    .dataframe tbody tr th:only-of-type {\n",
              "        vertical-align: middle;\n",
              "    }\n",
              "\n",
              "    .dataframe tbody tr th {\n",
              "        vertical-align: top;\n",
              "    }\n",
              "\n",
              "    .dataframe thead th {\n",
              "        text-align: right;\n",
              "    }\n",
              "</style>\n",
              "<table border=\"1\" class=\"dataframe\">\n",
              "  <thead>\n",
              "    <tr style=\"text-align: right;\">\n",
              "      <th></th>\n",
              "      <th>userId</th>\n",
              "      <th>movieId</th>\n",
              "      <th>rating</th>\n",
              "    </tr>\n",
              "  </thead>\n",
              "  <tbody>\n",
              "    <tr>\n",
              "      <th>0</th>\n",
              "      <td>1</td>\n",
              "      <td>31</td>\n",
              "      <td>2.5</td>\n",
              "    </tr>\n",
              "    <tr>\n",
              "      <th>1</th>\n",
              "      <td>1</td>\n",
              "      <td>1029</td>\n",
              "      <td>3.0</td>\n",
              "    </tr>\n",
              "    <tr>\n",
              "      <th>2</th>\n",
              "      <td>1</td>\n",
              "      <td>1061</td>\n",
              "      <td>3.0</td>\n",
              "    </tr>\n",
              "    <tr>\n",
              "      <th>3</th>\n",
              "      <td>1</td>\n",
              "      <td>1129</td>\n",
              "      <td>2.0</td>\n",
              "    </tr>\n",
              "    <tr>\n",
              "      <th>4</th>\n",
              "      <td>1</td>\n",
              "      <td>1172</td>\n",
              "      <td>4.0</td>\n",
              "    </tr>\n",
              "  </tbody>\n",
              "</table>\n",
              "</div>"
            ],
            "text/plain": [
              "   userId  movieId  rating\n",
              "0       1       31     2.5\n",
              "1       1     1029     3.0\n",
              "2       1     1061     3.0\n",
              "3       1     1129     2.0\n",
              "4       1     1172     4.0"
            ]
          },
          "metadata": {
            "tags": []
          },
          "execution_count": 148
        }
      ]
    },
    {
      "cell_type": "code",
      "metadata": {
        "id": "Lo5x_D4Gp8C2"
      },
      "source": [
        "# shuffling the data\n",
        "from sklearn.utils import shuffle\n",
        "df = shuffle(df)"
      ],
      "execution_count": 149,
      "outputs": []
    },
    {
      "cell_type": "code",
      "metadata": {
        "colab": {
          "base_uri": "https://localhost:8080/",
          "height": 204
        },
        "id": "KYjEUDxkp8C2",
        "outputId": "4c3ad403-89e0-4654-bfda-97a583217b24"
      },
      "source": [
        "df.head()"
      ],
      "execution_count": 150,
      "outputs": [
        {
          "output_type": "execute_result",
          "data": {
            "text/html": [
              "<div>\n",
              "<style scoped>\n",
              "    .dataframe tbody tr th:only-of-type {\n",
              "        vertical-align: middle;\n",
              "    }\n",
              "\n",
              "    .dataframe tbody tr th {\n",
              "        vertical-align: top;\n",
              "    }\n",
              "\n",
              "    .dataframe thead th {\n",
              "        text-align: right;\n",
              "    }\n",
              "</style>\n",
              "<table border=\"1\" class=\"dataframe\">\n",
              "  <thead>\n",
              "    <tr style=\"text-align: right;\">\n",
              "      <th></th>\n",
              "      <th>userId</th>\n",
              "      <th>movieId</th>\n",
              "      <th>rating</th>\n",
              "    </tr>\n",
              "  </thead>\n",
              "  <tbody>\n",
              "    <tr>\n",
              "      <th>9416</th>\n",
              "      <td>63</td>\n",
              "      <td>1</td>\n",
              "      <td>5.0</td>\n",
              "    </tr>\n",
              "    <tr>\n",
              "      <th>90162</th>\n",
              "      <td>598</td>\n",
              "      <td>2797</td>\n",
              "      <td>4.0</td>\n",
              "    </tr>\n",
              "    <tr>\n",
              "      <th>67505</th>\n",
              "      <td>472</td>\n",
              "      <td>1321</td>\n",
              "      <td>4.5</td>\n",
              "    </tr>\n",
              "    <tr>\n",
              "      <th>42919</th>\n",
              "      <td>306</td>\n",
              "      <td>2829</td>\n",
              "      <td>3.0</td>\n",
              "    </tr>\n",
              "    <tr>\n",
              "      <th>99147</th>\n",
              "      <td>664</td>\n",
              "      <td>69526</td>\n",
              "      <td>4.0</td>\n",
              "    </tr>\n",
              "  </tbody>\n",
              "</table>\n",
              "</div>"
            ],
            "text/plain": [
              "       userId  movieId  rating\n",
              "9416       63        1     5.0\n",
              "90162     598     2797     4.0\n",
              "67505     472     1321     4.5\n",
              "42919     306     2829     3.0\n",
              "99147     664    69526     4.0"
            ]
          },
          "metadata": {
            "tags": []
          },
          "execution_count": 150
        }
      ]
    },
    {
      "cell_type": "code",
      "metadata": {
        "id": "DXT5ufbGp8C3"
      },
      "source": [
        "# train - 80% of the data.\n",
        "num_rows = df.shape[0]\n",
        "train, test = df.copy(deep = True), df[int(num_rows*0.8):].copy(deep = True)\n",
        "train[int(num_rows*0.8):]['rating']  = train[int(num_rows*0.8):]['rating']*0\n",
        "train = shuffle(train, random_state=0)"
      ],
      "execution_count": 151,
      "outputs": []
    },
    {
      "cell_type": "code",
      "metadata": {
        "colab": {
          "base_uri": "https://localhost:8080/",
          "height": 284
        },
        "id": "46EmxSeSp8C3",
        "outputId": "fb0dbe18-dd0e-4928-d421-7aa995aa375d"
      },
      "source": [
        "# creating user-movie rating utility matrix\n",
        "user_movie_rating =train.groupby(['userId','movieId'])['rating'].max().unstack().fillna(0)\n",
        "user_movie_rating.head()"
      ],
      "execution_count": 152,
      "outputs": [
        {
          "output_type": "execute_result",
          "data": {
            "text/html": [
              "<div>\n",
              "<style scoped>\n",
              "    .dataframe tbody tr th:only-of-type {\n",
              "        vertical-align: middle;\n",
              "    }\n",
              "\n",
              "    .dataframe tbody tr th {\n",
              "        vertical-align: top;\n",
              "    }\n",
              "\n",
              "    .dataframe thead th {\n",
              "        text-align: right;\n",
              "    }\n",
              "</style>\n",
              "<table border=\"1\" class=\"dataframe\">\n",
              "  <thead>\n",
              "    <tr style=\"text-align: right;\">\n",
              "      <th>movieId</th>\n",
              "      <th>1</th>\n",
              "      <th>2</th>\n",
              "      <th>3</th>\n",
              "      <th>4</th>\n",
              "      <th>5</th>\n",
              "      <th>6</th>\n",
              "      <th>7</th>\n",
              "      <th>8</th>\n",
              "      <th>9</th>\n",
              "      <th>10</th>\n",
              "      <th>11</th>\n",
              "      <th>12</th>\n",
              "      <th>13</th>\n",
              "      <th>14</th>\n",
              "      <th>15</th>\n",
              "      <th>16</th>\n",
              "      <th>17</th>\n",
              "      <th>18</th>\n",
              "      <th>19</th>\n",
              "      <th>20</th>\n",
              "      <th>21</th>\n",
              "      <th>22</th>\n",
              "      <th>23</th>\n",
              "      <th>24</th>\n",
              "      <th>25</th>\n",
              "      <th>26</th>\n",
              "      <th>27</th>\n",
              "      <th>28</th>\n",
              "      <th>29</th>\n",
              "      <th>30</th>\n",
              "      <th>31</th>\n",
              "      <th>32</th>\n",
              "      <th>34</th>\n",
              "      <th>35</th>\n",
              "      <th>36</th>\n",
              "      <th>37</th>\n",
              "      <th>38</th>\n",
              "      <th>39</th>\n",
              "      <th>40</th>\n",
              "      <th>41</th>\n",
              "      <th>...</th>\n",
              "      <th>155820</th>\n",
              "      <th>156025</th>\n",
              "      <th>156387</th>\n",
              "      <th>156607</th>\n",
              "      <th>156609</th>\n",
              "      <th>156726</th>\n",
              "      <th>157200</th>\n",
              "      <th>157296</th>\n",
              "      <th>157407</th>\n",
              "      <th>157667</th>\n",
              "      <th>158238</th>\n",
              "      <th>158314</th>\n",
              "      <th>158528</th>\n",
              "      <th>158956</th>\n",
              "      <th>159093</th>\n",
              "      <th>159462</th>\n",
              "      <th>159690</th>\n",
              "      <th>159755</th>\n",
              "      <th>159858</th>\n",
              "      <th>159972</th>\n",
              "      <th>160080</th>\n",
              "      <th>160271</th>\n",
              "      <th>160438</th>\n",
              "      <th>160440</th>\n",
              "      <th>160563</th>\n",
              "      <th>160565</th>\n",
              "      <th>160567</th>\n",
              "      <th>160590</th>\n",
              "      <th>160656</th>\n",
              "      <th>160718</th>\n",
              "      <th>161084</th>\n",
              "      <th>161155</th>\n",
              "      <th>161594</th>\n",
              "      <th>161830</th>\n",
              "      <th>161918</th>\n",
              "      <th>161944</th>\n",
              "      <th>162376</th>\n",
              "      <th>162542</th>\n",
              "      <th>162672</th>\n",
              "      <th>163949</th>\n",
              "    </tr>\n",
              "    <tr>\n",
              "      <th>userId</th>\n",
              "      <th></th>\n",
              "      <th></th>\n",
              "      <th></th>\n",
              "      <th></th>\n",
              "      <th></th>\n",
              "      <th></th>\n",
              "      <th></th>\n",
              "      <th></th>\n",
              "      <th></th>\n",
              "      <th></th>\n",
              "      <th></th>\n",
              "      <th></th>\n",
              "      <th></th>\n",
              "      <th></th>\n",
              "      <th></th>\n",
              "      <th></th>\n",
              "      <th></th>\n",
              "      <th></th>\n",
              "      <th></th>\n",
              "      <th></th>\n",
              "      <th></th>\n",
              "      <th></th>\n",
              "      <th></th>\n",
              "      <th></th>\n",
              "      <th></th>\n",
              "      <th></th>\n",
              "      <th></th>\n",
              "      <th></th>\n",
              "      <th></th>\n",
              "      <th></th>\n",
              "      <th></th>\n",
              "      <th></th>\n",
              "      <th></th>\n",
              "      <th></th>\n",
              "      <th></th>\n",
              "      <th></th>\n",
              "      <th></th>\n",
              "      <th></th>\n",
              "      <th></th>\n",
              "      <th></th>\n",
              "      <th></th>\n",
              "      <th></th>\n",
              "      <th></th>\n",
              "      <th></th>\n",
              "      <th></th>\n",
              "      <th></th>\n",
              "      <th></th>\n",
              "      <th></th>\n",
              "      <th></th>\n",
              "      <th></th>\n",
              "      <th></th>\n",
              "      <th></th>\n",
              "      <th></th>\n",
              "      <th></th>\n",
              "      <th></th>\n",
              "      <th></th>\n",
              "      <th></th>\n",
              "      <th></th>\n",
              "      <th></th>\n",
              "      <th></th>\n",
              "      <th></th>\n",
              "      <th></th>\n",
              "      <th></th>\n",
              "      <th></th>\n",
              "      <th></th>\n",
              "      <th></th>\n",
              "      <th></th>\n",
              "      <th></th>\n",
              "      <th></th>\n",
              "      <th></th>\n",
              "      <th></th>\n",
              "      <th></th>\n",
              "      <th></th>\n",
              "      <th></th>\n",
              "      <th></th>\n",
              "      <th></th>\n",
              "      <th></th>\n",
              "      <th></th>\n",
              "      <th></th>\n",
              "      <th></th>\n",
              "      <th></th>\n",
              "    </tr>\n",
              "  </thead>\n",
              "  <tbody>\n",
              "    <tr>\n",
              "      <th>1</th>\n",
              "      <td>0.0</td>\n",
              "      <td>0.0</td>\n",
              "      <td>0.0</td>\n",
              "      <td>0.0</td>\n",
              "      <td>0.0</td>\n",
              "      <td>0.0</td>\n",
              "      <td>0.0</td>\n",
              "      <td>0.0</td>\n",
              "      <td>0.0</td>\n",
              "      <td>0.0</td>\n",
              "      <td>0.0</td>\n",
              "      <td>0.0</td>\n",
              "      <td>0.0</td>\n",
              "      <td>0.0</td>\n",
              "      <td>0.0</td>\n",
              "      <td>0.0</td>\n",
              "      <td>0.0</td>\n",
              "      <td>0.0</td>\n",
              "      <td>0.0</td>\n",
              "      <td>0.0</td>\n",
              "      <td>0.0</td>\n",
              "      <td>0.0</td>\n",
              "      <td>0.0</td>\n",
              "      <td>0.0</td>\n",
              "      <td>0.0</td>\n",
              "      <td>0.0</td>\n",
              "      <td>0.0</td>\n",
              "      <td>0.0</td>\n",
              "      <td>0.0</td>\n",
              "      <td>0.0</td>\n",
              "      <td>2.5</td>\n",
              "      <td>0.0</td>\n",
              "      <td>0.0</td>\n",
              "      <td>0.0</td>\n",
              "      <td>0.0</td>\n",
              "      <td>0.0</td>\n",
              "      <td>0.0</td>\n",
              "      <td>0.0</td>\n",
              "      <td>0.0</td>\n",
              "      <td>0.0</td>\n",
              "      <td>...</td>\n",
              "      <td>0.0</td>\n",
              "      <td>0.0</td>\n",
              "      <td>0.0</td>\n",
              "      <td>0.0</td>\n",
              "      <td>0.0</td>\n",
              "      <td>0.0</td>\n",
              "      <td>0.0</td>\n",
              "      <td>0.0</td>\n",
              "      <td>0.0</td>\n",
              "      <td>0.0</td>\n",
              "      <td>0.0</td>\n",
              "      <td>0.0</td>\n",
              "      <td>0.0</td>\n",
              "      <td>0.0</td>\n",
              "      <td>0.0</td>\n",
              "      <td>0.0</td>\n",
              "      <td>0.0</td>\n",
              "      <td>0.0</td>\n",
              "      <td>0.0</td>\n",
              "      <td>0.0</td>\n",
              "      <td>0.0</td>\n",
              "      <td>0.0</td>\n",
              "      <td>0.0</td>\n",
              "      <td>0.0</td>\n",
              "      <td>0.0</td>\n",
              "      <td>0.0</td>\n",
              "      <td>0.0</td>\n",
              "      <td>0.0</td>\n",
              "      <td>0.0</td>\n",
              "      <td>0.0</td>\n",
              "      <td>0.0</td>\n",
              "      <td>0.0</td>\n",
              "      <td>0.0</td>\n",
              "      <td>0.0</td>\n",
              "      <td>0.0</td>\n",
              "      <td>0.0</td>\n",
              "      <td>0.0</td>\n",
              "      <td>0.0</td>\n",
              "      <td>0.0</td>\n",
              "      <td>0.0</td>\n",
              "    </tr>\n",
              "    <tr>\n",
              "      <th>2</th>\n",
              "      <td>0.0</td>\n",
              "      <td>0.0</td>\n",
              "      <td>0.0</td>\n",
              "      <td>0.0</td>\n",
              "      <td>0.0</td>\n",
              "      <td>0.0</td>\n",
              "      <td>0.0</td>\n",
              "      <td>0.0</td>\n",
              "      <td>0.0</td>\n",
              "      <td>4.0</td>\n",
              "      <td>0.0</td>\n",
              "      <td>0.0</td>\n",
              "      <td>0.0</td>\n",
              "      <td>0.0</td>\n",
              "      <td>0.0</td>\n",
              "      <td>0.0</td>\n",
              "      <td>5.0</td>\n",
              "      <td>0.0</td>\n",
              "      <td>0.0</td>\n",
              "      <td>0.0</td>\n",
              "      <td>0.0</td>\n",
              "      <td>0.0</td>\n",
              "      <td>0.0</td>\n",
              "      <td>0.0</td>\n",
              "      <td>0.0</td>\n",
              "      <td>0.0</td>\n",
              "      <td>0.0</td>\n",
              "      <td>0.0</td>\n",
              "      <td>0.0</td>\n",
              "      <td>0.0</td>\n",
              "      <td>0.0</td>\n",
              "      <td>0.0</td>\n",
              "      <td>0.0</td>\n",
              "      <td>0.0</td>\n",
              "      <td>0.0</td>\n",
              "      <td>0.0</td>\n",
              "      <td>0.0</td>\n",
              "      <td>5.0</td>\n",
              "      <td>0.0</td>\n",
              "      <td>0.0</td>\n",
              "      <td>...</td>\n",
              "      <td>0.0</td>\n",
              "      <td>0.0</td>\n",
              "      <td>0.0</td>\n",
              "      <td>0.0</td>\n",
              "      <td>0.0</td>\n",
              "      <td>0.0</td>\n",
              "      <td>0.0</td>\n",
              "      <td>0.0</td>\n",
              "      <td>0.0</td>\n",
              "      <td>0.0</td>\n",
              "      <td>0.0</td>\n",
              "      <td>0.0</td>\n",
              "      <td>0.0</td>\n",
              "      <td>0.0</td>\n",
              "      <td>0.0</td>\n",
              "      <td>0.0</td>\n",
              "      <td>0.0</td>\n",
              "      <td>0.0</td>\n",
              "      <td>0.0</td>\n",
              "      <td>0.0</td>\n",
              "      <td>0.0</td>\n",
              "      <td>0.0</td>\n",
              "      <td>0.0</td>\n",
              "      <td>0.0</td>\n",
              "      <td>0.0</td>\n",
              "      <td>0.0</td>\n",
              "      <td>0.0</td>\n",
              "      <td>0.0</td>\n",
              "      <td>0.0</td>\n",
              "      <td>0.0</td>\n",
              "      <td>0.0</td>\n",
              "      <td>0.0</td>\n",
              "      <td>0.0</td>\n",
              "      <td>0.0</td>\n",
              "      <td>0.0</td>\n",
              "      <td>0.0</td>\n",
              "      <td>0.0</td>\n",
              "      <td>0.0</td>\n",
              "      <td>0.0</td>\n",
              "      <td>0.0</td>\n",
              "    </tr>\n",
              "    <tr>\n",
              "      <th>3</th>\n",
              "      <td>0.0</td>\n",
              "      <td>0.0</td>\n",
              "      <td>0.0</td>\n",
              "      <td>0.0</td>\n",
              "      <td>0.0</td>\n",
              "      <td>0.0</td>\n",
              "      <td>0.0</td>\n",
              "      <td>0.0</td>\n",
              "      <td>0.0</td>\n",
              "      <td>0.0</td>\n",
              "      <td>0.0</td>\n",
              "      <td>0.0</td>\n",
              "      <td>0.0</td>\n",
              "      <td>0.0</td>\n",
              "      <td>0.0</td>\n",
              "      <td>0.0</td>\n",
              "      <td>0.0</td>\n",
              "      <td>0.0</td>\n",
              "      <td>0.0</td>\n",
              "      <td>0.0</td>\n",
              "      <td>0.0</td>\n",
              "      <td>0.0</td>\n",
              "      <td>0.0</td>\n",
              "      <td>0.0</td>\n",
              "      <td>0.0</td>\n",
              "      <td>0.0</td>\n",
              "      <td>0.0</td>\n",
              "      <td>0.0</td>\n",
              "      <td>0.0</td>\n",
              "      <td>0.0</td>\n",
              "      <td>0.0</td>\n",
              "      <td>0.0</td>\n",
              "      <td>0.0</td>\n",
              "      <td>0.0</td>\n",
              "      <td>0.0</td>\n",
              "      <td>0.0</td>\n",
              "      <td>0.0</td>\n",
              "      <td>0.0</td>\n",
              "      <td>0.0</td>\n",
              "      <td>0.0</td>\n",
              "      <td>...</td>\n",
              "      <td>0.0</td>\n",
              "      <td>0.0</td>\n",
              "      <td>0.0</td>\n",
              "      <td>0.0</td>\n",
              "      <td>0.0</td>\n",
              "      <td>0.0</td>\n",
              "      <td>0.0</td>\n",
              "      <td>0.0</td>\n",
              "      <td>0.0</td>\n",
              "      <td>0.0</td>\n",
              "      <td>0.0</td>\n",
              "      <td>0.0</td>\n",
              "      <td>0.0</td>\n",
              "      <td>0.0</td>\n",
              "      <td>0.0</td>\n",
              "      <td>0.0</td>\n",
              "      <td>0.0</td>\n",
              "      <td>0.0</td>\n",
              "      <td>0.0</td>\n",
              "      <td>0.0</td>\n",
              "      <td>0.0</td>\n",
              "      <td>0.0</td>\n",
              "      <td>0.0</td>\n",
              "      <td>0.0</td>\n",
              "      <td>0.0</td>\n",
              "      <td>0.0</td>\n",
              "      <td>0.0</td>\n",
              "      <td>0.0</td>\n",
              "      <td>0.0</td>\n",
              "      <td>0.0</td>\n",
              "      <td>0.0</td>\n",
              "      <td>0.0</td>\n",
              "      <td>0.0</td>\n",
              "      <td>0.0</td>\n",
              "      <td>0.0</td>\n",
              "      <td>0.0</td>\n",
              "      <td>0.0</td>\n",
              "      <td>0.0</td>\n",
              "      <td>0.0</td>\n",
              "      <td>0.0</td>\n",
              "    </tr>\n",
              "    <tr>\n",
              "      <th>4</th>\n",
              "      <td>0.0</td>\n",
              "      <td>0.0</td>\n",
              "      <td>0.0</td>\n",
              "      <td>0.0</td>\n",
              "      <td>0.0</td>\n",
              "      <td>0.0</td>\n",
              "      <td>0.0</td>\n",
              "      <td>0.0</td>\n",
              "      <td>0.0</td>\n",
              "      <td>4.0</td>\n",
              "      <td>0.0</td>\n",
              "      <td>0.0</td>\n",
              "      <td>0.0</td>\n",
              "      <td>0.0</td>\n",
              "      <td>0.0</td>\n",
              "      <td>0.0</td>\n",
              "      <td>0.0</td>\n",
              "      <td>0.0</td>\n",
              "      <td>0.0</td>\n",
              "      <td>0.0</td>\n",
              "      <td>0.0</td>\n",
              "      <td>0.0</td>\n",
              "      <td>0.0</td>\n",
              "      <td>0.0</td>\n",
              "      <td>0.0</td>\n",
              "      <td>0.0</td>\n",
              "      <td>0.0</td>\n",
              "      <td>0.0</td>\n",
              "      <td>0.0</td>\n",
              "      <td>0.0</td>\n",
              "      <td>0.0</td>\n",
              "      <td>0.0</td>\n",
              "      <td>5.0</td>\n",
              "      <td>0.0</td>\n",
              "      <td>0.0</td>\n",
              "      <td>0.0</td>\n",
              "      <td>0.0</td>\n",
              "      <td>0.0</td>\n",
              "      <td>0.0</td>\n",
              "      <td>0.0</td>\n",
              "      <td>...</td>\n",
              "      <td>0.0</td>\n",
              "      <td>0.0</td>\n",
              "      <td>0.0</td>\n",
              "      <td>0.0</td>\n",
              "      <td>0.0</td>\n",
              "      <td>0.0</td>\n",
              "      <td>0.0</td>\n",
              "      <td>0.0</td>\n",
              "      <td>0.0</td>\n",
              "      <td>0.0</td>\n",
              "      <td>0.0</td>\n",
              "      <td>0.0</td>\n",
              "      <td>0.0</td>\n",
              "      <td>0.0</td>\n",
              "      <td>0.0</td>\n",
              "      <td>0.0</td>\n",
              "      <td>0.0</td>\n",
              "      <td>0.0</td>\n",
              "      <td>0.0</td>\n",
              "      <td>0.0</td>\n",
              "      <td>0.0</td>\n",
              "      <td>0.0</td>\n",
              "      <td>0.0</td>\n",
              "      <td>0.0</td>\n",
              "      <td>0.0</td>\n",
              "      <td>0.0</td>\n",
              "      <td>0.0</td>\n",
              "      <td>0.0</td>\n",
              "      <td>0.0</td>\n",
              "      <td>0.0</td>\n",
              "      <td>0.0</td>\n",
              "      <td>0.0</td>\n",
              "      <td>0.0</td>\n",
              "      <td>0.0</td>\n",
              "      <td>0.0</td>\n",
              "      <td>0.0</td>\n",
              "      <td>0.0</td>\n",
              "      <td>0.0</td>\n",
              "      <td>0.0</td>\n",
              "      <td>0.0</td>\n",
              "    </tr>\n",
              "    <tr>\n",
              "      <th>5</th>\n",
              "      <td>0.0</td>\n",
              "      <td>0.0</td>\n",
              "      <td>4.0</td>\n",
              "      <td>0.0</td>\n",
              "      <td>0.0</td>\n",
              "      <td>0.0</td>\n",
              "      <td>0.0</td>\n",
              "      <td>0.0</td>\n",
              "      <td>0.0</td>\n",
              "      <td>0.0</td>\n",
              "      <td>0.0</td>\n",
              "      <td>0.0</td>\n",
              "      <td>0.0</td>\n",
              "      <td>0.0</td>\n",
              "      <td>0.0</td>\n",
              "      <td>0.0</td>\n",
              "      <td>0.0</td>\n",
              "      <td>0.0</td>\n",
              "      <td>0.0</td>\n",
              "      <td>0.0</td>\n",
              "      <td>0.0</td>\n",
              "      <td>0.0</td>\n",
              "      <td>0.0</td>\n",
              "      <td>0.0</td>\n",
              "      <td>0.0</td>\n",
              "      <td>0.0</td>\n",
              "      <td>0.0</td>\n",
              "      <td>0.0</td>\n",
              "      <td>0.0</td>\n",
              "      <td>0.0</td>\n",
              "      <td>0.0</td>\n",
              "      <td>0.0</td>\n",
              "      <td>0.0</td>\n",
              "      <td>0.0</td>\n",
              "      <td>0.0</td>\n",
              "      <td>0.0</td>\n",
              "      <td>0.0</td>\n",
              "      <td>4.0</td>\n",
              "      <td>0.0</td>\n",
              "      <td>0.0</td>\n",
              "      <td>...</td>\n",
              "      <td>0.0</td>\n",
              "      <td>0.0</td>\n",
              "      <td>0.0</td>\n",
              "      <td>0.0</td>\n",
              "      <td>0.0</td>\n",
              "      <td>0.0</td>\n",
              "      <td>0.0</td>\n",
              "      <td>0.0</td>\n",
              "      <td>0.0</td>\n",
              "      <td>0.0</td>\n",
              "      <td>0.0</td>\n",
              "      <td>0.0</td>\n",
              "      <td>0.0</td>\n",
              "      <td>0.0</td>\n",
              "      <td>0.0</td>\n",
              "      <td>0.0</td>\n",
              "      <td>0.0</td>\n",
              "      <td>0.0</td>\n",
              "      <td>0.0</td>\n",
              "      <td>0.0</td>\n",
              "      <td>0.0</td>\n",
              "      <td>0.0</td>\n",
              "      <td>0.0</td>\n",
              "      <td>0.0</td>\n",
              "      <td>0.0</td>\n",
              "      <td>0.0</td>\n",
              "      <td>0.0</td>\n",
              "      <td>0.0</td>\n",
              "      <td>0.0</td>\n",
              "      <td>0.0</td>\n",
              "      <td>0.0</td>\n",
              "      <td>0.0</td>\n",
              "      <td>0.0</td>\n",
              "      <td>0.0</td>\n",
              "      <td>0.0</td>\n",
              "      <td>0.0</td>\n",
              "      <td>0.0</td>\n",
              "      <td>0.0</td>\n",
              "      <td>0.0</td>\n",
              "      <td>0.0</td>\n",
              "    </tr>\n",
              "  </tbody>\n",
              "</table>\n",
              "<p>5 rows × 9066 columns</p>\n",
              "</div>"
            ],
            "text/plain": [
              "movieId  1       2       3       4       ...  162376  162542  162672  163949\n",
              "userId                                   ...                                \n",
              "1           0.0     0.0     0.0     0.0  ...     0.0     0.0     0.0     0.0\n",
              "2           0.0     0.0     0.0     0.0  ...     0.0     0.0     0.0     0.0\n",
              "3           0.0     0.0     0.0     0.0  ...     0.0     0.0     0.0     0.0\n",
              "4           0.0     0.0     0.0     0.0  ...     0.0     0.0     0.0     0.0\n",
              "5           0.0     0.0     4.0     0.0  ...     0.0     0.0     0.0     0.0\n",
              "\n",
              "[5 rows x 9066 columns]"
            ]
          },
          "metadata": {
            "tags": []
          },
          "execution_count": 152
        }
      ]
    },
    {
      "cell_type": "markdown",
      "metadata": {
        "id": "vd8oJOghp8C4"
      },
      "source": [
        "\n",
        "- Null values replaced  with zeros"
      ]
    },
    {
      "cell_type": "code",
      "metadata": {
        "colab": {
          "base_uri": "https://localhost:8080/"
        },
        "id": "juQCP_2-p8C5",
        "outputId": "00bd06f2-c124-4721-a59f-0b6e8ab7890c"
      },
      "source": [
        "np.sum(user_movie_rating.to_numpy())"
      ],
      "execution_count": 153,
      "outputs": [
        {
          "output_type": "execute_result",
          "data": {
            "text/plain": [
              "283747.0"
            ]
          },
          "metadata": {
            "tags": []
          },
          "execution_count": 153
        }
      ]
    },
    {
      "cell_type": "code",
      "metadata": {
        "id": "96LkFXfMp8C8"
      },
      "source": [
        "def low_rank_k(rank, u, s, v):\n",
        "    # SVD \n",
        "    u_new = u[:,:rank]\n",
        "    v_new = v[:rank, :]\n",
        "    s_new = s[:rank]\n",
        "    singular_mat = np.diag(s_new)\n",
        "    low_rank_mat = np.dot(np.dot(u_new, singular_mat), v_new)\n",
        "    return low_rank_mat"
      ],
      "execution_count": 154,
      "outputs": []
    },
    {
      "cell_type": "code",
      "metadata": {
        "id": "Q7VP_-Map8DA"
      },
      "source": [
        "def error(y_hat, y):\n",
        "    # MSE\n",
        "    y_hat = np.array(y_hat)\n",
        "    y = np.array(y)\n",
        "    MSE_ = (y_hat- y)**2\n",
        "    MSE = MSE_.sum()\n",
        "    return MSE"
      ],
      "execution_count": 155,
      "outputs": []
    },
    {
      "cell_type": "code",
      "metadata": {
        "id": "0KCIDis5p8DB"
      },
      "source": [
        "relevance_threshold = 1\n",
        "relevant_df = df.loc[(df['rating'] >= relevance_threshold)]"
      ],
      "execution_count": 156,
      "outputs": []
    },
    {
      "cell_type": "code",
      "metadata": {
        "id": "yo9gTof0p8DB",
        "colab": {
          "base_uri": "https://localhost:8080/"
        },
        "outputId": "8d40063a-0fc5-4069-9a7f-4bbd2a0eee28"
      },
      "source": [
        "print(\"Number of relevant user item pair is {} out of {}\".format(len(relevant_df), len(df)))"
      ],
      "execution_count": 157,
      "outputs": [
        {
          "output_type": "stream",
          "text": [
            "Number of relevant user item pair is 98899 out of 100000\n"
          ],
          "name": "stdout"
        }
      ]
    },
    {
      "cell_type": "code",
      "metadata": {
        "id": "B1hdVotZp8DC"
      },
      "source": [
        "u, s, v = np.linalg.svd(user_movie_rating, full_matrices=False)\n",
        "optimal_k=10\n",
        "Pred = low_rank_k(optimal_k, u, s, v)\n",
        "Pred = pd.DataFrame(Pred, columns=user_movie_rating.columns, index= user_movie_rating.index)\n",
        "y_hat = [Pred.loc[int(test.iloc[i]['userId']), int(test.iloc[i]['movieId'])] \n",
        "             for i in range(len(test))] "
      ],
      "execution_count": 158,
      "outputs": []
    },
    {
      "cell_type": "code",
      "metadata": {
        "id": "Lz4Ho67Wp8DC"
      },
      "source": [
        ""
      ],
      "execution_count": 158,
      "outputs": []
    },
    {
      "cell_type": "code",
      "metadata": {
        "id": "U0Dlgfmxp8C6"
      },
      "source": [
        "def cur(A, k):\n",
        "  \n",
        "  A = A.to_numpy()\n",
        "  # print(A.shape)\n",
        "\n",
        "  if (k > A.shape[0]) or (k > A.shape[1]):\n",
        "    print(\"error: k greater than matrix dimensions.\\n\")\n",
        "    return\n",
        "\n",
        "  R = np.zeros(( k, A.shape[1]))\n",
        "  C = np.zeros((A.shape[0], k))  \n",
        "  W = np.zeros((k, k))\n",
        "\n",
        "  A_square = A**2\n",
        "  A_sum_square = np.sum(A_square)\n",
        "    \n",
        "  #Prob of each row\n",
        "  prob_row = np.sum(A_square, axis = 1) / A_sum_square\n",
        "  #Prob of each col\n",
        "  prob_col =  np.sum(A_square, axis = 0) / A_sum_square\n",
        "  \n",
        "\n",
        "\n",
        "  #selecting rows\n",
        "  r_count = 0\n",
        "  row_taken_list = []\n",
        "  row_dup_list = []\n",
        "\n",
        "  while r_count < k:\n",
        "    i = np.random.choice(np.arange(A.shape[0]), p = prob_row)\n",
        "    # d = d + 1\n",
        "    #if row already taken, increase the count of duplicates\n",
        "    if i in row_taken_list:\n",
        "#       print (len(row_dup_list), len(row_taken_list), i)\n",
        "      row_dup_list[row_taken_list.index(i)] =  row_dup_list[row_taken_list.index(i)] + 1      \n",
        "    \n",
        "    #if row not taken, divide it with root of (k*prob of row) and take it\n",
        "    elif i not in row_taken_list:\n",
        "      R[r_count, :] = A[i, :] / np.sqrt(prob_row[i]*k)\n",
        "      r_count = r_count + 1\n",
        "      row_taken_list.append(i)\n",
        "      row_dup_list.append(1)\n",
        "        \n",
        "  \n",
        "  #multiplying rows by root of no. of duplicates\n",
        "  R = np.multiply(R.T, np.sqrt(row_dup_list))\n",
        "  R = R.T\n",
        "\n",
        "\n",
        "  #selecting columns\n",
        "  c_count = 0\n",
        "  col_taken_list = []\n",
        "  col_dup_list = []\n",
        "\n",
        "  while c_count < k:\n",
        "    i = np.random.choice(np.arange(A.shape[1]), p = prob_col)\n",
        "    #if column already taken, increase the count of duplicates\n",
        "    if i in col_taken_list:\n",
        "      col_dup_list[col_taken_list.index(i)] =  col_dup_list[col_taken_list.index(i)] + 1      \n",
        "    \n",
        "    #if column not taken, divide it with root of (k*prob of column) and take it\n",
        "    elif i not in col_taken_list:\n",
        "      C[:, c_count] = A[:, i] / np.sqrt(prob_col[i]*k)\n",
        "      c_count = c_count + 1\n",
        "      col_taken_list.append(i)\n",
        "      col_dup_list.append(1)\n",
        "  \n",
        "  #multiplying columns by root of no. of duplicates\n",
        "  C = np.multiply(C, np.sqrt(col_dup_list))\n",
        "\n",
        "  #intersection matrix W\n",
        "  for i, I in enumerate(row_taken_list):\n",
        "    for j, J in enumerate(col_taken_list):\n",
        "      W[i, j] = A[I, J]\n",
        "\n",
        "  #Calculating svd decomposition of W\n",
        "  X, sigma, Y_T = np.linalg.svd(W, full_matrices=False)\n",
        "  sigma = np.diag(sigma)\n",
        "\n",
        "  #Taking pseudo-inverse of sigma\n",
        "  for i in range(k):\n",
        "    if sigma[i, i] >= 1:\n",
        "      sigma[i, i] = 1/sigma[i, i]\n",
        "    else:\n",
        "      sigma[i, i] = 0\n",
        "\n",
        "  #Calculating U\n",
        "  U = np.dot(Y_T.T, np.dot(np.dot(sigma, sigma), X.T))\n",
        "\n",
        "  return C, U, R"
      ],
      "execution_count": 159,
      "outputs": []
    },
    {
      "cell_type": "code",
      "metadata": {
        "id": "SdyeV9PAp8DD"
      },
      "source": [
        ""
      ],
      "execution_count": 14,
      "outputs": []
    },
    {
      "cell_type": "code",
      "metadata": {
        "id": "G_cPryTSp8DD"
      },
      "source": [
        ""
      ],
      "execution_count": 14,
      "outputs": []
    },
    {
      "cell_type": "code",
      "metadata": {
        "id": "Q-EVpeqlp8DQ"
      },
      "source": [
        "\n",
        "def CUR_best(A, k, N = 10):\n",
        "  c, u, r  = cur(A, k)\n",
        "  err = error(A, c@u@r)\n",
        "  for i in range(N):\n",
        "    ctmp, utmp, rtmp  = cur(A, k)\n",
        "    err_temp = error(A, ctmp@utmp@rtmp)\n",
        "    Pred_my_new = np.dot(np.dot(ctmp, utmp), rtmp)\n",
        "    Pred_my_new = pd.DataFrame(Pred_my_new, columns=A.columns, index= A.index)\n",
        "    y_hat = [Pred_my_new.loc[int(test.iloc[i]['userId']), int(test.iloc[i]['movieId'])] \n",
        "                  for i in range(len(test))] \n",
        "    err_temp = error(y_hat, test['rating'])\n",
        "    if err_temp < err:\n",
        "      err = err_temp\n",
        "      c = ctmp\n",
        "      u = utmp\n",
        "      r = rtmp\n",
        "  return c, u, r, err\n",
        "\n",
        "errors= [] \n",
        "def give_cur_results(A):\n",
        "    errors_my_new_1 = []\n",
        "    ks = np.arange(1, 650, 20)\n",
        "    for k in ks:\n",
        "      c,u,r, err = CUR_best(A, k)\n",
        "      errors_my_new_1.append(err)\n",
        "    return errors_my_new_1\n",
        "    \n",
        "errors=give_cur_results(user_movie_rating)"
      ],
      "execution_count": 145,
      "outputs": []
    },
    {
      "cell_type": "code",
      "metadata": {
        "id": "ZbUzNf_ghx2i"
      },
      "source": [
        "#plotting errors_pip\n",
        "plt.yscale(\"log\")\n",
        "plt.plot(errors)\n",
        "\n",
        "plt.figure()"
      ],
      "execution_count": null,
      "outputs": []
    },
    {
      "cell_type": "code",
      "metadata": {
        "id": "qd35_Ssgm2kV"
      },
      "source": [
        "errors"
      ],
      "execution_count": null,
      "outputs": []
    },
    {
      "cell_type": "code",
      "metadata": {
        "id": "wjXLVsRCN-jJ"
      },
      "source": [
        ""
      ],
      "execution_count": null,
      "outputs": []
    },
    {
      "cell_type": "code",
      "metadata": {
        "colab": {
          "base_uri": "https://localhost:8080/"
        },
        "id": "bZNYblaEN-Zs",
        "outputId": "02c24a6b-b383-4b3b-fd69-09d78c988c88"
      },
      "source": [
        "  %%time\n",
        "  A = user_movie_rating\n",
        "  k  = 441\n",
        "  y_hat = []\n",
        "  c, u, r  = cur(A, k)\n",
        "  err = error(A, c@u@r)\n",
        "  for i in range(0, 1):\n",
        "    ctmp, utmp, rtmp  = cur(A, k)\n",
        "    err_temp = error(A, ctmp@utmp@rtmp)\n",
        "    Pred_my_new = np.dot(np.dot(ctmp, utmp), rtmp)\n",
        "    Pred_my_new = pd.DataFrame(Pred_my_new, columns=A.columns, index= A.index)\n",
        "    y_hat_i = [Pred_my_new.loc[int(test.iloc[i]['userId']), int(test.iloc[i]['movieId'])] \n",
        "                  for i in range(len(test))] \n",
        "    err_temp = error(y_hat_i, test['rating'])\n",
        "    if err_temp < err:\n",
        "      err = err_temp\n",
        "      c = ctmp\n",
        "      u = utmp\n",
        "      r = rtmp\n",
        "      y_hat = y_hat_i"
      ],
      "execution_count": 160,
      "outputs": [
        {
          "output_type": "stream",
          "text": [
            "CPU times: user 8.26 s, sys: 394 ms, total: 8.65 s\n",
            "Wall time: 7.67 s\n"
          ],
          "name": "stdout"
        }
      ]
    },
    {
      "cell_type": "code",
      "metadata": {
        "id": "tkvbUwITp8DK",
        "colab": {
          "base_uri": "https://localhost:8080/",
          "height": 204
        },
        "outputId": "e97ddf6e-94bd-4c22-ce81-e36ff88f604b"
      },
      "source": [
        "test['prediction'] = y_hat\n",
        "test.head()"
      ],
      "execution_count": 161,
      "outputs": [
        {
          "output_type": "execute_result",
          "data": {
            "text/html": [
              "<div>\n",
              "<style scoped>\n",
              "    .dataframe tbody tr th:only-of-type {\n",
              "        vertical-align: middle;\n",
              "    }\n",
              "\n",
              "    .dataframe tbody tr th {\n",
              "        vertical-align: top;\n",
              "    }\n",
              "\n",
              "    .dataframe thead th {\n",
              "        text-align: right;\n",
              "    }\n",
              "</style>\n",
              "<table border=\"1\" class=\"dataframe\">\n",
              "  <thead>\n",
              "    <tr style=\"text-align: right;\">\n",
              "      <th></th>\n",
              "      <th>userId</th>\n",
              "      <th>movieId</th>\n",
              "      <th>rating</th>\n",
              "      <th>prediction</th>\n",
              "    </tr>\n",
              "  </thead>\n",
              "  <tbody>\n",
              "    <tr>\n",
              "      <th>19291</th>\n",
              "      <td>128</td>\n",
              "      <td>4977</td>\n",
              "      <td>3.0</td>\n",
              "      <td>1.458386</td>\n",
              "    </tr>\n",
              "    <tr>\n",
              "      <th>10417</th>\n",
              "      <td>73</td>\n",
              "      <td>1199</td>\n",
              "      <td>4.5</td>\n",
              "      <td>-28.826666</td>\n",
              "    </tr>\n",
              "    <tr>\n",
              "      <th>79025</th>\n",
              "      <td>547</td>\n",
              "      <td>2441</td>\n",
              "      <td>3.0</td>\n",
              "      <td>1.035142</td>\n",
              "    </tr>\n",
              "    <tr>\n",
              "      <th>15241</th>\n",
              "      <td>99</td>\n",
              "      <td>3160</td>\n",
              "      <td>5.0</td>\n",
              "      <td>0.182133</td>\n",
              "    </tr>\n",
              "    <tr>\n",
              "      <th>66654</th>\n",
              "      <td>468</td>\n",
              "      <td>8609</td>\n",
              "      <td>4.5</td>\n",
              "      <td>0.000000</td>\n",
              "    </tr>\n",
              "  </tbody>\n",
              "</table>\n",
              "</div>"
            ],
            "text/plain": [
              "       userId  movieId  rating  prediction\n",
              "19291     128     4977     3.0    1.458386\n",
              "10417      73     1199     4.5  -28.826666\n",
              "79025     547     2441     3.0    1.035142\n",
              "15241      99     3160     5.0    0.182133\n",
              "66654     468     8609     4.5    0.000000"
            ]
          },
          "metadata": {
            "tags": []
          },
          "execution_count": 161
        }
      ]
    },
    {
      "cell_type": "code",
      "metadata": {
        "id": "b5zGsXQTjbc3"
      },
      "source": [
        "from collections import Counter\n",
        "user_freq_dict = Counter(test['userId'].tolist())\n",
        "max_voting = max(user_freq_dict.values())\n",
        "for i in user_freq_dict:\n",
        "    if user_freq_dict[i] == max_voting:\n",
        "        user_choice =i"
      ],
      "execution_count": 162,
      "outputs": []
    },
    {
      "cell_type": "code",
      "metadata": {
        "id": "7WODAWVFp8DL",
        "colab": {
          "base_uri": "https://localhost:8080/",
          "height": 204
        },
        "outputId": "2774e9d8-3d96-4b6d-be1c-1107ac42f411"
      },
      "source": [
        "\n",
        "\n",
        "one_user= test.loc[(test['userId'] == 17)].sort_values('rating', \n",
        "                      inplace=False, \n",
        "                      ascending=False)\n",
        "one_user.head()"
      ],
      "execution_count": 163,
      "outputs": [
        {
          "output_type": "execute_result",
          "data": {
            "text/html": [
              "<div>\n",
              "<style scoped>\n",
              "    .dataframe tbody tr th:only-of-type {\n",
              "        vertical-align: middle;\n",
              "    }\n",
              "\n",
              "    .dataframe tbody tr th {\n",
              "        vertical-align: top;\n",
              "    }\n",
              "\n",
              "    .dataframe thead th {\n",
              "        text-align: right;\n",
              "    }\n",
              "</style>\n",
              "<table border=\"1\" class=\"dataframe\">\n",
              "  <thead>\n",
              "    <tr style=\"text-align: right;\">\n",
              "      <th></th>\n",
              "      <th>userId</th>\n",
              "      <th>movieId</th>\n",
              "      <th>rating</th>\n",
              "      <th>prediction</th>\n",
              "    </tr>\n",
              "  </thead>\n",
              "  <tbody>\n",
              "    <tr>\n",
              "      <th>2773</th>\n",
              "      <td>17</td>\n",
              "      <td>1246</td>\n",
              "      <td>5.0</td>\n",
              "      <td>-10.323133</td>\n",
              "    </tr>\n",
              "    <tr>\n",
              "      <th>2712</th>\n",
              "      <td>17</td>\n",
              "      <td>318</td>\n",
              "      <td>5.0</td>\n",
              "      <td>-1.622938</td>\n",
              "    </tr>\n",
              "    <tr>\n",
              "      <th>3045</th>\n",
              "      <td>17</td>\n",
              "      <td>31410</td>\n",
              "      <td>5.0</td>\n",
              "      <td>-6.433177</td>\n",
              "    </tr>\n",
              "    <tr>\n",
              "      <th>2698</th>\n",
              "      <td>17</td>\n",
              "      <td>111</td>\n",
              "      <td>5.0</td>\n",
              "      <td>-15.287993</td>\n",
              "    </tr>\n",
              "    <tr>\n",
              "      <th>3003</th>\n",
              "      <td>17</td>\n",
              "      <td>7371</td>\n",
              "      <td>5.0</td>\n",
              "      <td>-1.140745</td>\n",
              "    </tr>\n",
              "  </tbody>\n",
              "</table>\n",
              "</div>"
            ],
            "text/plain": [
              "      userId  movieId  rating  prediction\n",
              "2773      17     1246     5.0  -10.323133\n",
              "2712      17      318     5.0   -1.622938\n",
              "3045      17    31410     5.0   -6.433177\n",
              "2698      17      111     5.0  -15.287993\n",
              "3003      17     7371     5.0   -1.140745"
            ]
          },
          "metadata": {
            "tags": []
          },
          "execution_count": 163
        }
      ]
    },
    {
      "cell_type": "markdown",
      "metadata": {
        "id": "l2YOefqwp8DL"
      },
      "source": [
        "### Recall and Precision"
      ]
    },
    {
      "cell_type": "code",
      "metadata": {
        "id": "msoc7hi_p8DL",
        "colab": {
          "base_uri": "https://localhost:8080/"
        },
        "outputId": "453a4d2a-873c-4b76-f28c-06bf91a10f0f"
      },
      "source": [
        "relevance_threshold = 2\n",
        "recommended_movies = set(one_user.loc[(one_user['prediction'] >= relevance_threshold)]['movieId'].tolist())\n",
        "relavent_movies = set(one_user.loc[(one_user['rating'] >= relevance_threshold)]['movieId'].tolist())\n",
        "len(relavent_movies), len(recommended_movies)"
      ],
      "execution_count": 164,
      "outputs": [
        {
          "output_type": "execute_result",
          "data": {
            "text/plain": [
              "(67, 19)"
            ]
          },
          "metadata": {
            "tags": []
          },
          "execution_count": 164
        }
      ]
    },
    {
      "cell_type": "code",
      "metadata": {
        "id": "iSQasWJup8DM"
      },
      "source": [
        "recommended_movies_intersection_relavant_movies = [i for i in recommended_movies if i in relavent_movies]\n",
        "recommended_movies_intersection_relavant_movies;"
      ],
      "execution_count": 165,
      "outputs": []
    },
    {
      "cell_type": "code",
      "metadata": {
        "id": "3NLUe8YEp8DM",
        "colab": {
          "base_uri": "https://localhost:8080/"
        },
        "outputId": "5e5582e4-29e5-463b-b2ed-fbd314dc00b1"
      },
      "source": [
        "len(recommended_movies), len(recommended_movies_intersection_relavant_movies), len(relavent_movies)"
      ],
      "execution_count": 166,
      "outputs": [
        {
          "output_type": "execute_result",
          "data": {
            "text/plain": [
              "(19, 16, 67)"
            ]
          },
          "metadata": {
            "tags": []
          },
          "execution_count": 166
        }
      ]
    },
    {
      "cell_type": "code",
      "metadata": {
        "id": "ObNuzNmep8DM"
      },
      "source": [
        "recall = len(recommended_movies_intersection_relavant_movies)/len(relavent_movies)\n",
        "precision = len(recommended_movies_intersection_relavant_movies)/len(recommended_movies)"
      ],
      "execution_count": 167,
      "outputs": []
    },
    {
      "cell_type": "code",
      "metadata": {
        "id": "Aci8rHtFp8DN",
        "colab": {
          "base_uri": "https://localhost:8080/"
        },
        "outputId": "749ce1b1-1d8d-4fc8-fd31-398aa527fb3b"
      },
      "source": [
        "precision, recall"
      ],
      "execution_count": 168,
      "outputs": [
        {
          "output_type": "execute_result",
          "data": {
            "text/plain": [
              "(0.8421052631578947, 0.23880597014925373)"
            ]
          },
          "metadata": {
            "tags": []
          },
          "execution_count": 168
        }
      ]
    },
    {
      "cell_type": "code",
      "metadata": {
        "id": "v2JIGUJCp8DN",
        "colab": {
          "base_uri": "https://localhost:8080/"
        },
        "outputId": "60d7c547-ecd5-425e-f3c5-5f8f53e9d7d3"
      },
      "source": [
        "f_score = 2*precision*recall/(precision+recall)\n",
        "f_score"
      ],
      "execution_count": 169,
      "outputs": [
        {
          "output_type": "execute_result",
          "data": {
            "text/plain": [
              "0.37209302325581395"
            ]
          },
          "metadata": {
            "tags": []
          },
          "execution_count": 169
        }
      ]
    },
    {
      "cell_type": "markdown",
      "metadata": {
        "id": "GFzjUdkyp8DO"
      },
      "source": [
        "### Recall@k and Precision@k\n",
        "- recall and precision on top k predictions"
      ]
    },
    {
      "cell_type": "code",
      "metadata": {
        "id": "0TfoJyLrp8DO",
        "colab": {
          "base_uri": "https://localhost:8080/",
          "height": 204
        },
        "outputId": "313bd142-e2dd-4c93-8952-8eb93aef11b2"
      },
      "source": [
        "k=18\n",
        "top_k_predictions_df = one_user.sort_values('prediction', ascending=False)[:k]\n",
        "top_k_predictions_df.head()"
      ],
      "execution_count": 170,
      "outputs": [
        {
          "output_type": "execute_result",
          "data": {
            "text/html": [
              "<div>\n",
              "<style scoped>\n",
              "    .dataframe tbody tr th:only-of-type {\n",
              "        vertical-align: middle;\n",
              "    }\n",
              "\n",
              "    .dataframe tbody tr th {\n",
              "        vertical-align: top;\n",
              "    }\n",
              "\n",
              "    .dataframe thead th {\n",
              "        text-align: right;\n",
              "    }\n",
              "</style>\n",
              "<table border=\"1\" class=\"dataframe\">\n",
              "  <thead>\n",
              "    <tr style=\"text-align: right;\">\n",
              "      <th></th>\n",
              "      <th>userId</th>\n",
              "      <th>movieId</th>\n",
              "      <th>rating</th>\n",
              "      <th>prediction</th>\n",
              "    </tr>\n",
              "  </thead>\n",
              "  <tbody>\n",
              "    <tr>\n",
              "      <th>2709</th>\n",
              "      <td>17</td>\n",
              "      <td>293</td>\n",
              "      <td>4.0</td>\n",
              "      <td>40.903232</td>\n",
              "    </tr>\n",
              "    <tr>\n",
              "      <th>2805</th>\n",
              "      <td>17</td>\n",
              "      <td>1732</td>\n",
              "      <td>4.0</td>\n",
              "      <td>15.174841</td>\n",
              "    </tr>\n",
              "    <tr>\n",
              "      <th>2818</th>\n",
              "      <td>17</td>\n",
              "      <td>2028</td>\n",
              "      <td>3.5</td>\n",
              "      <td>9.876554</td>\n",
              "    </tr>\n",
              "    <tr>\n",
              "      <th>2846</th>\n",
              "      <td>17</td>\n",
              "      <td>2657</td>\n",
              "      <td>3.0</td>\n",
              "      <td>9.738038</td>\n",
              "    </tr>\n",
              "    <tr>\n",
              "      <th>2788</th>\n",
              "      <td>17</td>\n",
              "      <td>1411</td>\n",
              "      <td>5.0</td>\n",
              "      <td>7.569000</td>\n",
              "    </tr>\n",
              "  </tbody>\n",
              "</table>\n",
              "</div>"
            ],
            "text/plain": [
              "      userId  movieId  rating  prediction\n",
              "2709      17      293     4.0   40.903232\n",
              "2805      17     1732     4.0   15.174841\n",
              "2818      17     2028     3.5    9.876554\n",
              "2846      17     2657     3.0    9.738038\n",
              "2788      17     1411     5.0    7.569000"
            ]
          },
          "metadata": {
            "tags": []
          },
          "execution_count": 170
        }
      ]
    },
    {
      "cell_type": "code",
      "metadata": {
        "id": "uqOOGrU6p8DO"
      },
      "source": [
        "relevance_threshold=2\n",
        "top_k_movies_recommended = set(top_k_predictions_df.loc[(top_k_predictions_df['prediction'] >= relevance_threshold)]['movieId'].tolist())\n",
        "top_k_movies_relevant = set(top_k_predictions_df.loc[(top_k_predictions_df['rating'] >= relevance_threshold)]['movieId'].tolist())\n",
        "# top_k_predictions_df['rating']"
      ],
      "execution_count": 171,
      "outputs": []
    },
    {
      "cell_type": "code",
      "metadata": {
        "id": "JWxzcztPp8DP",
        "colab": {
          "base_uri": "https://localhost:8080/"
        },
        "outputId": "36ec8da7-d0be-4939-baa7-db5cc6d5ba20"
      },
      "source": [
        "recommended_movies_intersection_relavant_movies = [i for i in top_k_movies_recommended\n",
        "                                                   if i in top_k_movies_relevant]\n",
        "recommended_movies_intersection_relavant_movies"
      ],
      "execution_count": 172,
      "outputs": [
        {
          "output_type": "execute_result",
          "data": {
            "text/plain": [
              "[34048,\n",
              " 2657,\n",
              " 4993,\n",
              " 1411,\n",
              " 1732,\n",
              " 293,\n",
              " 1251,\n",
              " 6502,\n",
              " 1673,\n",
              " 288,\n",
              " 2028,\n",
              " 2959,\n",
              " 5782,\n",
              " 1175,\n",
              " 8798]"
            ]
          },
          "metadata": {
            "tags": []
          },
          "execution_count": 172
        }
      ]
    },
    {
      "cell_type": "code",
      "metadata": {
        "id": "fDWFZiXEp8DP",
        "colab": {
          "base_uri": "https://localhost:8080/"
        },
        "outputId": "c1f8c3a8-eaf0-4b28-f67e-8c62cc1c85a8"
      },
      "source": [
        "len(top_k_movies_recommended), len(recommended_movies_intersection_relavant_movies), len(top_k_movies_relevant)"
      ],
      "execution_count": 173,
      "outputs": [
        {
          "output_type": "execute_result",
          "data": {
            "text/plain": [
              "(18, 15, 15)"
            ]
          },
          "metadata": {
            "tags": []
          },
          "execution_count": 173
        }
      ]
    },
    {
      "cell_type": "code",
      "metadata": {
        "id": "xw0n10CUp8DP"
      },
      "source": [
        "recall = len(recommended_movies_intersection_relavant_movies)/len(top_k_movies_relevant)\n",
        "precision = len(recommended_movies_intersection_relavant_movies)/len(top_k_movies_recommended)"
      ],
      "execution_count": 174,
      "outputs": []
    },
    {
      "cell_type": "code",
      "metadata": {
        "id": "eAxVo65wp8DP",
        "colab": {
          "base_uri": "https://localhost:8080/"
        },
        "outputId": "e6922f32-a612-41b3-e63b-9675c6d203a0"
      },
      "source": [
        "precision, recall"
      ],
      "execution_count": 175,
      "outputs": [
        {
          "output_type": "execute_result",
          "data": {
            "text/plain": [
              "(0.8333333333333334, 1.0)"
            ]
          },
          "metadata": {
            "tags": []
          },
          "execution_count": 175
        }
      ]
    },
    {
      "cell_type": "code",
      "metadata": {
        "id": "QhkY3OS_p8DQ",
        "colab": {
          "base_uri": "https://localhost:8080/"
        },
        "outputId": "baa332fd-a472-4dc8-8064-9162293fe387"
      },
      "source": [
        "f_score = 2*precision*recall/(precision+recall)\n",
        "f_score"
      ],
      "execution_count": 176,
      "outputs": [
        {
          "output_type": "execute_result",
          "data": {
            "text/plain": [
              "0.9090909090909091"
            ]
          },
          "metadata": {
            "tags": []
          },
          "execution_count": 176
        }
      ]
    },
    {
      "cell_type": "code",
      "metadata": {
        "id": "oHH86m9RjAUW"
      },
      "source": [
        ""
      ],
      "execution_count": 144,
      "outputs": []
    }
  ]
}