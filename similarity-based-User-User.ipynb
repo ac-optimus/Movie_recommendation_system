{
 "cells": [
  {
   "cell_type": "code",
   "execution_count": 1,
   "metadata": {},
   "outputs": [],
   "source": [
    "import numpy as np\n",
    "import pandas as pd\n",
    "import matplotlib.pyplot as plt"
   ]
  },
  {
   "cell_type": "code",
   "execution_count": 2,
   "metadata": {},
   "outputs": [
    {
     "data": {
      "text/plain": [
       "(100004, 4)"
      ]
     },
     "execution_count": 2,
     "metadata": {},
     "output_type": "execute_result"
    }
   ],
   "source": [
    "# import the data covert that into a convenient data\n",
    "PATH= '/home/ac-optimus/data_science/recommendation_sys/ratings_small.csv'\n",
    "df = pd.read_csv(PATH, sep= \",\")\n",
    "# df = pd.read_csv(PATH, sep= \",\")\n",
    "df.shape"
   ]
  },
  {
   "cell_type": "code",
   "execution_count": 3,
   "metadata": {},
   "outputs": [
    {
     "data": {
      "text/html": [
       "<div>\n",
       "<style scoped>\n",
       "    .dataframe tbody tr th:only-of-type {\n",
       "        vertical-align: middle;\n",
       "    }\n",
       "\n",
       "    .dataframe tbody tr th {\n",
       "        vertical-align: top;\n",
       "    }\n",
       "\n",
       "    .dataframe thead th {\n",
       "        text-align: right;\n",
       "    }\n",
       "</style>\n",
       "<table border=\"1\" class=\"dataframe\">\n",
       "  <thead>\n",
       "    <tr style=\"text-align: right;\">\n",
       "      <th></th>\n",
       "      <th>userId</th>\n",
       "      <th>movieId</th>\n",
       "      <th>rating</th>\n",
       "    </tr>\n",
       "  </thead>\n",
       "  <tbody>\n",
       "    <tr>\n",
       "      <th>0</th>\n",
       "      <td>1</td>\n",
       "      <td>31</td>\n",
       "      <td>2.5</td>\n",
       "    </tr>\n",
       "    <tr>\n",
       "      <th>1</th>\n",
       "      <td>1</td>\n",
       "      <td>1029</td>\n",
       "      <td>3.0</td>\n",
       "    </tr>\n",
       "    <tr>\n",
       "      <th>2</th>\n",
       "      <td>1</td>\n",
       "      <td>1061</td>\n",
       "      <td>3.0</td>\n",
       "    </tr>\n",
       "    <tr>\n",
       "      <th>3</th>\n",
       "      <td>1</td>\n",
       "      <td>1129</td>\n",
       "      <td>2.0</td>\n",
       "    </tr>\n",
       "    <tr>\n",
       "      <th>4</th>\n",
       "      <td>1</td>\n",
       "      <td>1172</td>\n",
       "      <td>4.0</td>\n",
       "    </tr>\n",
       "  </tbody>\n",
       "</table>\n",
       "</div>"
      ],
      "text/plain": [
       "   userId  movieId  rating\n",
       "0       1       31     2.5\n",
       "1       1     1029     3.0\n",
       "2       1     1061     3.0\n",
       "3       1     1129     2.0\n",
       "4       1     1172     4.0"
      ]
     },
     "execution_count": 3,
     "metadata": {},
     "output_type": "execute_result"
    }
   ],
   "source": [
    "df.drop('timestamp', axis=1, inplace=True)\n",
    "df.head()"
   ]
  },
  {
   "cell_type": "code",
   "execution_count": 4,
   "metadata": {},
   "outputs": [],
   "source": [
    "# this gave me a good plot\n",
    "from sklearn.utils import shuffle\n",
    "df = shuffle(df)"
   ]
  },
  {
   "cell_type": "code",
   "execution_count": 5,
   "metadata": {},
   "outputs": [
    {
     "data": {
      "text/html": [
       "<div>\n",
       "<style scoped>\n",
       "    .dataframe tbody tr th:only-of-type {\n",
       "        vertical-align: middle;\n",
       "    }\n",
       "\n",
       "    .dataframe tbody tr th {\n",
       "        vertical-align: top;\n",
       "    }\n",
       "\n",
       "    .dataframe thead th {\n",
       "        text-align: right;\n",
       "    }\n",
       "</style>\n",
       "<table border=\"1\" class=\"dataframe\">\n",
       "  <thead>\n",
       "    <tr style=\"text-align: right;\">\n",
       "      <th></th>\n",
       "      <th>userId</th>\n",
       "      <th>movieId</th>\n",
       "      <th>rating</th>\n",
       "    </tr>\n",
       "  </thead>\n",
       "  <tbody>\n",
       "    <tr>\n",
       "      <th>59524</th>\n",
       "      <td>430</td>\n",
       "      <td>45722</td>\n",
       "      <td>4.0</td>\n",
       "    </tr>\n",
       "    <tr>\n",
       "      <th>19195</th>\n",
       "      <td>128</td>\n",
       "      <td>2722</td>\n",
       "      <td>2.0</td>\n",
       "    </tr>\n",
       "    <tr>\n",
       "      <th>97450</th>\n",
       "      <td>654</td>\n",
       "      <td>1</td>\n",
       "      <td>5.0</td>\n",
       "    </tr>\n",
       "    <tr>\n",
       "      <th>72929</th>\n",
       "      <td>509</td>\n",
       "      <td>3396</td>\n",
       "      <td>4.0</td>\n",
       "    </tr>\n",
       "    <tr>\n",
       "      <th>39332</th>\n",
       "      <td>287</td>\n",
       "      <td>1265</td>\n",
       "      <td>4.5</td>\n",
       "    </tr>\n",
       "  </tbody>\n",
       "</table>\n",
       "</div>"
      ],
      "text/plain": [
       "       userId  movieId  rating\n",
       "59524     430    45722     4.0\n",
       "19195     128     2722     2.0\n",
       "97450     654        1     5.0\n",
       "72929     509     3396     4.0\n",
       "39332     287     1265     4.5"
      ]
     },
     "execution_count": 5,
     "metadata": {},
     "output_type": "execute_result"
    }
   ],
   "source": [
    "df.head()"
   ]
  },
  {
   "cell_type": "code",
   "execution_count": 6,
   "metadata": {},
   "outputs": [
    {
     "name": "stderr",
     "output_type": "stream",
     "text": [
      "<ipython-input-6-75ff325d5135>:3: SettingWithCopyWarning: \n",
      "A value is trying to be set on a copy of a slice from a DataFrame.\n",
      "Try using .loc[row_indexer,col_indexer] = value instead\n",
      "\n",
      "See the caveats in the documentation: https://pandas.pydata.org/pandas-docs/stable/user_guide/indexing.html#returning-a-view-versus-a-copy\n",
      "  train[int(num_rows*0.8):]['rating']  = train[int(num_rows*0.8):]['rating']*0\n"
     ]
    }
   ],
   "source": [
    "num_rows = df.shape[0]\n",
    "train, test = df.copy(deep = True), df[int(num_rows*0.8):].copy(deep = True)\n",
    "train[int(num_rows*0.8):]['rating']  = train[int(num_rows*0.8):]['rating']*0\n",
    "train = shuffle(train)"
   ]
  },
  {
   "cell_type": "code",
   "execution_count": 7,
   "metadata": {},
   "outputs": [
    {
     "data": {
      "text/html": [
       "<div>\n",
       "<style scoped>\n",
       "    .dataframe tbody tr th:only-of-type {\n",
       "        vertical-align: middle;\n",
       "    }\n",
       "\n",
       "    .dataframe tbody tr th {\n",
       "        vertical-align: top;\n",
       "    }\n",
       "\n",
       "    .dataframe thead th {\n",
       "        text-align: right;\n",
       "    }\n",
       "</style>\n",
       "<table border=\"1\" class=\"dataframe\">\n",
       "  <thead>\n",
       "    <tr style=\"text-align: right;\">\n",
       "      <th>movieId</th>\n",
       "      <th>1</th>\n",
       "      <th>2</th>\n",
       "      <th>3</th>\n",
       "      <th>4</th>\n",
       "      <th>5</th>\n",
       "      <th>6</th>\n",
       "      <th>7</th>\n",
       "      <th>8</th>\n",
       "      <th>9</th>\n",
       "      <th>10</th>\n",
       "      <th>...</th>\n",
       "      <th>161084</th>\n",
       "      <th>161155</th>\n",
       "      <th>161594</th>\n",
       "      <th>161830</th>\n",
       "      <th>161918</th>\n",
       "      <th>161944</th>\n",
       "      <th>162376</th>\n",
       "      <th>162542</th>\n",
       "      <th>162672</th>\n",
       "      <th>163949</th>\n",
       "    </tr>\n",
       "    <tr>\n",
       "      <th>userId</th>\n",
       "      <th></th>\n",
       "      <th></th>\n",
       "      <th></th>\n",
       "      <th></th>\n",
       "      <th></th>\n",
       "      <th></th>\n",
       "      <th></th>\n",
       "      <th></th>\n",
       "      <th></th>\n",
       "      <th></th>\n",
       "      <th></th>\n",
       "      <th></th>\n",
       "      <th></th>\n",
       "      <th></th>\n",
       "      <th></th>\n",
       "      <th></th>\n",
       "      <th></th>\n",
       "      <th></th>\n",
       "      <th></th>\n",
       "      <th></th>\n",
       "      <th></th>\n",
       "    </tr>\n",
       "  </thead>\n",
       "  <tbody>\n",
       "    <tr>\n",
       "      <th>1</th>\n",
       "      <td>0.0</td>\n",
       "      <td>0.0</td>\n",
       "      <td>0.0</td>\n",
       "      <td>0.0</td>\n",
       "      <td>0.0</td>\n",
       "      <td>0.0</td>\n",
       "      <td>0.0</td>\n",
       "      <td>0.0</td>\n",
       "      <td>0.0</td>\n",
       "      <td>0.0</td>\n",
       "      <td>...</td>\n",
       "      <td>0.0</td>\n",
       "      <td>0.0</td>\n",
       "      <td>0.0</td>\n",
       "      <td>0.0</td>\n",
       "      <td>0.0</td>\n",
       "      <td>0.0</td>\n",
       "      <td>0.0</td>\n",
       "      <td>0.0</td>\n",
       "      <td>0.0</td>\n",
       "      <td>0.0</td>\n",
       "    </tr>\n",
       "    <tr>\n",
       "      <th>2</th>\n",
       "      <td>0.0</td>\n",
       "      <td>0.0</td>\n",
       "      <td>0.0</td>\n",
       "      <td>0.0</td>\n",
       "      <td>0.0</td>\n",
       "      <td>0.0</td>\n",
       "      <td>0.0</td>\n",
       "      <td>0.0</td>\n",
       "      <td>0.0</td>\n",
       "      <td>4.0</td>\n",
       "      <td>...</td>\n",
       "      <td>0.0</td>\n",
       "      <td>0.0</td>\n",
       "      <td>0.0</td>\n",
       "      <td>0.0</td>\n",
       "      <td>0.0</td>\n",
       "      <td>0.0</td>\n",
       "      <td>0.0</td>\n",
       "      <td>0.0</td>\n",
       "      <td>0.0</td>\n",
       "      <td>0.0</td>\n",
       "    </tr>\n",
       "    <tr>\n",
       "      <th>3</th>\n",
       "      <td>0.0</td>\n",
       "      <td>0.0</td>\n",
       "      <td>0.0</td>\n",
       "      <td>0.0</td>\n",
       "      <td>0.0</td>\n",
       "      <td>0.0</td>\n",
       "      <td>0.0</td>\n",
       "      <td>0.0</td>\n",
       "      <td>0.0</td>\n",
       "      <td>0.0</td>\n",
       "      <td>...</td>\n",
       "      <td>0.0</td>\n",
       "      <td>0.0</td>\n",
       "      <td>0.0</td>\n",
       "      <td>0.0</td>\n",
       "      <td>0.0</td>\n",
       "      <td>0.0</td>\n",
       "      <td>0.0</td>\n",
       "      <td>0.0</td>\n",
       "      <td>0.0</td>\n",
       "      <td>0.0</td>\n",
       "    </tr>\n",
       "    <tr>\n",
       "      <th>4</th>\n",
       "      <td>0.0</td>\n",
       "      <td>0.0</td>\n",
       "      <td>0.0</td>\n",
       "      <td>0.0</td>\n",
       "      <td>0.0</td>\n",
       "      <td>0.0</td>\n",
       "      <td>0.0</td>\n",
       "      <td>0.0</td>\n",
       "      <td>0.0</td>\n",
       "      <td>4.0</td>\n",
       "      <td>...</td>\n",
       "      <td>0.0</td>\n",
       "      <td>0.0</td>\n",
       "      <td>0.0</td>\n",
       "      <td>0.0</td>\n",
       "      <td>0.0</td>\n",
       "      <td>0.0</td>\n",
       "      <td>0.0</td>\n",
       "      <td>0.0</td>\n",
       "      <td>0.0</td>\n",
       "      <td>0.0</td>\n",
       "    </tr>\n",
       "    <tr>\n",
       "      <th>5</th>\n",
       "      <td>0.0</td>\n",
       "      <td>0.0</td>\n",
       "      <td>4.0</td>\n",
       "      <td>0.0</td>\n",
       "      <td>0.0</td>\n",
       "      <td>0.0</td>\n",
       "      <td>0.0</td>\n",
       "      <td>0.0</td>\n",
       "      <td>0.0</td>\n",
       "      <td>0.0</td>\n",
       "      <td>...</td>\n",
       "      <td>0.0</td>\n",
       "      <td>0.0</td>\n",
       "      <td>0.0</td>\n",
       "      <td>0.0</td>\n",
       "      <td>0.0</td>\n",
       "      <td>0.0</td>\n",
       "      <td>0.0</td>\n",
       "      <td>0.0</td>\n",
       "      <td>0.0</td>\n",
       "      <td>0.0</td>\n",
       "    </tr>\n",
       "  </tbody>\n",
       "</table>\n",
       "<p>5 rows × 9066 columns</p>\n",
       "</div>"
      ],
      "text/plain": [
       "movieId  1       2       3       4       5       6       7       8       \\\n",
       "userId                                                                    \n",
       "1           0.0     0.0     0.0     0.0     0.0     0.0     0.0     0.0   \n",
       "2           0.0     0.0     0.0     0.0     0.0     0.0     0.0     0.0   \n",
       "3           0.0     0.0     0.0     0.0     0.0     0.0     0.0     0.0   \n",
       "4           0.0     0.0     0.0     0.0     0.0     0.0     0.0     0.0   \n",
       "5           0.0     0.0     4.0     0.0     0.0     0.0     0.0     0.0   \n",
       "\n",
       "movieId  9       10      ...  161084  161155  161594  161830  161918  161944  \\\n",
       "userId                   ...                                                   \n",
       "1           0.0     0.0  ...     0.0     0.0     0.0     0.0     0.0     0.0   \n",
       "2           0.0     4.0  ...     0.0     0.0     0.0     0.0     0.0     0.0   \n",
       "3           0.0     0.0  ...     0.0     0.0     0.0     0.0     0.0     0.0   \n",
       "4           0.0     4.0  ...     0.0     0.0     0.0     0.0     0.0     0.0   \n",
       "5           0.0     0.0  ...     0.0     0.0     0.0     0.0     0.0     0.0   \n",
       "\n",
       "movieId  162376  162542  162672  163949  \n",
       "userId                                   \n",
       "1           0.0     0.0     0.0     0.0  \n",
       "2           0.0     0.0     0.0     0.0  \n",
       "3           0.0     0.0     0.0     0.0  \n",
       "4           0.0     0.0     0.0     0.0  \n",
       "5           0.0     0.0     0.0     0.0  \n",
       "\n",
       "[5 rows x 9066 columns]"
      ]
     },
     "execution_count": 7,
     "metadata": {},
     "output_type": "execute_result"
    }
   ],
   "source": [
    "user_movie_rating =train.groupby(['userId','movieId'])['rating'].max().unstack().fillna(0)\n",
    "user_movie_rating.head()"
   ]
  },
  {
   "cell_type": "code",
   "execution_count": 8,
   "metadata": {},
   "outputs": [
    {
     "data": {
      "text/html": [
       "<div>\n",
       "<style scoped>\n",
       "    .dataframe tbody tr th:only-of-type {\n",
       "        vertical-align: middle;\n",
       "    }\n",
       "\n",
       "    .dataframe tbody tr th {\n",
       "        vertical-align: top;\n",
       "    }\n",
       "\n",
       "    .dataframe thead th {\n",
       "        text-align: right;\n",
       "    }\n",
       "</style>\n",
       "<table border=\"1\" class=\"dataframe\">\n",
       "  <thead>\n",
       "    <tr style=\"text-align: right;\">\n",
       "      <th>movieId</th>\n",
       "      <th>1</th>\n",
       "      <th>2</th>\n",
       "      <th>3</th>\n",
       "      <th>4</th>\n",
       "      <th>5</th>\n",
       "      <th>6</th>\n",
       "      <th>7</th>\n",
       "      <th>8</th>\n",
       "      <th>9</th>\n",
       "      <th>10</th>\n",
       "      <th>...</th>\n",
       "      <th>161084</th>\n",
       "      <th>161155</th>\n",
       "      <th>161594</th>\n",
       "      <th>161830</th>\n",
       "      <th>161918</th>\n",
       "      <th>161944</th>\n",
       "      <th>162376</th>\n",
       "      <th>162542</th>\n",
       "      <th>162672</th>\n",
       "      <th>163949</th>\n",
       "    </tr>\n",
       "    <tr>\n",
       "      <th>userId</th>\n",
       "      <th></th>\n",
       "      <th></th>\n",
       "      <th></th>\n",
       "      <th></th>\n",
       "      <th></th>\n",
       "      <th></th>\n",
       "      <th></th>\n",
       "      <th></th>\n",
       "      <th></th>\n",
       "      <th></th>\n",
       "      <th></th>\n",
       "      <th></th>\n",
       "      <th></th>\n",
       "      <th></th>\n",
       "      <th></th>\n",
       "      <th></th>\n",
       "      <th></th>\n",
       "      <th></th>\n",
       "      <th></th>\n",
       "      <th></th>\n",
       "      <th></th>\n",
       "    </tr>\n",
       "  </thead>\n",
       "  <tbody>\n",
       "    <tr>\n",
       "      <th>1</th>\n",
       "      <td>-0.004302</td>\n",
       "      <td>-0.004302</td>\n",
       "      <td>-0.004302</td>\n",
       "      <td>-0.004302</td>\n",
       "      <td>-0.004302</td>\n",
       "      <td>-0.004302</td>\n",
       "      <td>-0.004302</td>\n",
       "      <td>-0.004302</td>\n",
       "      <td>-0.004302</td>\n",
       "      <td>-0.004302</td>\n",
       "      <td>...</td>\n",
       "      <td>-0.004302</td>\n",
       "      <td>-0.004302</td>\n",
       "      <td>-0.004302</td>\n",
       "      <td>-0.004302</td>\n",
       "      <td>-0.004302</td>\n",
       "      <td>-0.004302</td>\n",
       "      <td>-0.004302</td>\n",
       "      <td>-0.004302</td>\n",
       "      <td>-0.004302</td>\n",
       "      <td>-0.004302</td>\n",
       "    </tr>\n",
       "    <tr>\n",
       "      <th>2</th>\n",
       "      <td>-0.023053</td>\n",
       "      <td>-0.023053</td>\n",
       "      <td>-0.023053</td>\n",
       "      <td>-0.023053</td>\n",
       "      <td>-0.023053</td>\n",
       "      <td>-0.023053</td>\n",
       "      <td>-0.023053</td>\n",
       "      <td>-0.023053</td>\n",
       "      <td>-0.023053</td>\n",
       "      <td>3.976947</td>\n",
       "      <td>...</td>\n",
       "      <td>-0.023053</td>\n",
       "      <td>-0.023053</td>\n",
       "      <td>-0.023053</td>\n",
       "      <td>-0.023053</td>\n",
       "      <td>-0.023053</td>\n",
       "      <td>-0.023053</td>\n",
       "      <td>-0.023053</td>\n",
       "      <td>-0.023053</td>\n",
       "      <td>-0.023053</td>\n",
       "      <td>-0.023053</td>\n",
       "    </tr>\n",
       "    <tr>\n",
       "      <th>3</th>\n",
       "      <td>-0.016435</td>\n",
       "      <td>-0.016435</td>\n",
       "      <td>-0.016435</td>\n",
       "      <td>-0.016435</td>\n",
       "      <td>-0.016435</td>\n",
       "      <td>-0.016435</td>\n",
       "      <td>-0.016435</td>\n",
       "      <td>-0.016435</td>\n",
       "      <td>-0.016435</td>\n",
       "      <td>-0.016435</td>\n",
       "      <td>...</td>\n",
       "      <td>-0.016435</td>\n",
       "      <td>-0.016435</td>\n",
       "      <td>-0.016435</td>\n",
       "      <td>-0.016435</td>\n",
       "      <td>-0.016435</td>\n",
       "      <td>-0.016435</td>\n",
       "      <td>-0.016435</td>\n",
       "      <td>-0.016435</td>\n",
       "      <td>-0.016435</td>\n",
       "      <td>-0.016435</td>\n",
       "    </tr>\n",
       "    <tr>\n",
       "      <th>4</th>\n",
       "      <td>-0.077432</td>\n",
       "      <td>-0.077432</td>\n",
       "      <td>-0.077432</td>\n",
       "      <td>-0.077432</td>\n",
       "      <td>-0.077432</td>\n",
       "      <td>-0.077432</td>\n",
       "      <td>-0.077432</td>\n",
       "      <td>-0.077432</td>\n",
       "      <td>-0.077432</td>\n",
       "      <td>3.922568</td>\n",
       "      <td>...</td>\n",
       "      <td>-0.077432</td>\n",
       "      <td>-0.077432</td>\n",
       "      <td>-0.077432</td>\n",
       "      <td>-0.077432</td>\n",
       "      <td>-0.077432</td>\n",
       "      <td>-0.077432</td>\n",
       "      <td>-0.077432</td>\n",
       "      <td>-0.077432</td>\n",
       "      <td>-0.077432</td>\n",
       "      <td>-0.077432</td>\n",
       "    </tr>\n",
       "    <tr>\n",
       "      <th>5</th>\n",
       "      <td>-0.035793</td>\n",
       "      <td>-0.035793</td>\n",
       "      <td>3.964207</td>\n",
       "      <td>-0.035793</td>\n",
       "      <td>-0.035793</td>\n",
       "      <td>-0.035793</td>\n",
       "      <td>-0.035793</td>\n",
       "      <td>-0.035793</td>\n",
       "      <td>-0.035793</td>\n",
       "      <td>-0.035793</td>\n",
       "      <td>...</td>\n",
       "      <td>-0.035793</td>\n",
       "      <td>-0.035793</td>\n",
       "      <td>-0.035793</td>\n",
       "      <td>-0.035793</td>\n",
       "      <td>-0.035793</td>\n",
       "      <td>-0.035793</td>\n",
       "      <td>-0.035793</td>\n",
       "      <td>-0.035793</td>\n",
       "      <td>-0.035793</td>\n",
       "      <td>-0.035793</td>\n",
       "    </tr>\n",
       "  </tbody>\n",
       "</table>\n",
       "<p>5 rows × 9066 columns</p>\n",
       "</div>"
      ],
      "text/plain": [
       "movieId    1         2         3         4         5         6         7       \\\n",
       "userId                                                                          \n",
       "1       -0.004302 -0.004302 -0.004302 -0.004302 -0.004302 -0.004302 -0.004302   \n",
       "2       -0.023053 -0.023053 -0.023053 -0.023053 -0.023053 -0.023053 -0.023053   \n",
       "3       -0.016435 -0.016435 -0.016435 -0.016435 -0.016435 -0.016435 -0.016435   \n",
       "4       -0.077432 -0.077432 -0.077432 -0.077432 -0.077432 -0.077432 -0.077432   \n",
       "5       -0.035793 -0.035793  3.964207 -0.035793 -0.035793 -0.035793 -0.035793   \n",
       "\n",
       "movieId    8         9         10      ...    161084    161155    161594  \\\n",
       "userId                                 ...                                 \n",
       "1       -0.004302 -0.004302 -0.004302  ... -0.004302 -0.004302 -0.004302   \n",
       "2       -0.023053 -0.023053  3.976947  ... -0.023053 -0.023053 -0.023053   \n",
       "3       -0.016435 -0.016435 -0.016435  ... -0.016435 -0.016435 -0.016435   \n",
       "4       -0.077432 -0.077432  3.922568  ... -0.077432 -0.077432 -0.077432   \n",
       "5       -0.035793 -0.035793 -0.035793  ... -0.035793 -0.035793 -0.035793   \n",
       "\n",
       "movieId    161830    161918    161944    162376    162542    162672    163949  \n",
       "userId                                                                         \n",
       "1       -0.004302 -0.004302 -0.004302 -0.004302 -0.004302 -0.004302 -0.004302  \n",
       "2       -0.023053 -0.023053 -0.023053 -0.023053 -0.023053 -0.023053 -0.023053  \n",
       "3       -0.016435 -0.016435 -0.016435 -0.016435 -0.016435 -0.016435 -0.016435  \n",
       "4       -0.077432 -0.077432 -0.077432 -0.077432 -0.077432 -0.077432 -0.077432  \n",
       "5       -0.035793 -0.035793 -0.035793 -0.035793 -0.035793 -0.035793 -0.035793  \n",
       "\n",
       "[5 rows x 9066 columns]"
      ]
     },
     "execution_count": 8,
     "metadata": {},
     "output_type": "execute_result"
    }
   ],
   "source": [
    "central_mean = user_movie_rating.sub(user_movie_rating.mean(axis=1), axis=0)\n",
    "central_mean.head()"
   ]
  },
  {
   "cell_type": "code",
   "execution_count": 9,
   "metadata": {},
   "outputs": [
    {
     "name": "stdout",
     "output_type": "stream",
     "text": [
      "We have 671 users in our user-movie matrix.\n",
      "We have 9066 movies in our user-movie matrix.\n"
     ]
    }
   ],
   "source": [
    "user_movie_rating.shape\n",
    "print (\"We have {} users in our user-movie matrix.\".format(user_movie_rating.shape[0]))\n",
    "print (\"We have {} movies in our user-movie matrix.\".format(user_movie_rating.shape[1]))\n"
   ]
  },
  {
   "cell_type": "code",
   "execution_count": 10,
   "metadata": {},
   "outputs": [
    {
     "data": {
      "text/html": [
       "<div>\n",
       "<style scoped>\n",
       "    .dataframe tbody tr th:only-of-type {\n",
       "        vertical-align: middle;\n",
       "    }\n",
       "\n",
       "    .dataframe tbody tr th {\n",
       "        vertical-align: top;\n",
       "    }\n",
       "\n",
       "    .dataframe thead th {\n",
       "        text-align: right;\n",
       "    }\n",
       "</style>\n",
       "<table border=\"1\" class=\"dataframe\">\n",
       "  <thead>\n",
       "    <tr style=\"text-align: right;\">\n",
       "      <th>userId</th>\n",
       "      <th>1</th>\n",
       "      <th>2</th>\n",
       "      <th>3</th>\n",
       "      <th>4</th>\n",
       "      <th>5</th>\n",
       "      <th>6</th>\n",
       "      <th>7</th>\n",
       "      <th>8</th>\n",
       "      <th>9</th>\n",
       "      <th>10</th>\n",
       "      <th>...</th>\n",
       "      <th>662</th>\n",
       "      <th>663</th>\n",
       "      <th>664</th>\n",
       "      <th>665</th>\n",
       "      <th>666</th>\n",
       "      <th>667</th>\n",
       "      <th>668</th>\n",
       "      <th>669</th>\n",
       "      <th>670</th>\n",
       "      <th>671</th>\n",
       "    </tr>\n",
       "    <tr>\n",
       "      <th>userId</th>\n",
       "      <th></th>\n",
       "      <th></th>\n",
       "      <th></th>\n",
       "      <th></th>\n",
       "      <th></th>\n",
       "      <th></th>\n",
       "      <th></th>\n",
       "      <th></th>\n",
       "      <th></th>\n",
       "      <th></th>\n",
       "      <th></th>\n",
       "      <th></th>\n",
       "      <th></th>\n",
       "      <th></th>\n",
       "      <th></th>\n",
       "      <th></th>\n",
       "      <th></th>\n",
       "      <th></th>\n",
       "      <th></th>\n",
       "      <th></th>\n",
       "      <th></th>\n",
       "    </tr>\n",
       "  </thead>\n",
       "  <tbody>\n",
       "    <tr>\n",
       "      <th>1</th>\n",
       "      <td>1.000000</td>\n",
       "      <td>-0.003058</td>\n",
       "      <td>-0.002610</td>\n",
       "      <td>0.046891</td>\n",
       "      <td>0.017377</td>\n",
       "      <td>-0.002221</td>\n",
       "      <td>0.021553</td>\n",
       "      <td>-0.003892</td>\n",
       "      <td>0.013409</td>\n",
       "      <td>-0.002372</td>\n",
       "      <td>...</td>\n",
       "      <td>-0.002660</td>\n",
       "      <td>-0.001888</td>\n",
       "      <td>0.010071</td>\n",
       "      <td>0.049988</td>\n",
       "      <td>-0.002045</td>\n",
       "      <td>-0.002962</td>\n",
       "      <td>-0.001473</td>\n",
       "      <td>-0.002042</td>\n",
       "      <td>-0.001893</td>\n",
       "      <td>0.017701</td>\n",
       "    </tr>\n",
       "    <tr>\n",
       "      <th>2</th>\n",
       "      <td>-0.003058</td>\n",
       "      <td>1.000000</td>\n",
       "      <td>0.082918</td>\n",
       "      <td>0.093134</td>\n",
       "      <td>0.102002</td>\n",
       "      <td>-0.004568</td>\n",
       "      <td>0.137468</td>\n",
       "      <td>0.087744</td>\n",
       "      <td>0.055797</td>\n",
       "      <td>0.026017</td>\n",
       "      <td>...</td>\n",
       "      <td>0.334241</td>\n",
       "      <td>0.045125</td>\n",
       "      <td>0.054648</td>\n",
       "      <td>0.119821</td>\n",
       "      <td>0.380384</td>\n",
       "      <td>0.251723</td>\n",
       "      <td>0.061476</td>\n",
       "      <td>-0.004198</td>\n",
       "      <td>0.099583</td>\n",
       "      <td>0.085977</td>\n",
       "    </tr>\n",
       "    <tr>\n",
       "      <th>3</th>\n",
       "      <td>-0.002610</td>\n",
       "      <td>0.082918</td>\n",
       "      <td>1.000000</td>\n",
       "      <td>0.027689</td>\n",
       "      <td>0.128341</td>\n",
       "      <td>0.074460</td>\n",
       "      <td>0.114814</td>\n",
       "      <td>0.145082</td>\n",
       "      <td>0.085814</td>\n",
       "      <td>0.084609</td>\n",
       "      <td>...</td>\n",
       "      <td>0.042687</td>\n",
       "      <td>0.026022</td>\n",
       "      <td>0.145799</td>\n",
       "      <td>0.082642</td>\n",
       "      <td>0.083236</td>\n",
       "      <td>0.058529</td>\n",
       "      <td>0.040318</td>\n",
       "      <td>0.017746</td>\n",
       "      <td>0.077093</td>\n",
       "      <td>0.120055</td>\n",
       "    </tr>\n",
       "    <tr>\n",
       "      <th>4</th>\n",
       "      <td>0.046891</td>\n",
       "      <td>0.093134</td>\n",
       "      <td>0.027689</td>\n",
       "      <td>1.000000</td>\n",
       "      <td>0.092231</td>\n",
       "      <td>0.044571</td>\n",
       "      <td>0.233731</td>\n",
       "      <td>0.123023</td>\n",
       "      <td>0.029160</td>\n",
       "      <td>0.060432</td>\n",
       "      <td>...</td>\n",
       "      <td>0.074258</td>\n",
       "      <td>0.051429</td>\n",
       "      <td>0.093562</td>\n",
       "      <td>0.220971</td>\n",
       "      <td>0.135981</td>\n",
       "      <td>0.048065</td>\n",
       "      <td>0.042075</td>\n",
       "      <td>0.051576</td>\n",
       "      <td>0.044545</td>\n",
       "      <td>0.150428</td>\n",
       "    </tr>\n",
       "    <tr>\n",
       "      <th>5</th>\n",
       "      <td>0.017377</td>\n",
       "      <td>0.102002</td>\n",
       "      <td>0.128341</td>\n",
       "      <td>0.092231</td>\n",
       "      <td>1.000000</td>\n",
       "      <td>0.038906</td>\n",
       "      <td>0.096530</td>\n",
       "      <td>0.100598</td>\n",
       "      <td>0.071603</td>\n",
       "      <td>0.033578</td>\n",
       "      <td>...</td>\n",
       "      <td>0.112835</td>\n",
       "      <td>0.020612</td>\n",
       "      <td>0.085798</td>\n",
       "      <td>0.182194</td>\n",
       "      <td>0.108012</td>\n",
       "      <td>0.032376</td>\n",
       "      <td>0.028707</td>\n",
       "      <td>0.019460</td>\n",
       "      <td>0.027627</td>\n",
       "      <td>0.149910</td>\n",
       "    </tr>\n",
       "  </tbody>\n",
       "</table>\n",
       "<p>5 rows × 671 columns</p>\n",
       "</div>"
      ],
      "text/plain": [
       "userId       1         2         3         4         5         6         7    \\\n",
       "userId                                                                         \n",
       "1       1.000000 -0.003058 -0.002610  0.046891  0.017377 -0.002221  0.021553   \n",
       "2      -0.003058  1.000000  0.082918  0.093134  0.102002 -0.004568  0.137468   \n",
       "3      -0.002610  0.082918  1.000000  0.027689  0.128341  0.074460  0.114814   \n",
       "4       0.046891  0.093134  0.027689  1.000000  0.092231  0.044571  0.233731   \n",
       "5       0.017377  0.102002  0.128341  0.092231  1.000000  0.038906  0.096530   \n",
       "\n",
       "userId       8         9         10   ...       662       663       664  \\\n",
       "userId                                ...                                 \n",
       "1      -0.003892  0.013409 -0.002372  ... -0.002660 -0.001888  0.010071   \n",
       "2       0.087744  0.055797  0.026017  ...  0.334241  0.045125  0.054648   \n",
       "3       0.145082  0.085814  0.084609  ...  0.042687  0.026022  0.145799   \n",
       "4       0.123023  0.029160  0.060432  ...  0.074258  0.051429  0.093562   \n",
       "5       0.100598  0.071603  0.033578  ...  0.112835  0.020612  0.085798   \n",
       "\n",
       "userId       665       666       667       668       669       670       671  \n",
       "userId                                                                        \n",
       "1       0.049988 -0.002045 -0.002962 -0.001473 -0.002042 -0.001893  0.017701  \n",
       "2       0.119821  0.380384  0.251723  0.061476 -0.004198  0.099583  0.085977  \n",
       "3       0.082642  0.083236  0.058529  0.040318  0.017746  0.077093  0.120055  \n",
       "4       0.220971  0.135981  0.048065  0.042075  0.051576  0.044545  0.150428  \n",
       "5       0.182194  0.108012  0.032376  0.028707  0.019460  0.027627  0.149910  \n",
       "\n",
       "[5 rows x 671 columns]"
      ]
     },
     "execution_count": 10,
     "metadata": {},
     "output_type": "execute_result"
    }
   ],
   "source": [
    "correlation_matrix = user_movie_rating.T.corr()\n",
    "correlation_matrix.head()"
   ]
  },
  {
   "cell_type": "code",
   "execution_count": 11,
   "metadata": {},
   "outputs": [],
   "source": [
    "# person similarity based\n",
    "\n",
    "# when we want to find a recommendaiton for a user.\n",
    "# we compute the correlation(cetered cosine or person correlation, making a saperate column would be a good idea)\n",
    "# with all the users in the utility matrix\n",
    "# return the top movies that user had not watched yet and recommend that movie\n",
    "# main aim is to fill the values that is it.\n",
    "# central_mean.iloc[0].corr(central_mean.iloc[1])\n",
    "# user_movie_rating= central_mean"
   ]
  },
  {
   "cell_type": "code",
   "execution_count": 12,
   "metadata": {},
   "outputs": [],
   "source": [
    "def error(y_hat, y):\n",
    "    # MSE\n",
    "    y_hat = np.array(y_hat)\n",
    "    y = np.array(y)\n",
    "    MSE_ = (y_hat- y)**2\n",
    "    MSE = MSE_.sum()\n",
    "    return MSE"
   ]
  },
  {
   "cell_type": "markdown",
   "metadata": {},
   "source": [
    "### Similarity based"
   ]
  },
  {
   "cell_type": "code",
   "execution_count": 13,
   "metadata": {},
   "outputs": [],
   "source": [
    "def PredictMovieRating(user_i, movie_i, corr_mat, user_movie_rating, k):\n",
    "    # for user x\n",
    "    # rxi = sum over knn (sxy*ryi)/sum over all the knn similarities\n",
    "    all_neighbours = corr_mat.loc[user_i]\n",
    "    all_neighbours = all_neighbours.drop(user_i)\n",
    "    topk_neighbours = all_neighbours.sort_values(ascending=False)[:k]  # knn\n",
    "    # knn user ids\n",
    "    knn = topk_neighbours.index.tolist()\n",
    "#     return knn\n",
    "    sum_sim = sum([corr_mat[user_i][user_j] for user_j in knn])\n",
    "    weighted_sum_sim = sum([corr_mat[user_i][user_j]*user_movie_rating[movie_i][user_j] \n",
    "                           for user_j in knn])\n",
    "    predicted_rating = weighted_sum_sim/sum_sim\n",
    "    return predicted_rating"
   ]
  },
  {
   "cell_type": "code",
   "execution_count": 14,
   "metadata": {},
   "outputs": [],
   "source": [
    "y_hat = []\n",
    "for i in test.index:\n",
    "    user_i, movie_j = map(int,[ test.loc[i]['userId'], test.loc[i]['movieId']])\n",
    "    # make the prediction here\n",
    "    predicted_rating = PredictMovieRating(user_i, movie_j, correlation_matrix, user_movie_rating, 4)\n",
    "    y_hat.append(predicted_rating)\n",
    "\n",
    "# compute the error here.\n"
   ]
  },
  {
   "cell_type": "code",
   "execution_count": 15,
   "metadata": {},
   "outputs": [],
   "source": [
    "y= test['rating'].tolist()"
   ]
  },
  {
   "cell_type": "code",
   "execution_count": 16,
   "metadata": {},
   "outputs": [
    {
     "data": {
      "text/plain": [
       "166392.77632292098"
      ]
     },
     "execution_count": 16,
     "metadata": {},
     "output_type": "execute_result"
    }
   ],
   "source": [
    "# compute error\n",
    "error(np.nan_to_num(np.array(y_hat)), y)"
   ]
  },
  {
   "cell_type": "code",
   "execution_count": 17,
   "metadata": {},
   "outputs": [],
   "source": [
    "# to compute error\n",
    "# create a new matrix that has ratings based on similarities \n",
    "# compare with the y and yhat and get the error\n",
    "# we can use the same split of test and train as in assignment."
   ]
  },
  {
   "cell_type": "code",
   "execution_count": 18,
   "metadata": {},
   "outputs": [
    {
     "name": "stdout",
     "output_type": "stream",
     "text": [
      "CPU times: user 27min 49s, sys: 2.69 s, total: 27min 52s\n",
      "Wall time: 28min 11s\n"
     ]
    }
   ],
   "source": [
    "%%time\n",
    "\n",
    "# looking for optimal k\n",
    "y= test['rating']\n",
    "errors = {}\n",
    "for k in range(1, 40):\n",
    "    y_hat = []\n",
    "    for i in test.index:\n",
    "        user_i, movie_j = map(int,[test.loc[i]['userId'], \n",
    "                                   test.loc[i]['movieId']])\n",
    "        # make the prediction here\n",
    "        predicted_rating = PredictMovieRating(user_i, \n",
    "                                              movie_j, \n",
    "                                              correlation_matrix, \n",
    "                                              user_movie_rating, k)\n",
    "        y_hat.append(predicted_rating)\n",
    "    error_i = error(np.nan_to_num(np.array(y_hat)), y)        \n",
    "    errors[k]=error_i\n"
   ]
  },
  {
   "cell_type": "code",
   "execution_count": 19,
   "metadata": {},
   "outputs": [
    {
     "data": {
      "text/plain": [
       "Text(0.5, 1.0, 'optimal neighbour search')"
      ]
     },
     "execution_count": 19,
     "metadata": {},
     "output_type": "execute_result"
    },
    {
     "data": {
      "image/png": "[encoded data removed]",
      "text/plain": [
       "<Figure size 432x288 with 1 Axes>"
      ]
     },
     "metadata": {
      "needs_background": "light"
     },
     "output_type": "display_data"
    }
   ],
   "source": [
    "plt.plot(errors.keys(), errors.values())\n",
    "plt.xlabel('K')\n",
    "plt.ylabel('error')\n",
    "plt.title('optimal neighbour search')"
   ]
  },
  {
   "cell_type": "code",
   "execution_count": 17,
   "metadata": {},
   "outputs": [],
   "source": [
    "# Similarity based\n",
    "# we have to keep  a correlation matrix. we can say that we update this on regular intervals\n",
    "# use the prediction formulae given in the video\n",
    "# here we need k nearest neighbours based on whome we can make a prediction\n",
    "# how do we decide k?\n",
    "# def PredictMovieRating(user_i, movie_i, corr_mat, user_movie_rating):\n",
    "#     # for user x\n",
    "#     # rxi = sum over knn (sxy*ryi)/sum over all the knn similarities\n",
    "#     all_neighbours = corr_mat.iloc[user_i]\n",
    "#     all_neighbours.drop(user_i)\n",
    "#     topk_neighbours = all_neighbours.sort()[:k]  # knn\n",
    "#     # knn user ids\n",
    "#     knn = topk_neighbours.index.tolist()\n",
    "    \n",
    "#     sum_sim = sum([corr_mat[user_i][user_j] for user_j in knn])\n",
    "#     weighted_sum_sim = sum([corr_mat[user_i][user_j]*user_movie_rating[user_j][movie_i] \n",
    "#                            for user_j in knn])\n",
    "#     predicted_rating = weighted_sum_sim/sum_sim\n",
    "#     return predicted_rating\n",
    "    \n",
    "def Prediction(user_i, intial_mat, user_movie_rating, corr_mat):\n",
    "    # return a list of movieIds as prediction\n",
    "    # we wont populate user_movie_rating here, let the user do that after he has watched the movie\n",
    "    predicted_ratings = []  # a heap\n",
    "    movieIds = intial_mat.columns()\n",
    "    for movieId in movieIds:\n",
    "        if intial_mat[user_i][movieId] == 'Null': # check if null value\n",
    "            # time to predict rating for this movie\n",
    "            rating = PredictMovieRating(user_i, movieId, corr_mat, user_movie_rating)\n",
    "            predicted_ratings.append((rating, movieId))\n",
    "    predicted_ratings.sort(key= lambda x:x[0])\n",
    "    movie_predictions = [x[1] for x in predicted_ratings]\n",
    "    return movie_predictions\n"
   ]
  },
  {
   "cell_type": "markdown",
   "metadata": {},
   "source": [
    "### Optimal K=8"
   ]
  },
  {
   "cell_type": "code",
   "execution_count": 18,
   "metadata": {},
   "outputs": [
    {
     "name": "stdout",
     "output_type": "stream",
     "text": [
      "CPU times: user 36.8 s, sys: 71.5 ms, total: 36.8 s\n",
      "Wall time: 38 s\n"
     ]
    }
   ],
   "source": [
    "%%time\n",
    "# looking for optimal k\n",
    "y= test['rating']\n",
    "errors = {}\n",
    "y_hat = []\n",
    "for i in test.index:\n",
    "    user_i, movie_j = map(int,[test.loc[i]['userId'], \n",
    "                               test.loc[i]['movieId']])\n",
    "    # make the prediction here\n",
    "    predicted_rating = PredictMovieRating(user_i, \n",
    "                                          movie_j, \n",
    "                                          correlation_matrix, \n",
    "                                          user_movie_rating, 8)\n",
    "    y_hat.append(predicted_rating)\n",
    "error_i = error(np.nan_to_num(np.array(y_hat)), y)        \n"
   ]
  },
  {
   "cell_type": "code",
   "execution_count": 19,
   "metadata": {},
   "outputs": [
    {
     "data": {
      "text/plain": [
       "164424.5659923176"
      ]
     },
     "execution_count": 19,
     "metadata": {},
     "output_type": "execute_result"
    }
   ],
   "source": [
    "y= test['rating'].tolist()\n",
    "# compute error\n",
    "error(np.nan_to_num(np.array(y_hat)), y)"
   ]
  },
  {
   "cell_type": "code",
   "execution_count": 20,
   "metadata": {},
   "outputs": [
    {
     "data": {
      "text/plain": [
       "164424.5659923176"
      ]
     },
     "execution_count": 20,
     "metadata": {},
     "output_type": "execute_result"
    }
   ],
   "source": [
    "# Pred\n",
    "error(y_hat, test['rating'])"
   ]
  },
  {
   "cell_type": "code",
   "execution_count": 21,
   "metadata": {},
   "outputs": [
    {
     "data": {
      "text/html": [
       "<div>\n",
       "<style scoped>\n",
       "    .dataframe tbody tr th:only-of-type {\n",
       "        vertical-align: middle;\n",
       "    }\n",
       "\n",
       "    .dataframe tbody tr th {\n",
       "        vertical-align: top;\n",
       "    }\n",
       "\n",
       "    .dataframe thead th {\n",
       "        text-align: right;\n",
       "    }\n",
       "</style>\n",
       "<table border=\"1\" class=\"dataframe\">\n",
       "  <thead>\n",
       "    <tr style=\"text-align: right;\">\n",
       "      <th></th>\n",
       "      <th>userId</th>\n",
       "      <th>movieId</th>\n",
       "      <th>rating</th>\n",
       "      <th>prediction</th>\n",
       "    </tr>\n",
       "  </thead>\n",
       "  <tbody>\n",
       "    <tr>\n",
       "      <th>23841</th>\n",
       "      <td>168</td>\n",
       "      <td>608</td>\n",
       "      <td>5.0</td>\n",
       "      <td>1.666370</td>\n",
       "    </tr>\n",
       "    <tr>\n",
       "      <th>84676</th>\n",
       "      <td>564</td>\n",
       "      <td>3961</td>\n",
       "      <td>3.0</td>\n",
       "      <td>0.000000</td>\n",
       "    </tr>\n",
       "    <tr>\n",
       "      <th>90720</th>\n",
       "      <td>602</td>\n",
       "      <td>1009</td>\n",
       "      <td>4.0</td>\n",
       "      <td>0.000000</td>\n",
       "    </tr>\n",
       "    <tr>\n",
       "      <th>12894</th>\n",
       "      <td>82</td>\n",
       "      <td>367</td>\n",
       "      <td>3.0</td>\n",
       "      <td>1.492416</td>\n",
       "    </tr>\n",
       "    <tr>\n",
       "      <th>97655</th>\n",
       "      <td>654</td>\n",
       "      <td>1562</td>\n",
       "      <td>3.0</td>\n",
       "      <td>0.069885</td>\n",
       "    </tr>\n",
       "  </tbody>\n",
       "</table>\n",
       "</div>"
      ],
      "text/plain": [
       "       userId  movieId  rating  prediction\n",
       "23841     168      608     5.0    1.666370\n",
       "84676     564     3961     3.0    0.000000\n",
       "90720     602     1009     4.0    0.000000\n",
       "12894      82      367     3.0    1.492416\n",
       "97655     654     1562     3.0    0.069885"
      ]
     },
     "execution_count": 21,
     "metadata": {},
     "output_type": "execute_result"
    }
   ],
   "source": [
    "test['prediction'] = y_hat\n",
    "test.head()"
   ]
  },
  {
   "cell_type": "code",
   "execution_count": 22,
   "metadata": {},
   "outputs": [],
   "source": [
    "from collections import Counter\n",
    "user_freq_dict = Counter(test['userId'].tolist())\n",
    "max_voting = max(user_freq_dict.values())\n",
    "for i in user_freq_dict:\n",
    "    if user_freq_dict[i] == max_voting:\n",
    "        user_choice =i"
   ]
  },
  {
   "cell_type": "code",
   "execution_count": 23,
   "metadata": {},
   "outputs": [
    {
     "data": {
      "text/html": [
       "<div>\n",
       "<style scoped>\n",
       "    .dataframe tbody tr th:only-of-type {\n",
       "        vertical-align: middle;\n",
       "    }\n",
       "\n",
       "    .dataframe tbody tr th {\n",
       "        vertical-align: top;\n",
       "    }\n",
       "\n",
       "    .dataframe thead th {\n",
       "        text-align: right;\n",
       "    }\n",
       "</style>\n",
       "<table border=\"1\" class=\"dataframe\">\n",
       "  <thead>\n",
       "    <tr style=\"text-align: right;\">\n",
       "      <th></th>\n",
       "      <th>userId</th>\n",
       "      <th>movieId</th>\n",
       "      <th>rating</th>\n",
       "      <th>prediction</th>\n",
       "    </tr>\n",
       "  </thead>\n",
       "  <tbody>\n",
       "    <tr>\n",
       "      <th>78613</th>\n",
       "      <td>547</td>\n",
       "      <td>926</td>\n",
       "      <td>5.0</td>\n",
       "      <td>3.100563</td>\n",
       "    </tr>\n",
       "    <tr>\n",
       "      <th>79112</th>\n",
       "      <td>547</td>\n",
       "      <td>2797</td>\n",
       "      <td>5.0</td>\n",
       "      <td>2.698605</td>\n",
       "    </tr>\n",
       "    <tr>\n",
       "      <th>78682</th>\n",
       "      <td>547</td>\n",
       "      <td>1104</td>\n",
       "      <td>5.0</td>\n",
       "      <td>1.308785</td>\n",
       "    </tr>\n",
       "    <tr>\n",
       "      <th>79775</th>\n",
       "      <td>547</td>\n",
       "      <td>6662</td>\n",
       "      <td>5.0</td>\n",
       "      <td>1.420368</td>\n",
       "    </tr>\n",
       "    <tr>\n",
       "      <th>79852</th>\n",
       "      <td>547</td>\n",
       "      <td>7087</td>\n",
       "      <td>5.0</td>\n",
       "      <td>0.000000</td>\n",
       "    </tr>\n",
       "  </tbody>\n",
       "</table>\n",
       "</div>"
      ],
      "text/plain": [
       "       userId  movieId  rating  prediction\n",
       "78613     547      926     5.0    3.100563\n",
       "79112     547     2797     5.0    2.698605\n",
       "78682     547     1104     5.0    1.308785\n",
       "79775     547     6662     5.0    1.420368\n",
       "79852     547     7087     5.0    0.000000"
      ]
     },
     "execution_count": 23,
     "metadata": {},
     "output_type": "execute_result"
    }
   ],
   "source": [
    "one_user= test.loc[(test['userId'] == user_choice)].sort_values('rating', \n",
    "                      inplace=False, \n",
    "                      ascending=False)\n",
    "one_user.head()"
   ]
  },
  {
   "cell_type": "markdown",
   "metadata": {},
   "source": [
    "### Recall and Precision"
   ]
  },
  {
   "cell_type": "code",
   "execution_count": 24,
   "metadata": {},
   "outputs": [
    {
     "data": {
      "text/plain": [
       "(437, 34)"
      ]
     },
     "execution_count": 24,
     "metadata": {},
     "output_type": "execute_result"
    }
   ],
   "source": [
    "relevance_threshold = 2\n",
    "recommended_movies = set(one_user.loc[(one_user['prediction'] >= relevance_threshold)]['movieId'].tolist())\n",
    "relavent_movies = set(one_user.loc[(one_user['rating'] >= relevance_threshold)]['movieId'].tolist())\n",
    "len(relavent_movies), len(recommended_movies)"
   ]
  },
  {
   "cell_type": "code",
   "execution_count": 25,
   "metadata": {},
   "outputs": [],
   "source": [
    "recommended_movies_intersection_relavant_movies = [i for i in recommended_movies if i in relavent_movies]\n",
    "recommended_movies_intersection_relavant_movies;"
   ]
  },
  {
   "cell_type": "code",
   "execution_count": 26,
   "metadata": {},
   "outputs": [
    {
     "data": {
      "text/plain": [
       "(34, 34, 437)"
      ]
     },
     "execution_count": 26,
     "metadata": {},
     "output_type": "execute_result"
    }
   ],
   "source": [
    "len(recommended_movies), len(recommended_movies_intersection_relavant_movies), len(relavent_movies)"
   ]
  },
  {
   "cell_type": "code",
   "execution_count": 27,
   "metadata": {},
   "outputs": [],
   "source": [
    "recall = len(recommended_movies_intersection_relavant_movies)/len(relavent_movies)\n",
    "precision = len(recommended_movies_intersection_relavant_movies)/len(recommended_movies)"
   ]
  },
  {
   "cell_type": "code",
   "execution_count": 28,
   "metadata": {},
   "outputs": [
    {
     "data": {
      "text/plain": [
       "(1.0, 0.07780320366132723)"
      ]
     },
     "execution_count": 28,
     "metadata": {},
     "output_type": "execute_result"
    }
   ],
   "source": [
    "precision, recall"
   ]
  },
  {
   "cell_type": "code",
   "execution_count": 29,
   "metadata": {},
   "outputs": [
    {
     "data": {
      "text/plain": [
       "0.14437367303609341"
      ]
     },
     "execution_count": 29,
     "metadata": {},
     "output_type": "execute_result"
    }
   ],
   "source": [
    "f_score = 2*precision*recall/(precision+recall)\n",
    "f_score"
   ]
  },
  {
   "cell_type": "markdown",
   "metadata": {},
   "source": [
    "### Recall@k and Precision@k\n",
    "- recall and precision on top k predictions"
   ]
  },
  {
   "cell_type": "code",
   "execution_count": 30,
   "metadata": {},
   "outputs": [
    {
     "data": {
      "text/html": [
       "<div>\n",
       "<style scoped>\n",
       "    .dataframe tbody tr th:only-of-type {\n",
       "        vertical-align: middle;\n",
       "    }\n",
       "\n",
       "    .dataframe tbody tr th {\n",
       "        vertical-align: top;\n",
       "    }\n",
       "\n",
       "    .dataframe thead th {\n",
       "        text-align: right;\n",
       "    }\n",
       "</style>\n",
       "<table border=\"1\" class=\"dataframe\">\n",
       "  <thead>\n",
       "    <tr style=\"text-align: right;\">\n",
       "      <th></th>\n",
       "      <th>userId</th>\n",
       "      <th>movieId</th>\n",
       "      <th>rating</th>\n",
       "      <th>prediction</th>\n",
       "    </tr>\n",
       "  </thead>\n",
       "  <tbody>\n",
       "    <tr>\n",
       "      <th>78490</th>\n",
       "      <td>547</td>\n",
       "      <td>296</td>\n",
       "      <td>5.0</td>\n",
       "      <td>3.716985</td>\n",
       "    </tr>\n",
       "    <tr>\n",
       "      <th>79393</th>\n",
       "      <td>547</td>\n",
       "      <td>3996</td>\n",
       "      <td>4.0</td>\n",
       "      <td>3.362366</td>\n",
       "    </tr>\n",
       "    <tr>\n",
       "      <th>79250</th>\n",
       "      <td>547</td>\n",
       "      <td>3317</td>\n",
       "      <td>4.0</td>\n",
       "      <td>3.133541</td>\n",
       "    </tr>\n",
       "    <tr>\n",
       "      <th>78613</th>\n",
       "      <td>547</td>\n",
       "      <td>926</td>\n",
       "      <td>5.0</td>\n",
       "      <td>3.100563</td>\n",
       "    </tr>\n",
       "    <tr>\n",
       "      <th>78764</th>\n",
       "      <td>547</td>\n",
       "      <td>1276</td>\n",
       "      <td>4.5</td>\n",
       "      <td>3.092090</td>\n",
       "    </tr>\n",
       "  </tbody>\n",
       "</table>\n",
       "</div>"
      ],
      "text/plain": [
       "       userId  movieId  rating  prediction\n",
       "78490     547      296     5.0    3.716985\n",
       "79393     547     3996     4.0    3.362366\n",
       "79250     547     3317     4.0    3.133541\n",
       "78613     547      926     5.0    3.100563\n",
       "78764     547     1276     4.5    3.092090"
      ]
     },
     "execution_count": 30,
     "metadata": {},
     "output_type": "execute_result"
    }
   ],
   "source": [
    "k=8\n",
    "top_k_predictions_df = one_user.sort_values('prediction', ascending=False)[:k]\n",
    "top_k_predictions_df.head()"
   ]
  },
  {
   "cell_type": "code",
   "execution_count": 31,
   "metadata": {},
   "outputs": [],
   "source": [
    "relevance_threshold=3.5\n",
    "top_k_movies_recommended = set(top_k_predictions_df.loc[(top_k_predictions_df['prediction'] >= relevance_threshold)]['movieId'].tolist())\n",
    "top_k_movies_relevant = set(top_k_predictions_df.loc[(top_k_predictions_df['rating'] >= relevance_threshold)]['movieId'].tolist())\n",
    "# top_k_predictions_df['rating']"
   ]
  },
  {
   "cell_type": "code",
   "execution_count": 32,
   "metadata": {},
   "outputs": [
    {
     "data": {
      "text/plain": [
       "[296]"
      ]
     },
     "execution_count": 32,
     "metadata": {},
     "output_type": "execute_result"
    }
   ],
   "source": [
    "recommended_movies_intersection_relavant_movies = [i for i in top_k_movies_recommended\n",
    "                                                   if i in top_k_movies_relevant]\n",
    "recommended_movies_intersection_relavant_movies"
   ]
  },
  {
   "cell_type": "code",
   "execution_count": 33,
   "metadata": {},
   "outputs": [
    {
     "data": {
      "text/plain": [
       "(1, 1, 8)"
      ]
     },
     "execution_count": 33,
     "metadata": {},
     "output_type": "execute_result"
    }
   ],
   "source": [
    "len(top_k_movies_recommended), len(recommended_movies_intersection_relavant_movies), len(top_k_movies_relevant)"
   ]
  },
  {
   "cell_type": "code",
   "execution_count": 34,
   "metadata": {},
   "outputs": [],
   "source": [
    "recall = len(recommended_movies_intersection_relavant_movies)/len(top_k_movies_relevant)\n",
    "precision = len(recommended_movies_intersection_relavant_movies)/len(top_k_movies_recommended)"
   ]
  },
  {
   "cell_type": "code",
   "execution_count": 35,
   "metadata": {},
   "outputs": [
    {
     "data": {
      "text/plain": [
       "(1.0, 0.125)"
      ]
     },
     "execution_count": 35,
     "metadata": {},
     "output_type": "execute_result"
    }
   ],
   "source": [
    "precision, recall"
   ]
  },
  {
   "cell_type": "code",
   "execution_count": 36,
   "metadata": {},
   "outputs": [
    {
     "data": {
      "text/plain": [
       "0.2222222222222222"
      ]
     },
     "execution_count": 36,
     "metadata": {},
     "output_type": "execute_result"
    }
   ],
   "source": [
    "f_score = 2*precision*recall/(precision+recall)\n",
    "f_score"
   ]
  },
  {
   "cell_type": "code",
   "execution_count": null,
   "metadata": {},
   "outputs": [],
   "source": []
  },
  {
   "cell_type": "code",
   "execution_count": null,
   "metadata": {},
   "outputs": [],
   "source": []
  }
 ],
 "metadata": {
  "kernelspec": {
   "display_name": "Python 3",
   "language": "python",
   "name": "python3"
  },
  "language_info": {
   "codemirror_mode": {
    "name": "ipython",
    "version": 3
   },
   "file_extension": ".py",
   "mimetype": "text/x-python",
   "name": "python",
   "nbconvert_exporter": "python",
   "pygments_lexer": "ipython3",
   "version": "3.8.5"
  }
 },
 "nbformat": 4,
 "nbformat_minor": 4
}
