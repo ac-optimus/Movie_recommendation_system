{
 "cells": [
  {
   "cell_type": "code",
   "execution_count": 1,
   "metadata": {},
   "outputs": [],
   "source": [
    "import numpy as np\n",
    "import pandas as pd\n",
    "import matplotlib.pyplot as plt"
   ]
  },
  {
   "cell_type": "code",
   "execution_count": 2,
   "metadata": {},
   "outputs": [
    {
     "data": {
      "text/plain": [
       "(100004, 4)"
      ]
     },
     "execution_count": 2,
     "metadata": {},
     "output_type": "execute_result"
    }
   ],
   "source": [
    "# import the data covert that into a convenient data\n",
    "PATH= '/home/ac-optimus/data_science/recommendation_sys/ratings_small.csv'\n",
    "df = pd.read_csv(PATH, sep= \",\")\n",
    "# df = pd.read_csv(PATH, sep= \",\")\n",
    "df.shape"
   ]
  },
  {
   "cell_type": "code",
   "execution_count": 3,
   "metadata": {},
   "outputs": [
    {
     "data": {
      "text/html": [
       "<div>\n",
       "<style scoped>\n",
       "    .dataframe tbody tr th:only-of-type {\n",
       "        vertical-align: middle;\n",
       "    }\n",
       "\n",
       "    .dataframe tbody tr th {\n",
       "        vertical-align: top;\n",
       "    }\n",
       "\n",
       "    .dataframe thead th {\n",
       "        text-align: right;\n",
       "    }\n",
       "</style>\n",
       "<table border=\"1\" class=\"dataframe\">\n",
       "  <thead>\n",
       "    <tr style=\"text-align: right;\">\n",
       "      <th></th>\n",
       "      <th>userId</th>\n",
       "      <th>movieId</th>\n",
       "      <th>rating</th>\n",
       "    </tr>\n",
       "  </thead>\n",
       "  <tbody>\n",
       "    <tr>\n",
       "      <th>0</th>\n",
       "      <td>1</td>\n",
       "      <td>31</td>\n",
       "      <td>2.5</td>\n",
       "    </tr>\n",
       "    <tr>\n",
       "      <th>1</th>\n",
       "      <td>1</td>\n",
       "      <td>1029</td>\n",
       "      <td>3.0</td>\n",
       "    </tr>\n",
       "    <tr>\n",
       "      <th>2</th>\n",
       "      <td>1</td>\n",
       "      <td>1061</td>\n",
       "      <td>3.0</td>\n",
       "    </tr>\n",
       "    <tr>\n",
       "      <th>3</th>\n",
       "      <td>1</td>\n",
       "      <td>1129</td>\n",
       "      <td>2.0</td>\n",
       "    </tr>\n",
       "    <tr>\n",
       "      <th>4</th>\n",
       "      <td>1</td>\n",
       "      <td>1172</td>\n",
       "      <td>4.0</td>\n",
       "    </tr>\n",
       "  </tbody>\n",
       "</table>\n",
       "</div>"
      ],
      "text/plain": [
       "   userId  movieId  rating\n",
       "0       1       31     2.5\n",
       "1       1     1029     3.0\n",
       "2       1     1061     3.0\n",
       "3       1     1129     2.0\n",
       "4       1     1172     4.0"
      ]
     },
     "execution_count": 3,
     "metadata": {},
     "output_type": "execute_result"
    }
   ],
   "source": [
    "df.drop('timestamp', axis=1, inplace=True)\n",
    "df.head()"
   ]
  },
  {
   "cell_type": "code",
   "execution_count": 4,
   "metadata": {},
   "outputs": [],
   "source": [
    "# this gave me a good plot\n",
    "from sklearn.utils import shuffle\n",
    "df = shuffle(df)"
   ]
  },
  {
   "cell_type": "code",
   "execution_count": 5,
   "metadata": {},
   "outputs": [
    {
     "data": {
      "text/html": [
       "<div>\n",
       "<style scoped>\n",
       "    .dataframe tbody tr th:only-of-type {\n",
       "        vertical-align: middle;\n",
       "    }\n",
       "\n",
       "    .dataframe tbody tr th {\n",
       "        vertical-align: top;\n",
       "    }\n",
       "\n",
       "    .dataframe thead th {\n",
       "        text-align: right;\n",
       "    }\n",
       "</style>\n",
       "<table border=\"1\" class=\"dataframe\">\n",
       "  <thead>\n",
       "    <tr style=\"text-align: right;\">\n",
       "      <th></th>\n",
       "      <th>userId</th>\n",
       "      <th>movieId</th>\n",
       "      <th>rating</th>\n",
       "    </tr>\n",
       "  </thead>\n",
       "  <tbody>\n",
       "    <tr>\n",
       "      <th>67795</th>\n",
       "      <td>472</td>\n",
       "      <td>3108</td>\n",
       "      <td>4.0</td>\n",
       "    </tr>\n",
       "    <tr>\n",
       "      <th>22823</th>\n",
       "      <td>160</td>\n",
       "      <td>1244</td>\n",
       "      <td>4.0</td>\n",
       "    </tr>\n",
       "    <tr>\n",
       "      <th>42647</th>\n",
       "      <td>306</td>\n",
       "      <td>1213</td>\n",
       "      <td>5.0</td>\n",
       "    </tr>\n",
       "    <tr>\n",
       "      <th>60380</th>\n",
       "      <td>439</td>\n",
       "      <td>39</td>\n",
       "      <td>4.0</td>\n",
       "    </tr>\n",
       "    <tr>\n",
       "      <th>14371</th>\n",
       "      <td>94</td>\n",
       "      <td>1961</td>\n",
       "      <td>4.0</td>\n",
       "    </tr>\n",
       "  </tbody>\n",
       "</table>\n",
       "</div>"
      ],
      "text/plain": [
       "       userId  movieId  rating\n",
       "67795     472     3108     4.0\n",
       "22823     160     1244     4.0\n",
       "42647     306     1213     5.0\n",
       "60380     439       39     4.0\n",
       "14371      94     1961     4.0"
      ]
     },
     "execution_count": 5,
     "metadata": {},
     "output_type": "execute_result"
    }
   ],
   "source": [
    "df.head()"
   ]
  },
  {
   "cell_type": "code",
   "execution_count": 6,
   "metadata": {},
   "outputs": [
    {
     "name": "stderr",
     "output_type": "stream",
     "text": [
      "<ipython-input-6-75ff325d5135>:3: SettingWithCopyWarning: \n",
      "A value is trying to be set on a copy of a slice from a DataFrame.\n",
      "Try using .loc[row_indexer,col_indexer] = value instead\n",
      "\n",
      "See the caveats in the documentation: https://pandas.pydata.org/pandas-docs/stable/user_guide/indexing.html#returning-a-view-versus-a-copy\n",
      "  train[int(num_rows*0.8):]['rating']  = train[int(num_rows*0.8):]['rating']*0\n"
     ]
    }
   ],
   "source": [
    "num_rows = df.shape[0]\n",
    "train, test = df.copy(deep = True), df[int(num_rows*0.8):].copy(deep = True)\n",
    "train[int(num_rows*0.8):]['rating']  = train[int(num_rows*0.8):]['rating']*0\n",
    "train = shuffle(train)"
   ]
  },
  {
   "cell_type": "code",
   "execution_count": 7,
   "metadata": {},
   "outputs": [
    {
     "data": {
      "text/html": [
       "<div>\n",
       "<style scoped>\n",
       "    .dataframe tbody tr th:only-of-type {\n",
       "        vertical-align: middle;\n",
       "    }\n",
       "\n",
       "    .dataframe tbody tr th {\n",
       "        vertical-align: top;\n",
       "    }\n",
       "\n",
       "    .dataframe thead th {\n",
       "        text-align: right;\n",
       "    }\n",
       "</style>\n",
       "<table border=\"1\" class=\"dataframe\">\n",
       "  <thead>\n",
       "    <tr style=\"text-align: right;\">\n",
       "      <th>movieId</th>\n",
       "      <th>1</th>\n",
       "      <th>2</th>\n",
       "      <th>3</th>\n",
       "      <th>4</th>\n",
       "      <th>5</th>\n",
       "      <th>6</th>\n",
       "      <th>7</th>\n",
       "      <th>8</th>\n",
       "      <th>9</th>\n",
       "      <th>10</th>\n",
       "      <th>...</th>\n",
       "      <th>161084</th>\n",
       "      <th>161155</th>\n",
       "      <th>161594</th>\n",
       "      <th>161830</th>\n",
       "      <th>161918</th>\n",
       "      <th>161944</th>\n",
       "      <th>162376</th>\n",
       "      <th>162542</th>\n",
       "      <th>162672</th>\n",
       "      <th>163949</th>\n",
       "    </tr>\n",
       "    <tr>\n",
       "      <th>userId</th>\n",
       "      <th></th>\n",
       "      <th></th>\n",
       "      <th></th>\n",
       "      <th></th>\n",
       "      <th></th>\n",
       "      <th></th>\n",
       "      <th></th>\n",
       "      <th></th>\n",
       "      <th></th>\n",
       "      <th></th>\n",
       "      <th></th>\n",
       "      <th></th>\n",
       "      <th></th>\n",
       "      <th></th>\n",
       "      <th></th>\n",
       "      <th></th>\n",
       "      <th></th>\n",
       "      <th></th>\n",
       "      <th></th>\n",
       "      <th></th>\n",
       "      <th></th>\n",
       "    </tr>\n",
       "  </thead>\n",
       "  <tbody>\n",
       "    <tr>\n",
       "      <th>1</th>\n",
       "      <td>0.0</td>\n",
       "      <td>0.0</td>\n",
       "      <td>0.0</td>\n",
       "      <td>0.0</td>\n",
       "      <td>0.0</td>\n",
       "      <td>0.0</td>\n",
       "      <td>0.0</td>\n",
       "      <td>0.0</td>\n",
       "      <td>0.0</td>\n",
       "      <td>0.0</td>\n",
       "      <td>...</td>\n",
       "      <td>0.0</td>\n",
       "      <td>0.0</td>\n",
       "      <td>0.0</td>\n",
       "      <td>0.0</td>\n",
       "      <td>0.0</td>\n",
       "      <td>0.0</td>\n",
       "      <td>0.0</td>\n",
       "      <td>0.0</td>\n",
       "      <td>0.0</td>\n",
       "      <td>0.0</td>\n",
       "    </tr>\n",
       "    <tr>\n",
       "      <th>2</th>\n",
       "      <td>0.0</td>\n",
       "      <td>0.0</td>\n",
       "      <td>0.0</td>\n",
       "      <td>0.0</td>\n",
       "      <td>0.0</td>\n",
       "      <td>0.0</td>\n",
       "      <td>0.0</td>\n",
       "      <td>0.0</td>\n",
       "      <td>0.0</td>\n",
       "      <td>4.0</td>\n",
       "      <td>...</td>\n",
       "      <td>0.0</td>\n",
       "      <td>0.0</td>\n",
       "      <td>0.0</td>\n",
       "      <td>0.0</td>\n",
       "      <td>0.0</td>\n",
       "      <td>0.0</td>\n",
       "      <td>0.0</td>\n",
       "      <td>0.0</td>\n",
       "      <td>0.0</td>\n",
       "      <td>0.0</td>\n",
       "    </tr>\n",
       "    <tr>\n",
       "      <th>3</th>\n",
       "      <td>0.0</td>\n",
       "      <td>0.0</td>\n",
       "      <td>0.0</td>\n",
       "      <td>0.0</td>\n",
       "      <td>0.0</td>\n",
       "      <td>0.0</td>\n",
       "      <td>0.0</td>\n",
       "      <td>0.0</td>\n",
       "      <td>0.0</td>\n",
       "      <td>0.0</td>\n",
       "      <td>...</td>\n",
       "      <td>0.0</td>\n",
       "      <td>0.0</td>\n",
       "      <td>0.0</td>\n",
       "      <td>0.0</td>\n",
       "      <td>0.0</td>\n",
       "      <td>0.0</td>\n",
       "      <td>0.0</td>\n",
       "      <td>0.0</td>\n",
       "      <td>0.0</td>\n",
       "      <td>0.0</td>\n",
       "    </tr>\n",
       "    <tr>\n",
       "      <th>4</th>\n",
       "      <td>0.0</td>\n",
       "      <td>0.0</td>\n",
       "      <td>0.0</td>\n",
       "      <td>0.0</td>\n",
       "      <td>0.0</td>\n",
       "      <td>0.0</td>\n",
       "      <td>0.0</td>\n",
       "      <td>0.0</td>\n",
       "      <td>0.0</td>\n",
       "      <td>0.0</td>\n",
       "      <td>...</td>\n",
       "      <td>0.0</td>\n",
       "      <td>0.0</td>\n",
       "      <td>0.0</td>\n",
       "      <td>0.0</td>\n",
       "      <td>0.0</td>\n",
       "      <td>0.0</td>\n",
       "      <td>0.0</td>\n",
       "      <td>0.0</td>\n",
       "      <td>0.0</td>\n",
       "      <td>0.0</td>\n",
       "    </tr>\n",
       "    <tr>\n",
       "      <th>5</th>\n",
       "      <td>0.0</td>\n",
       "      <td>0.0</td>\n",
       "      <td>0.0</td>\n",
       "      <td>0.0</td>\n",
       "      <td>0.0</td>\n",
       "      <td>0.0</td>\n",
       "      <td>0.0</td>\n",
       "      <td>0.0</td>\n",
       "      <td>0.0</td>\n",
       "      <td>0.0</td>\n",
       "      <td>...</td>\n",
       "      <td>0.0</td>\n",
       "      <td>0.0</td>\n",
       "      <td>0.0</td>\n",
       "      <td>0.0</td>\n",
       "      <td>0.0</td>\n",
       "      <td>0.0</td>\n",
       "      <td>0.0</td>\n",
       "      <td>0.0</td>\n",
       "      <td>0.0</td>\n",
       "      <td>0.0</td>\n",
       "    </tr>\n",
       "  </tbody>\n",
       "</table>\n",
       "<p>5 rows × 9066 columns</p>\n",
       "</div>"
      ],
      "text/plain": [
       "movieId  1       2       3       4       5       6       7       8       \\\n",
       "userId                                                                    \n",
       "1           0.0     0.0     0.0     0.0     0.0     0.0     0.0     0.0   \n",
       "2           0.0     0.0     0.0     0.0     0.0     0.0     0.0     0.0   \n",
       "3           0.0     0.0     0.0     0.0     0.0     0.0     0.0     0.0   \n",
       "4           0.0     0.0     0.0     0.0     0.0     0.0     0.0     0.0   \n",
       "5           0.0     0.0     0.0     0.0     0.0     0.0     0.0     0.0   \n",
       "\n",
       "movieId  9       10      ...  161084  161155  161594  161830  161918  161944  \\\n",
       "userId                   ...                                                   \n",
       "1           0.0     0.0  ...     0.0     0.0     0.0     0.0     0.0     0.0   \n",
       "2           0.0     4.0  ...     0.0     0.0     0.0     0.0     0.0     0.0   \n",
       "3           0.0     0.0  ...     0.0     0.0     0.0     0.0     0.0     0.0   \n",
       "4           0.0     0.0  ...     0.0     0.0     0.0     0.0     0.0     0.0   \n",
       "5           0.0     0.0  ...     0.0     0.0     0.0     0.0     0.0     0.0   \n",
       "\n",
       "movieId  162376  162542  162672  163949  \n",
       "userId                                   \n",
       "1           0.0     0.0     0.0     0.0  \n",
       "2           0.0     0.0     0.0     0.0  \n",
       "3           0.0     0.0     0.0     0.0  \n",
       "4           0.0     0.0     0.0     0.0  \n",
       "5           0.0     0.0     0.0     0.0  \n",
       "\n",
       "[5 rows x 9066 columns]"
      ]
     },
     "execution_count": 7,
     "metadata": {},
     "output_type": "execute_result"
    }
   ],
   "source": [
    "user_movie_rating =train.groupby(['userId','movieId'])['rating'].max().unstack().fillna(0)\n",
    "user_movie_rating.head()"
   ]
  },
  {
   "cell_type": "code",
   "execution_count": 8,
   "metadata": {},
   "outputs": [
    {
     "name": "stdout",
     "output_type": "stream",
     "text": [
      "We have 671 users in our user-movie matrix.\n",
      "We have 9066 movies in our user-movie matrix.\n"
     ]
    }
   ],
   "source": [
    "user_movie_rating.shape\n",
    "print (\"We have {} users in our user-movie matrix.\".format(user_movie_rating.shape[0]))\n",
    "print (\"We have {} movies in our user-movie matrix.\".format(user_movie_rating.shape[1]))\n"
   ]
  },
  {
   "cell_type": "code",
   "execution_count": 9,
   "metadata": {},
   "outputs": [
    {
     "data": {
      "text/html": [
       "<div>\n",
       "<style scoped>\n",
       "    .dataframe tbody tr th:only-of-type {\n",
       "        vertical-align: middle;\n",
       "    }\n",
       "\n",
       "    .dataframe tbody tr th {\n",
       "        vertical-align: top;\n",
       "    }\n",
       "\n",
       "    .dataframe thead th {\n",
       "        text-align: right;\n",
       "    }\n",
       "</style>\n",
       "<table border=\"1\" class=\"dataframe\">\n",
       "  <thead>\n",
       "    <tr style=\"text-align: right;\">\n",
       "      <th>userId</th>\n",
       "      <th>1</th>\n",
       "      <th>2</th>\n",
       "      <th>3</th>\n",
       "      <th>4</th>\n",
       "      <th>5</th>\n",
       "      <th>6</th>\n",
       "      <th>7</th>\n",
       "      <th>8</th>\n",
       "      <th>9</th>\n",
       "      <th>10</th>\n",
       "      <th>...</th>\n",
       "      <th>662</th>\n",
       "      <th>663</th>\n",
       "      <th>664</th>\n",
       "      <th>665</th>\n",
       "      <th>666</th>\n",
       "      <th>667</th>\n",
       "      <th>668</th>\n",
       "      <th>669</th>\n",
       "      <th>670</th>\n",
       "      <th>671</th>\n",
       "    </tr>\n",
       "    <tr>\n",
       "      <th>userId</th>\n",
       "      <th></th>\n",
       "      <th></th>\n",
       "      <th></th>\n",
       "      <th></th>\n",
       "      <th></th>\n",
       "      <th></th>\n",
       "      <th></th>\n",
       "      <th></th>\n",
       "      <th></th>\n",
       "      <th></th>\n",
       "      <th></th>\n",
       "      <th></th>\n",
       "      <th></th>\n",
       "      <th></th>\n",
       "      <th></th>\n",
       "      <th></th>\n",
       "      <th></th>\n",
       "      <th></th>\n",
       "      <th></th>\n",
       "      <th></th>\n",
       "      <th></th>\n",
       "    </tr>\n",
       "  </thead>\n",
       "  <tbody>\n",
       "    <tr>\n",
       "      <th>1</th>\n",
       "      <td>1.000000</td>\n",
       "      <td>-0.003459</td>\n",
       "      <td>-0.002775</td>\n",
       "      <td>0.036998</td>\n",
       "      <td>0.016036</td>\n",
       "      <td>-0.002372</td>\n",
       "      <td>0.052949</td>\n",
       "      <td>-0.004306</td>\n",
       "      <td>0.011734</td>\n",
       "      <td>-0.002546</td>\n",
       "      <td>...</td>\n",
       "      <td>-0.002990</td>\n",
       "      <td>-0.002245</td>\n",
       "      <td>-0.009038</td>\n",
       "      <td>0.017024</td>\n",
       "      <td>-0.002405</td>\n",
       "      <td>-0.003240</td>\n",
       "      <td>-0.001638</td>\n",
       "      <td>0.075193</td>\n",
       "      <td>-0.002033</td>\n",
       "      <td>0.018540</td>\n",
       "    </tr>\n",
       "    <tr>\n",
       "      <th>2</th>\n",
       "      <td>-0.003459</td>\n",
       "      <td>1.000000</td>\n",
       "      <td>0.143760</td>\n",
       "      <td>0.073912</td>\n",
       "      <td>0.087440</td>\n",
       "      <td>-0.004618</td>\n",
       "      <td>0.206681</td>\n",
       "      <td>0.109351</td>\n",
       "      <td>0.106250</td>\n",
       "      <td>0.050878</td>\n",
       "      <td>...</td>\n",
       "      <td>0.376754</td>\n",
       "      <td>0.063397</td>\n",
       "      <td>0.039295</td>\n",
       "      <td>0.106377</td>\n",
       "      <td>0.443786</td>\n",
       "      <td>0.355474</td>\n",
       "      <td>0.055583</td>\n",
       "      <td>0.025557</td>\n",
       "      <td>0.097528</td>\n",
       "      <td>0.095685</td>\n",
       "    </tr>\n",
       "    <tr>\n",
       "      <th>3</th>\n",
       "      <td>-0.002775</td>\n",
       "      <td>0.143760</td>\n",
       "      <td>1.000000</td>\n",
       "      <td>0.077892</td>\n",
       "      <td>0.132220</td>\n",
       "      <td>0.049650</td>\n",
       "      <td>0.196326</td>\n",
       "      <td>0.191486</td>\n",
       "      <td>0.130400</td>\n",
       "      <td>0.078610</td>\n",
       "      <td>...</td>\n",
       "      <td>0.127076</td>\n",
       "      <td>0.068551</td>\n",
       "      <td>0.116449</td>\n",
       "      <td>0.134451</td>\n",
       "      <td>0.181100</td>\n",
       "      <td>0.148748</td>\n",
       "      <td>0.038669</td>\n",
       "      <td>0.076846</td>\n",
       "      <td>0.086750</td>\n",
       "      <td>0.113979</td>\n",
       "    </tr>\n",
       "    <tr>\n",
       "      <th>4</th>\n",
       "      <td>0.036998</td>\n",
       "      <td>0.073912</td>\n",
       "      <td>0.077892</td>\n",
       "      <td>1.000000</td>\n",
       "      <td>0.118122</td>\n",
       "      <td>0.034148</td>\n",
       "      <td>0.210149</td>\n",
       "      <td>0.176461</td>\n",
       "      <td>0.013563</td>\n",
       "      <td>0.133997</td>\n",
       "      <td>...</td>\n",
       "      <td>0.096874</td>\n",
       "      <td>0.046686</td>\n",
       "      <td>0.080735</td>\n",
       "      <td>0.189226</td>\n",
       "      <td>0.087562</td>\n",
       "      <td>0.044117</td>\n",
       "      <td>0.025666</td>\n",
       "      <td>0.101723</td>\n",
       "      <td>0.058901</td>\n",
       "      <td>0.137879</td>\n",
       "    </tr>\n",
       "    <tr>\n",
       "      <th>5</th>\n",
       "      <td>0.016036</td>\n",
       "      <td>0.087440</td>\n",
       "      <td>0.132220</td>\n",
       "      <td>0.118122</td>\n",
       "      <td>1.000000</td>\n",
       "      <td>0.052333</td>\n",
       "      <td>0.056923</td>\n",
       "      <td>0.133887</td>\n",
       "      <td>0.080178</td>\n",
       "      <td>0.008257</td>\n",
       "      <td>...</td>\n",
       "      <td>0.137033</td>\n",
       "      <td>0.018699</td>\n",
       "      <td>0.082606</td>\n",
       "      <td>0.146623</td>\n",
       "      <td>0.125344</td>\n",
       "      <td>0.052443</td>\n",
       "      <td>0.050544</td>\n",
       "      <td>0.019846</td>\n",
       "      <td>0.025037</td>\n",
       "      <td>0.144517</td>\n",
       "    </tr>\n",
       "  </tbody>\n",
       "</table>\n",
       "<p>5 rows × 671 columns</p>\n",
       "</div>"
      ],
      "text/plain": [
       "userId       1         2         3         4         5         6         7    \\\n",
       "userId                                                                         \n",
       "1       1.000000 -0.003459 -0.002775  0.036998  0.016036 -0.002372  0.052949   \n",
       "2      -0.003459  1.000000  0.143760  0.073912  0.087440 -0.004618  0.206681   \n",
       "3      -0.002775  0.143760  1.000000  0.077892  0.132220  0.049650  0.196326   \n",
       "4       0.036998  0.073912  0.077892  1.000000  0.118122  0.034148  0.210149   \n",
       "5       0.016036  0.087440  0.132220  0.118122  1.000000  0.052333  0.056923   \n",
       "\n",
       "userId       8         9         10   ...       662       663       664  \\\n",
       "userId                                ...                                 \n",
       "1      -0.004306  0.011734 -0.002546  ... -0.002990 -0.002245 -0.009038   \n",
       "2       0.109351  0.106250  0.050878  ...  0.376754  0.063397  0.039295   \n",
       "3       0.191486  0.130400  0.078610  ...  0.127076  0.068551  0.116449   \n",
       "4       0.176461  0.013563  0.133997  ...  0.096874  0.046686  0.080735   \n",
       "5       0.133887  0.080178  0.008257  ...  0.137033  0.018699  0.082606   \n",
       "\n",
       "userId       665       666       667       668       669       670       671  \n",
       "userId                                                                        \n",
       "1       0.017024 -0.002405 -0.003240 -0.001638  0.075193 -0.002033  0.018540  \n",
       "2       0.106377  0.443786  0.355474  0.055583  0.025557  0.097528  0.095685  \n",
       "3       0.134451  0.181100  0.148748  0.038669  0.076846  0.086750  0.113979  \n",
       "4       0.189226  0.087562  0.044117  0.025666  0.101723  0.058901  0.137879  \n",
       "5       0.146623  0.125344  0.052443  0.050544  0.019846  0.025037  0.144517  \n",
       "\n",
       "[5 rows x 671 columns]"
      ]
     },
     "execution_count": 9,
     "metadata": {},
     "output_type": "execute_result"
    }
   ],
   "source": [
    "correlation_matrix = user_movie_rating.T.corr()\n",
    "correlation_matrix.head()"
   ]
  },
  {
   "cell_type": "code",
   "execution_count": 10,
   "metadata": {},
   "outputs": [],
   "source": [
    "# person similarity based\n",
    "\n",
    "# when we want to find a recommendaiton for a user.\n",
    "# we compute the correlation(cetered cosine or person correlation, making a saperate column would be a good idea)\n",
    "# with all the users in the utility matrix\n",
    "# return the top movies that user had not watched yet and recommend that movie\n",
    "# main aim is to fill the values that is it.\n",
    "# central_mean.iloc[0].corr(central_mean.iloc[1])\n",
    "# user_movie_rating= central_mean"
   ]
  },
  {
   "cell_type": "code",
   "execution_count": 12,
   "metadata": {},
   "outputs": [],
   "source": [
    "def error(y_hat, y):\n",
    "    # MSE\n",
    "    y_hat = np.array(y_hat)\n",
    "    y = np.array(y)\n",
    "    MSE_ = (y_hat- y)**2\n",
    "    MSE = MSE_.sum()/len(y_hat)\n",
    "    return MSE"
   ]
  },
  {
   "cell_type": "markdown",
   "metadata": {},
   "source": [
    "### Similarity based"
   ]
  },
  {
   "cell_type": "code",
   "execution_count": 13,
   "metadata": {},
   "outputs": [],
   "source": [
    "def PredictMovieRating(user_i, movie_i, corr_mat, user_movie_rating, k):\n",
    "    # for user x\n",
    "    # rxi = sum over knn (sxy*ryi)/sum over all the knn similarities\n",
    "    all_neighbours = corr_mat.loc[user_i]\n",
    "    all_neighbours = all_neighbours.drop(user_i)\n",
    "    topk_neighbours = all_neighbours.sort_values(ascending=False)[:k]  # knn\n",
    "    # knn user ids\n",
    "    knn = topk_neighbours.index.tolist()\n",
    "#     return knn\n",
    "    sum_sim = sum([corr_mat[user_i][user_j] for user_j in knn])\n",
    "    weighted_sum_sim = sum([corr_mat[user_i][user_j]*user_movie_rating[movie_i][user_j] \n",
    "                           for user_j in knn])\n",
    "    predicted_rating = weighted_sum_sim/sum_sim\n",
    "    return predicted_rating"
   ]
  },
  {
   "cell_type": "code",
   "execution_count": 14,
   "metadata": {},
   "outputs": [],
   "source": [
    "y_hat = []\n",
    "for i in test.index:\n",
    "    user_i, movie_j = map(int,[ test.loc[i]['userId'], test.loc[i]['movieId']])\n",
    "    # make the prediction here\n",
    "    predicted_rating = PredictMovieRating(user_i, movie_j, correlation_matrix, user_movie_rating, 4)\n",
    "    y_hat.append(predicted_rating)\n",
    "\n",
    "# compute the error here.\n"
   ]
  },
  {
   "cell_type": "code",
   "execution_count": 15,
   "metadata": {},
   "outputs": [],
   "source": [
    "y= test['rating'].tolist()"
   ]
  },
  {
   "cell_type": "code",
   "execution_count": 16,
   "metadata": {},
   "outputs": [
    {
     "data": {
      "text/plain": [
       "166392.77632292098"
      ]
     },
     "execution_count": 16,
     "metadata": {},
     "output_type": "execute_result"
    }
   ],
   "source": [
    "# compute error\n",
    "error(np.nan_to_num(np.array(y_hat)), y)"
   ]
  },
  {
   "cell_type": "code",
   "execution_count": 17,
   "metadata": {},
   "outputs": [],
   "source": [
    "# to compute error\n",
    "# create a new matrix that has ratings based on similarities \n",
    "# compare with the y and yhat and get the error\n",
    "# we can use the same split of test and train as in assignment."
   ]
  },
  {
   "cell_type": "code",
   "execution_count": 16,
   "metadata": {},
   "outputs": [
    {
     "name": "stdout",
     "output_type": "stream",
     "text": [
      "CPU times: user 27min 26s, sys: 1.17 s, total: 27min 28s\n",
      "Wall time: 27min 35s\n"
     ]
    }
   ],
   "source": [
    "%%time\n",
    "\n",
    "# looking for optimal k\n",
    "y= test['rating']\n",
    "errors = {}\n",
    "for k in range(1, 40):\n",
    "    y_hat = []\n",
    "    for i in test.index:\n",
    "        user_i, movie_j = map(int,[test.loc[i]['userId'], \n",
    "                                   test.loc[i]['movieId']])\n",
    "        # make the prediction here\n",
    "        predicted_rating = PredictMovieRating(user_i, \n",
    "                                              movie_j, \n",
    "                                              correlation_matrix, \n",
    "                                              user_movie_rating, k)\n",
    "        y_hat.append(predicted_rating)\n",
    "    error_i = error(np.nan_to_num(np.array(y_hat)), y)        \n",
    "    errors[k]=error_i\n"
   ]
  },
  {
   "cell_type": "code",
   "execution_count": 17,
   "metadata": {},
   "outputs": [
    {
     "data": {
      "text/plain": [
       "Text(0.5, 1.0, 'optimal neighbour search')"
      ]
     },
     "execution_count": 17,
     "metadata": {},
     "output_type": "execute_result"
    },
    {
     "data": {
      "image/png": "[encoded data removed]",
      "text/plain": [
       "<Figure size 1000x600 with 1 Axes>"
      ]
     },
     "metadata": {
      "needs_background": "light"
     },
     "output_type": "display_data"
    }
   ],
   "source": [
    "plt.figure(figsize=(10, 6), dpi=100)\n",
    "plt.plot(errors.keys(), errors.values())\n",
    "plt.xlabel('K')\n",
    "plt.ylabel('error')\n",
    "plt.title('optimal neighbour search')"
   ]
  },
  {
   "cell_type": "markdown",
   "metadata": {},
   "source": [
    "### Optimal K=9"
   ]
  },
  {
   "cell_type": "code",
   "execution_count": null,
   "metadata": {},
   "outputs": [],
   "source": [
    "%%time\n",
    "# looking for optimal k\n",
    "y= test['rating']\n",
    "errors = {}\n",
    "y_hat = []\n",
    "for i in test.index:\n",
    "    user_i, movie_j = map(int,[test.loc[i]['userId'], \n",
    "                               test.loc[i]['movieId']])\n",
    "    # make the prediction here\n",
    "    predicted_rating = PredictMovieRating(user_i, \n",
    "                                          movie_j, \n",
    "                                          correlation_matrix, \n",
    "                                          user_movie_rating, 9)\n",
    "    y_hat.append(predicted_rating)\n",
    "error_i = error(np.nan_to_num(np.array(y_hat)), y)        \n"
   ]
  },
  {
   "cell_type": "markdown",
   "metadata": {},
   "source": [
    "### MSE"
   ]
  },
  {
   "cell_type": "code",
   "execution_count": 53,
   "metadata": {},
   "outputs": [],
   "source": [
    "y= test['rating'].tolist()\n",
    "# compute error\n",
    "error(np.nan_to_num(np.array(y_hat)), y);"
   ]
  },
  {
   "cell_type": "code",
   "execution_count": 54,
   "metadata": {},
   "outputs": [
    {
     "data": {
      "text/plain": [
       "8.22763586678015"
      ]
     },
     "execution_count": 54,
     "metadata": {},
     "output_type": "execute_result"
    }
   ],
   "source": [
    "# Pred\n",
    "error(y_hat, test['rating'])"
   ]
  },
  {
   "cell_type": "code",
   "execution_count": 30,
   "metadata": {},
   "outputs": [
    {
     "data": {
      "text/html": [
       "<div>\n",
       "<style scoped>\n",
       "    .dataframe tbody tr th:only-of-type {\n",
       "        vertical-align: middle;\n",
       "    }\n",
       "\n",
       "    .dataframe tbody tr th {\n",
       "        vertical-align: top;\n",
       "    }\n",
       "\n",
       "    .dataframe thead th {\n",
       "        text-align: right;\n",
       "    }\n",
       "</style>\n",
       "<table border=\"1\" class=\"dataframe\">\n",
       "  <thead>\n",
       "    <tr style=\"text-align: right;\">\n",
       "      <th></th>\n",
       "      <th>userId</th>\n",
       "      <th>movieId</th>\n",
       "      <th>rating</th>\n",
       "      <th>prediction</th>\n",
       "    </tr>\n",
       "  </thead>\n",
       "  <tbody>\n",
       "    <tr>\n",
       "      <th>86359</th>\n",
       "      <td>577</td>\n",
       "      <td>3977</td>\n",
       "      <td>4.0</td>\n",
       "      <td>1.674462</td>\n",
       "    </tr>\n",
       "    <tr>\n",
       "      <th>42776</th>\n",
       "      <td>306</td>\n",
       "      <td>1968</td>\n",
       "      <td>4.0</td>\n",
       "      <td>3.759566</td>\n",
       "    </tr>\n",
       "    <tr>\n",
       "      <th>39633</th>\n",
       "      <td>289</td>\n",
       "      <td>2687</td>\n",
       "      <td>4.0</td>\n",
       "      <td>0.000000</td>\n",
       "    </tr>\n",
       "    <tr>\n",
       "      <th>85187</th>\n",
       "      <td>572</td>\n",
       "      <td>104913</td>\n",
       "      <td>4.5</td>\n",
       "      <td>0.000000</td>\n",
       "    </tr>\n",
       "    <tr>\n",
       "      <th>32566</th>\n",
       "      <td>235</td>\n",
       "      <td>2987</td>\n",
       "      <td>4.5</td>\n",
       "      <td>0.694104</td>\n",
       "    </tr>\n",
       "  </tbody>\n",
       "</table>\n",
       "</div>"
      ],
      "text/plain": [
       "       userId  movieId  rating  prediction\n",
       "86359     577     3977     4.0    1.674462\n",
       "42776     306     1968     4.0    3.759566\n",
       "39633     289     2687     4.0    0.000000\n",
       "85187     572   104913     4.5    0.000000\n",
       "32566     235     2987     4.5    0.694104"
      ]
     },
     "execution_count": 30,
     "metadata": {},
     "output_type": "execute_result"
    }
   ],
   "source": [
    "test['prediction'] = y_hat\n",
    "test.head()"
   ]
  },
  {
   "cell_type": "code",
   "execution_count": 31,
   "metadata": {},
   "outputs": [],
   "source": [
    "from collections import Counter\n",
    "user_freq_dict = Counter(test['userId'].tolist())\n",
    "max_voting = max(user_freq_dict.values())\n",
    "for i in user_freq_dict:\n",
    "    if user_freq_dict[i] == max_voting:\n",
    "        user_choice =i"
   ]
  },
  {
   "cell_type": "code",
   "execution_count": 32,
   "metadata": {},
   "outputs": [
    {
     "data": {
      "text/html": [
       "<div>\n",
       "<style scoped>\n",
       "    .dataframe tbody tr th:only-of-type {\n",
       "        vertical-align: middle;\n",
       "    }\n",
       "\n",
       "    .dataframe tbody tr th {\n",
       "        vertical-align: top;\n",
       "    }\n",
       "\n",
       "    .dataframe thead th {\n",
       "        text-align: right;\n",
       "    }\n",
       "</style>\n",
       "<table border=\"1\" class=\"dataframe\">\n",
       "  <thead>\n",
       "    <tr style=\"text-align: right;\">\n",
       "      <th></th>\n",
       "      <th>userId</th>\n",
       "      <th>movieId</th>\n",
       "      <th>rating</th>\n",
       "      <th>prediction</th>\n",
       "    </tr>\n",
       "  </thead>\n",
       "  <tbody>\n",
       "    <tr>\n",
       "      <th>80352</th>\n",
       "      <td>547</td>\n",
       "      <td>55247</td>\n",
       "      <td>5.0</td>\n",
       "      <td>0.108135</td>\n",
       "    </tr>\n",
       "    <tr>\n",
       "      <th>79112</th>\n",
       "      <td>547</td>\n",
       "      <td>2797</td>\n",
       "      <td>5.0</td>\n",
       "      <td>2.258228</td>\n",
       "    </tr>\n",
       "    <tr>\n",
       "      <th>78757</th>\n",
       "      <td>547</td>\n",
       "      <td>1265</td>\n",
       "      <td>5.0</td>\n",
       "      <td>2.916521</td>\n",
       "    </tr>\n",
       "    <tr>\n",
       "      <th>78725</th>\n",
       "      <td>547</td>\n",
       "      <td>1219</td>\n",
       "      <td>5.0</td>\n",
       "      <td>3.415835</td>\n",
       "    </tr>\n",
       "    <tr>\n",
       "      <th>79234</th>\n",
       "      <td>547</td>\n",
       "      <td>3253</td>\n",
       "      <td>5.0</td>\n",
       "      <td>1.602545</td>\n",
       "    </tr>\n",
       "  </tbody>\n",
       "</table>\n",
       "</div>"
      ],
      "text/plain": [
       "       userId  movieId  rating  prediction\n",
       "80352     547    55247     5.0    0.108135\n",
       "79112     547     2797     5.0    2.258228\n",
       "78757     547     1265     5.0    2.916521\n",
       "78725     547     1219     5.0    3.415835\n",
       "79234     547     3253     5.0    1.602545"
      ]
     },
     "execution_count": 32,
     "metadata": {},
     "output_type": "execute_result"
    }
   ],
   "source": [
    "one_user= test.loc[(test['userId'] == user_choice)].sort_values('rating', \n",
    "                      inplace=False, \n",
    "                      ascending=False)\n",
    "one_user.head()"
   ]
  },
  {
   "cell_type": "markdown",
   "metadata": {},
   "source": [
    "### Recall and Precision"
   ]
  },
  {
   "cell_type": "code",
   "execution_count": 33,
   "metadata": {},
   "outputs": [
    {
     "data": {
      "text/plain": [
       "(454, 40)"
      ]
     },
     "execution_count": 33,
     "metadata": {},
     "output_type": "execute_result"
    }
   ],
   "source": [
    "relevance_threshold = 2\n",
    "recommended_movies = set(one_user.loc[(one_user['prediction'] >= relevance_threshold)]['movieId'].tolist())\n",
    "relavent_movies = set(one_user.loc[(one_user['rating'] >= relevance_threshold)]['movieId'].tolist())\n",
    "len(relavent_movies), len(recommended_movies)"
   ]
  },
  {
   "cell_type": "code",
   "execution_count": 34,
   "metadata": {},
   "outputs": [],
   "source": [
    "recommended_movies_intersection_relavant_movies = [i for i in recommended_movies if i in relavent_movies]\n",
    "recommended_movies_intersection_relavant_movies;"
   ]
  },
  {
   "cell_type": "code",
   "execution_count": 35,
   "metadata": {},
   "outputs": [
    {
     "data": {
      "text/plain": [
       "(40, 39, 454)"
      ]
     },
     "execution_count": 35,
     "metadata": {},
     "output_type": "execute_result"
    }
   ],
   "source": [
    "len(recommended_movies), len(recommended_movies_intersection_relavant_movies), len(relavent_movies)"
   ]
  },
  {
   "cell_type": "code",
   "execution_count": 36,
   "metadata": {},
   "outputs": [],
   "source": [
    "recall = len(recommended_movies_intersection_relavant_movies)/len(relavent_movies)\n",
    "precision = len(recommended_movies_intersection_relavant_movies)/len(recommended_movies)"
   ]
  },
  {
   "cell_type": "code",
   "execution_count": 37,
   "metadata": {},
   "outputs": [
    {
     "data": {
      "text/plain": [
       "(0.975, 0.08590308370044053)"
      ]
     },
     "execution_count": 37,
     "metadata": {},
     "output_type": "execute_result"
    }
   ],
   "source": [
    "precision, recall"
   ]
  },
  {
   "cell_type": "code",
   "execution_count": 38,
   "metadata": {},
   "outputs": [
    {
     "data": {
      "text/plain": [
       "0.15789473684210528"
      ]
     },
     "execution_count": 38,
     "metadata": {},
     "output_type": "execute_result"
    }
   ],
   "source": [
    "f_score = 2*precision*recall/(precision+recall)\n",
    "f_score"
   ]
  },
  {
   "cell_type": "markdown",
   "metadata": {},
   "source": [
    "### Recall@k and Precision@k\n",
    "- recall and precision on top k predictions"
   ]
  },
  {
   "cell_type": "code",
   "execution_count": 46,
   "metadata": {},
   "outputs": [
    {
     "data": {
      "text/html": [
       "<div>\n",
       "<style scoped>\n",
       "    .dataframe tbody tr th:only-of-type {\n",
       "        vertical-align: middle;\n",
       "    }\n",
       "\n",
       "    .dataframe tbody tr th {\n",
       "        vertical-align: top;\n",
       "    }\n",
       "\n",
       "    .dataframe thead th {\n",
       "        text-align: right;\n",
       "    }\n",
       "</style>\n",
       "<table border=\"1\" class=\"dataframe\">\n",
       "  <thead>\n",
       "    <tr style=\"text-align: right;\">\n",
       "      <th></th>\n",
       "      <th>userId</th>\n",
       "      <th>movieId</th>\n",
       "      <th>rating</th>\n",
       "      <th>prediction</th>\n",
       "    </tr>\n",
       "  </thead>\n",
       "  <tbody>\n",
       "    <tr>\n",
       "      <th>78630</th>\n",
       "      <td>547</td>\n",
       "      <td>953</td>\n",
       "      <td>5.0</td>\n",
       "      <td>3.674033</td>\n",
       "    </tr>\n",
       "    <tr>\n",
       "      <th>78725</th>\n",
       "      <td>547</td>\n",
       "      <td>1219</td>\n",
       "      <td>5.0</td>\n",
       "      <td>3.415835</td>\n",
       "    </tr>\n",
       "    <tr>\n",
       "      <th>78608</th>\n",
       "      <td>547</td>\n",
       "      <td>920</td>\n",
       "      <td>5.0</td>\n",
       "      <td>3.183452</td>\n",
       "    </tr>\n",
       "    <tr>\n",
       "      <th>78920</th>\n",
       "      <td>547</td>\n",
       "      <td>1997</td>\n",
       "      <td>3.0</td>\n",
       "      <td>3.122419</td>\n",
       "    </tr>\n",
       "    <tr>\n",
       "      <th>79226</th>\n",
       "      <td>547</td>\n",
       "      <td>3201</td>\n",
       "      <td>3.0</td>\n",
       "      <td>3.063674</td>\n",
       "    </tr>\n",
       "  </tbody>\n",
       "</table>\n",
       "</div>"
      ],
      "text/plain": [
       "       userId  movieId  rating  prediction\n",
       "78630     547      953     5.0    3.674033\n",
       "78725     547     1219     5.0    3.415835\n",
       "78608     547      920     5.0    3.183452\n",
       "78920     547     1997     3.0    3.122419\n",
       "79226     547     3201     3.0    3.063674"
      ]
     },
     "execution_count": 46,
     "metadata": {},
     "output_type": "execute_result"
    }
   ],
   "source": [
    "k=18\n",
    "top_k_predictions_df = one_user.sort_values('prediction', ascending=False)[:k]\n",
    "top_k_predictions_df.head()"
   ]
  },
  {
   "cell_type": "code",
   "execution_count": 47,
   "metadata": {},
   "outputs": [],
   "source": [
    "relevance_threshold=3.5\n",
    "top_k_movies_recommended = set(top_k_predictions_df.loc[(top_k_predictions_df['prediction'] >= relevance_threshold)]['movieId'].tolist())\n",
    "top_k_movies_relevant = set(top_k_predictions_df.loc[(top_k_predictions_df['rating'] >= relevance_threshold)]['movieId'].tolist())\n",
    "# top_k_predictions_df['rating']"
   ]
  },
  {
   "cell_type": "code",
   "execution_count": 48,
   "metadata": {},
   "outputs": [
    {
     "data": {
      "text/plain": [
       "[953]"
      ]
     },
     "execution_count": 48,
     "metadata": {},
     "output_type": "execute_result"
    }
   ],
   "source": [
    "recommended_movies_intersection_relavant_movies = [i for i in top_k_movies_recommended\n",
    "                                                   if i in top_k_movies_relevant]\n",
    "recommended_movies_intersection_relavant_movies"
   ]
  },
  {
   "cell_type": "code",
   "execution_count": 49,
   "metadata": {},
   "outputs": [
    {
     "data": {
      "text/plain": [
       "(1, 1, 13)"
      ]
     },
     "execution_count": 49,
     "metadata": {},
     "output_type": "execute_result"
    }
   ],
   "source": [
    "len(top_k_movies_recommended), len(recommended_movies_intersection_relavant_movies), len(top_k_movies_relevant)"
   ]
  },
  {
   "cell_type": "code",
   "execution_count": 55,
   "metadata": {},
   "outputs": [],
   "source": [
    "if len(top_k_movies_relevant)!=0:\n",
    "    recall = len(recommended_movies_intersection_relavant_movies)/len(top_k_movies_relevant)\n",
    "else:\n",
    "    recall = 1\n",
    "if len(top_k_movies_recommended)!=0:\n",
    "    precision = len(recommended_movies_intersection_relavant_movies)/len(top_k_movies_recommended)\n",
    "else:\n",
    "    precision = 1"
   ]
  },
  {
   "cell_type": "code",
   "execution_count": 56,
   "metadata": {},
   "outputs": [
    {
     "data": {
      "text/plain": [
       "(1.0, 0.07692307692307693)"
      ]
     },
     "execution_count": 56,
     "metadata": {},
     "output_type": "execute_result"
    }
   ],
   "source": [
    "precision, recall"
   ]
  },
  {
   "cell_type": "code",
   "execution_count": 57,
   "metadata": {},
   "outputs": [
    {
     "data": {
      "text/plain": [
       "0.14285714285714288"
      ]
     },
     "execution_count": 57,
     "metadata": {},
     "output_type": "execute_result"
    }
   ],
   "source": [
    "f_score = 2*precision*recall/(precision+recall)\n",
    "f_score"
   ]
  }
 ],
 "metadata": {
  "kernelspec": {
   "display_name": "Python 3",
   "language": "python",
   "name": "python3"
  },
  "language_info": {
   "codemirror_mode": {
    "name": "ipython",
    "version": 3
   },
   "file_extension": ".py",
   "mimetype": "text/x-python",
   "name": "python",
   "nbconvert_exporter": "python",
   "pygments_lexer": "ipython3",
   "version": "3.8.5"
  }
 },
 "nbformat": 4,
 "nbformat_minor": 4
}
