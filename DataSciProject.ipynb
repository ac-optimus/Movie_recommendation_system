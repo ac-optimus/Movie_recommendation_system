{
 "cells": [
  {
   "cell_type": "code",
   "execution_count": 1,
   "metadata": {
    "id": "QDSS9bCC0Hrh"
   },
   "outputs": [],
   "source": [
    "import numpy as np\n",
    "import pandas as pd\n",
    "import seaborn as sns\n",
    "sns.set_style(\"white\")\n",
    "\n",
    "import matplotlib\n",
    "import matplotlib.pyplot as plt\n",
    "\n",
    "%matplotlib inline\n"
   ]
  },
  {
   "cell_type": "markdown",
   "metadata": {
    "id": "RmlFogBD-TVM"
   },
   "source": [
    "#Simple Weighted"
   ]
  },
  {
   "cell_type": "code",
   "execution_count": 2,
   "metadata": {
    "colab": {
     "base_uri": "https://localhost:8080/"
    },
    "id": "nWnFDIYc046e",
    "outputId": "8bde8b42-c312-4d27-a1b9-0b252c5ec604"
   },
   "outputs": [
    {
     "name": "stderr",
     "output_type": "stream",
     "text": [
      "/home/ac-optimus/anaconda3/lib/python3.8/site-packages/IPython/core/interactiveshell.py:3146: DtypeWarning: Columns (10) have mixed types.Specify dtype option on import or set low_memory=False.\n",
      "  has_raised = await self.run_ast_nodes(code_ast.body, cell_name,\n"
     ]
    },
    {
     "name": "stdout",
     "output_type": "stream",
     "text": [
      "<class 'pandas.core.frame.DataFrame'>\n",
      "RangeIndex: 45466 entries, 0 to 45465\n",
      "Data columns (total 24 columns):\n",
      " #   Column                 Non-Null Count  Dtype  \n",
      "---  ------                 --------------  -----  \n",
      " 0   adult                  45466 non-null  object \n",
      " 1   belongs_to_collection  4494 non-null   object \n",
      " 2   budget                 45466 non-null  object \n",
      " 3   genres                 45466 non-null  object \n",
      " 4   homepage               7782 non-null   object \n",
      " 5   id                     45466 non-null  object \n",
      " 6   imdb_id                45449 non-null  object \n",
      " 7   original_language      45455 non-null  object \n",
      " 8   original_title         45466 non-null  object \n",
      " 9   overview               44512 non-null  object \n",
      " 10  popularity             45461 non-null  object \n",
      " 11  poster_path            45080 non-null  object \n",
      " 12  production_companies   45463 non-null  object \n",
      " 13  production_countries   45463 non-null  object \n",
      " 14  release_date           45379 non-null  object \n",
      " 15  revenue                45460 non-null  float64\n",
      " 16  runtime                45203 non-null  float64\n",
      " 17  spoken_languages       45460 non-null  object \n",
      " 18  status                 45379 non-null  object \n",
      " 19  tagline                20412 non-null  object \n",
      " 20  title                  45460 non-null  object \n",
      " 21  video                  45460 non-null  object \n",
      " 22  vote_average           45460 non-null  float64\n",
      " 23  vote_count             45460 non-null  float64\n",
      "dtypes: float64(4), object(20)\n",
      "memory usage: 8.3+ MB\n"
     ]
    }
   ],
   "source": [
    "#Importing \"The Movies Dataset\" while checking and replacing for null values with np.nan\n",
    "missing_value = [\"N/a\", \"na\", \"nan\", np.nan]\n",
    "the_movies_df = pd.read_csv(\"../recommendation_sys/movies_metadata.csv\", na_values = missing_value)\n",
    "the_movies_df.head()\n",
    "the_movies_df.isnull().sum()\n",
    "the_movies_df.shape\n",
    "the_movies_df.info()"
   ]
  },
  {
   "cell_type": "code",
   "execution_count": 3,
   "metadata": {
    "colab": {
     "base_uri": "https://localhost:8080/"
    },
    "id": "SBww67zQ-XSA",
    "outputId": "9f7b6c1c-adee-4b5b-8c7b-af04f95c2c50"
   },
   "outputs": [
    {
     "name": "stdout",
     "output_type": "stream",
     "text": [
      "<class 'pandas.core.frame.DataFrame'>\n",
      "Int64Index: 45460 entries, 0 to 45465\n",
      "Data columns (total 24 columns):\n",
      " #   Column                 Non-Null Count  Dtype  \n",
      "---  ------                 --------------  -----  \n",
      " 0   adult                  45460 non-null  object \n",
      " 1   belongs_to_collection  4490 non-null   object \n",
      " 2   budget                 45460 non-null  object \n",
      " 3   genres                 45460 non-null  object \n",
      " 4   homepage               7778 non-null   object \n",
      " 5   id                     45460 non-null  object \n",
      " 6   imdb_id                45443 non-null  object \n",
      " 7   original_language      45449 non-null  object \n",
      " 8   original_title         45460 non-null  object \n",
      " 9   overview               44506 non-null  object \n",
      " 10  popularity             45460 non-null  object \n",
      " 11  poster_path            45077 non-null  object \n",
      " 12  production_companies   45460 non-null  object \n",
      " 13  production_countries   45460 non-null  object \n",
      " 14  release_date           45376 non-null  object \n",
      " 15  revenue                45460 non-null  float64\n",
      " 16  runtime                45203 non-null  float64\n",
      " 17  spoken_languages       45460 non-null  object \n",
      " 18  status                 45379 non-null  object \n",
      " 19  tagline                20412 non-null  object \n",
      " 20  title                  45460 non-null  object \n",
      " 21  video                  45460 non-null  object \n",
      " 22  vote_average           45460 non-null  float64\n",
      " 23  vote_count             45460 non-null  float64\n",
      "dtypes: float64(4), object(20)\n",
      "memory usage: 8.7+ MB\n"
     ]
    }
   ],
   "source": [
    "#We only need the \"id\", \"popularity\", \"title\", \"vote_average\", \"vote_count\" columns\n",
    "#Of the 45466 entries, \"title\" has 45460 non-null entries, so we'll drop the rows which have null entry for \"title\" \n",
    "the_movies_df = the_movies_df.dropna(axis=0, subset=['title'])\n",
    "the_movies_df.info()"
   ]
  },
  {
   "cell_type": "code",
   "execution_count": 4,
   "metadata": {
    "colab": {
     "base_uri": "https://localhost:8080/"
    },
    "id": "wBvDVhiW1Cq_",
    "outputId": "98d99e5a-10f1-4dab-aa73-67dd294ef516"
   },
   "outputs": [
    {
     "name": "stdout",
     "output_type": "stream",
     "text": [
      "<class 'pandas.core.frame.DataFrame'>\n",
      "Int64Index: 45460 entries, 0 to 45465\n",
      "Data columns (total 5 columns):\n",
      " #   Column        Non-Null Count  Dtype  \n",
      "---  ------        --------------  -----  \n",
      " 0   id            45460 non-null  object \n",
      " 1   popularity    45460 non-null  object \n",
      " 2   title         45460 non-null  object \n",
      " 3   vote_average  45460 non-null  float64\n",
      " 4   vote_count    45460 non-null  float64\n",
      "dtypes: float64(2), object(3)\n",
      "memory usage: 2.1+ MB\n"
     ]
    }
   ],
   "source": [
    "#Cleaning the \"the_movies_df\"\n",
    "the_movies_df = the_movies_df.drop(columns = ['adult', 'belongs_to_collection', 'budget', 'genres', 'homepage', 'imdb_id', 'original_language', 'original_title', 'overview', 'poster_path', 'production_companies', 'production_countries', 'release_date', 'revenue', 'runtime', 'spoken_languages', 'status', 'tagline', 'video'])\n",
    "the_movies_df.info()"
   ]
  },
  {
   "cell_type": "code",
   "execution_count": 5,
   "metadata": {
    "colab": {
     "base_uri": "https://localhost:8080/"
    },
    "id": "kF5ACl0OsgNT",
    "outputId": "bbdb46bf-87c0-4951-c1fb-d146ff738b6f"
   },
   "outputs": [
    {
     "name": "stdout",
     "output_type": "stream",
     "text": [
      "<class 'pandas.core.frame.DataFrame'>\n",
      "Int64Index: 45460 entries, 0 to 45465\n",
      "Data columns (total 5 columns):\n",
      " #   Column        Non-Null Count  Dtype  \n",
      "---  ------        --------------  -----  \n",
      " 0   id            45460 non-null  int64  \n",
      " 1   popularity    45460 non-null  float64\n",
      " 2   title         45460 non-null  object \n",
      " 3   vote_average  45460 non-null  float64\n",
      " 4   vote_count    45460 non-null  float64\n",
      "dtypes: float64(3), int64(1), object(1)\n",
      "memory usage: 2.1+ MB\n"
     ]
    }
   ],
   "source": [
    "#Converting popularity to float64\n",
    "the_movies_df[\"popularity\"] = pd.to_numeric(the_movies_df[\"popularity\"])\n",
    "the_movies_df[\"id\"] = pd.to_numeric(the_movies_df[\"id\"])\n",
    "\n",
    "the_movies_df.info()"
   ]
  },
  {
   "cell_type": "code",
   "execution_count": 6,
   "metadata": {
    "colab": {
     "base_uri": "https://localhost:8080/",
     "height": 204
    },
    "id": "5CY1ZsYN4VRh",
    "outputId": "24e9723f-2c85-48cd-84f7-a5cfd96020cd"
   },
   "outputs": [
    {
     "data": {
      "text/html": [
       "<div>\n",
       "<style scoped>\n",
       "    .dataframe tbody tr th:only-of-type {\n",
       "        vertical-align: middle;\n",
       "    }\n",
       "\n",
       "    .dataframe tbody tr th {\n",
       "        vertical-align: top;\n",
       "    }\n",
       "\n",
       "    .dataframe thead th {\n",
       "        text-align: right;\n",
       "    }\n",
       "</style>\n",
       "<table border=\"1\" class=\"dataframe\">\n",
       "  <thead>\n",
       "    <tr style=\"text-align: right;\">\n",
       "      <th></th>\n",
       "      <th>id</th>\n",
       "      <th>title</th>\n",
       "      <th>vote_average</th>\n",
       "      <th>vote_count</th>\n",
       "      <th>popularity</th>\n",
       "    </tr>\n",
       "  </thead>\n",
       "  <tbody>\n",
       "    <tr>\n",
       "      <th>0</th>\n",
       "      <td>862</td>\n",
       "      <td>Toy Story</td>\n",
       "      <td>7.7</td>\n",
       "      <td>5415.0</td>\n",
       "      <td>21.946943</td>\n",
       "    </tr>\n",
       "    <tr>\n",
       "      <th>1</th>\n",
       "      <td>8844</td>\n",
       "      <td>Jumanji</td>\n",
       "      <td>6.9</td>\n",
       "      <td>2413.0</td>\n",
       "      <td>17.015539</td>\n",
       "    </tr>\n",
       "    <tr>\n",
       "      <th>2</th>\n",
       "      <td>15602</td>\n",
       "      <td>Grumpier Old Men</td>\n",
       "      <td>6.5</td>\n",
       "      <td>92.0</td>\n",
       "      <td>11.712900</td>\n",
       "    </tr>\n",
       "    <tr>\n",
       "      <th>3</th>\n",
       "      <td>31357</td>\n",
       "      <td>Waiting to Exhale</td>\n",
       "      <td>6.1</td>\n",
       "      <td>34.0</td>\n",
       "      <td>3.859495</td>\n",
       "    </tr>\n",
       "    <tr>\n",
       "      <th>4</th>\n",
       "      <td>11862</td>\n",
       "      <td>Father of the Bride Part II</td>\n",
       "      <td>5.7</td>\n",
       "      <td>173.0</td>\n",
       "      <td>8.387519</td>\n",
       "    </tr>\n",
       "  </tbody>\n",
       "</table>\n",
       "</div>"
      ],
      "text/plain": [
       "      id                        title  vote_average  vote_count  popularity\n",
       "0    862                    Toy Story           7.7      5415.0   21.946943\n",
       "1   8844                      Jumanji           6.9      2413.0   17.015539\n",
       "2  15602             Grumpier Old Men           6.5        92.0   11.712900\n",
       "3  31357            Waiting to Exhale           6.1        34.0    3.859495\n",
       "4  11862  Father of the Bride Part II           5.7       173.0    8.387519"
      ]
     },
     "execution_count": 6,
     "metadata": {},
     "output_type": "execute_result"
    }
   ],
   "source": [
    "#Reordering the columns of \"the_movies_df\" \n",
    "the_movies_df = the_movies_df.reindex(columns=['id', 'title', 'vote_average', 'vote_count', 'popularity'])\n",
    "the_movies_df.head()"
   ]
  },
  {
   "cell_type": "code",
   "execution_count": 7,
   "metadata": {
    "colab": {
     "base_uri": "https://localhost:8080/",
     "height": 204
    },
    "id": "5_VRmhKk4Zb4",
    "outputId": "594db666-72de-4820-d9d1-b028e1e24200"
   },
   "outputs": [
    {
     "data": {
      "text/html": [
       "<div>\n",
       "<style scoped>\n",
       "    .dataframe tbody tr th:only-of-type {\n",
       "        vertical-align: middle;\n",
       "    }\n",
       "\n",
       "    .dataframe tbody tr th {\n",
       "        vertical-align: top;\n",
       "    }\n",
       "\n",
       "    .dataframe thead th {\n",
       "        text-align: right;\n",
       "    }\n",
       "</style>\n",
       "<table border=\"1\" class=\"dataframe\">\n",
       "  <thead>\n",
       "    <tr style=\"text-align: right;\">\n",
       "      <th></th>\n",
       "      <th>id</th>\n",
       "      <th>title</th>\n",
       "      <th>vote_average</th>\n",
       "      <th>vote_count</th>\n",
       "      <th>popularity</th>\n",
       "    </tr>\n",
       "  </thead>\n",
       "  <tbody>\n",
       "    <tr>\n",
       "      <th>0</th>\n",
       "      <td>862</td>\n",
       "      <td>Toy Story</td>\n",
       "      <td>3.85</td>\n",
       "      <td>5415.0</td>\n",
       "      <td>21.946943</td>\n",
       "    </tr>\n",
       "    <tr>\n",
       "      <th>1</th>\n",
       "      <td>8844</td>\n",
       "      <td>Jumanji</td>\n",
       "      <td>3.45</td>\n",
       "      <td>2413.0</td>\n",
       "      <td>17.015539</td>\n",
       "    </tr>\n",
       "    <tr>\n",
       "      <th>2</th>\n",
       "      <td>15602</td>\n",
       "      <td>Grumpier Old Men</td>\n",
       "      <td>3.25</td>\n",
       "      <td>92.0</td>\n",
       "      <td>11.712900</td>\n",
       "    </tr>\n",
       "    <tr>\n",
       "      <th>3</th>\n",
       "      <td>31357</td>\n",
       "      <td>Waiting to Exhale</td>\n",
       "      <td>3.05</td>\n",
       "      <td>34.0</td>\n",
       "      <td>3.859495</td>\n",
       "    </tr>\n",
       "    <tr>\n",
       "      <th>4</th>\n",
       "      <td>11862</td>\n",
       "      <td>Father of the Bride Part II</td>\n",
       "      <td>2.85</td>\n",
       "      <td>173.0</td>\n",
       "      <td>8.387519</td>\n",
       "    </tr>\n",
       "  </tbody>\n",
       "</table>\n",
       "</div>"
      ],
      "text/plain": [
       "      id                        title  vote_average  vote_count  popularity\n",
       "0    862                    Toy Story          3.85      5415.0   21.946943\n",
       "1   8844                      Jumanji          3.45      2413.0   17.015539\n",
       "2  15602             Grumpier Old Men          3.25        92.0   11.712900\n",
       "3  31357            Waiting to Exhale          3.05        34.0    3.859495\n",
       "4  11862  Father of the Bride Part II          2.85       173.0    8.387519"
      ]
     },
     "execution_count": 7,
     "metadata": {},
     "output_type": "execute_result"
    }
   ],
   "source": [
    "#Normalizing the \"vote_average\" in range 0 to 5\n",
    "the_movies_df['vote_average'] = (the_movies_df['vote_average'] - the_movies_df['vote_average'].min()) / (the_movies_df['vote_average'].max() - the_movies_df['vote_average'].min())*5\n",
    "the_movies_df.head()"
   ]
  },
  {
   "cell_type": "markdown",
   "metadata": {
    "id": "OlO7EMMdlYOr"
   },
   "source": [
    "## Why weighted average?\n",
    "\n",
    "##### There can be movies which have rating = 10 but have only 1 vote, in-order to avoid the overall ranking to be influenced by such ratings, we are using IMDB's weighted rating formula"
   ]
  },
  {
   "cell_type": "markdown",
   "metadata": {
    "id": "QW1TiPSp8Pfa"
   },
   "source": [
    "##IMDB weighted rating \n",
    "####https://en.wikipedia.org/wiki/IMDb#Rankings\n",
    "\n",
    "![image.png](data:image/png;base64,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)\n",
    "\n",
    "##### Note: Need to change the where statement values"
   ]
  },
  {
   "cell_type": "code",
   "execution_count": 8,
   "metadata": {
    "id": "tkr7CoM28dt4"
   },
   "outputs": [],
   "source": [
    "#More about quantile \"https://youtu.be/IFKQLDmRK0Y\"\n",
    "R = the_movies_df['vote_average']\n",
    "v = the_movies_df['vote_count']\n",
    "m = the_movies_df['vote_count'].quantile(0.75) #number of votes below which there are 75% of dataset values \n",
    "C = the_movies_df['vote_average'].mean()"
   ]
  },
  {
   "cell_type": "code",
   "execution_count": 9,
   "metadata": {
    "colab": {
     "base_uri": "https://localhost:8080/",
     "height": 204
    },
    "id": "i0GvtRb-9E44",
    "outputId": "7f12cce7-5784-4365-ebb8-34e923213a7d"
   },
   "outputs": [
    {
     "data": {
      "text/html": [
       "<div>\n",
       "<style scoped>\n",
       "    .dataframe tbody tr th:only-of-type {\n",
       "        vertical-align: middle;\n",
       "    }\n",
       "\n",
       "    .dataframe tbody tr th {\n",
       "        vertical-align: top;\n",
       "    }\n",
       "\n",
       "    .dataframe thead th {\n",
       "        text-align: right;\n",
       "    }\n",
       "</style>\n",
       "<table border=\"1\" class=\"dataframe\">\n",
       "  <thead>\n",
       "    <tr style=\"text-align: right;\">\n",
       "      <th></th>\n",
       "      <th>id</th>\n",
       "      <th>title</th>\n",
       "      <th>vote_average</th>\n",
       "      <th>vote_count</th>\n",
       "      <th>popularity</th>\n",
       "      <th>weighted_average_rating</th>\n",
       "    </tr>\n",
       "  </thead>\n",
       "  <tbody>\n",
       "    <tr>\n",
       "      <th>0</th>\n",
       "      <td>862</td>\n",
       "      <td>Toy Story</td>\n",
       "      <td>3.85</td>\n",
       "      <td>5415.0</td>\n",
       "      <td>21.946943</td>\n",
       "      <td>3.843505</td>\n",
       "    </tr>\n",
       "    <tr>\n",
       "      <th>1</th>\n",
       "      <td>8844</td>\n",
       "      <td>Jumanji</td>\n",
       "      <td>3.45</td>\n",
       "      <td>2413.0</td>\n",
       "      <td>17.015539</td>\n",
       "      <td>3.441095</td>\n",
       "    </tr>\n",
       "    <tr>\n",
       "      <th>2</th>\n",
       "      <td>15602</td>\n",
       "      <td>Grumpier Old Men</td>\n",
       "      <td>3.25</td>\n",
       "      <td>92.0</td>\n",
       "      <td>11.712900</td>\n",
       "      <td>3.131028</td>\n",
       "    </tr>\n",
       "    <tr>\n",
       "      <th>3</th>\n",
       "      <td>31357</td>\n",
       "      <td>Waiting to Exhale</td>\n",
       "      <td>3.05</td>\n",
       "      <td>34.0</td>\n",
       "      <td>3.859495</td>\n",
       "      <td>2.929552</td>\n",
       "    </tr>\n",
       "    <tr>\n",
       "      <th>4</th>\n",
       "      <td>11862</td>\n",
       "      <td>Father of the Bride Part II</td>\n",
       "      <td>2.85</td>\n",
       "      <td>173.0</td>\n",
       "      <td>8.387519</td>\n",
       "      <td>2.843283</td>\n",
       "    </tr>\n",
       "  </tbody>\n",
       "</table>\n",
       "</div>"
      ],
      "text/plain": [
       "      id                        title  vote_average  vote_count  popularity  \\\n",
       "0    862                    Toy Story          3.85      5415.0   21.946943   \n",
       "1   8844                      Jumanji          3.45      2413.0   17.015539   \n",
       "2  15602             Grumpier Old Men          3.25        92.0   11.712900   \n",
       "3  31357            Waiting to Exhale          3.05        34.0    3.859495   \n",
       "4  11862  Father of the Bride Part II          2.85       173.0    8.387519   \n",
       "\n",
       "   weighted_average_rating  \n",
       "0                 3.843505  \n",
       "1                 3.441095  \n",
       "2                 3.131028  \n",
       "3                 2.929552  \n",
       "4                 2.843283  "
      ]
     },
     "execution_count": 9,
     "metadata": {},
     "output_type": "execute_result"
    }
   ],
   "source": [
    "the_movies_df['weighted_average_rating'] = (R*v + C*m)/(v+m)\n",
    "the_movies_df.head()"
   ]
  },
  {
   "cell_type": "code",
   "execution_count": 10,
   "metadata": {
    "colab": {
     "base_uri": "https://localhost:8080/",
     "height": 359
    },
    "id": "-UBr5yH89awG",
    "outputId": "8b045b89-1368-4715-a6ba-59c874cd5e3b"
   },
   "outputs": [
    {
     "data": {
      "text/html": [
       "<div>\n",
       "<style scoped>\n",
       "    .dataframe tbody tr th:only-of-type {\n",
       "        vertical-align: middle;\n",
       "    }\n",
       "\n",
       "    .dataframe tbody tr th {\n",
       "        vertical-align: top;\n",
       "    }\n",
       "\n",
       "    .dataframe thead th {\n",
       "        text-align: right;\n",
       "    }\n",
       "</style>\n",
       "<table border=\"1\" class=\"dataframe\">\n",
       "  <thead>\n",
       "    <tr style=\"text-align: right;\">\n",
       "      <th></th>\n",
       "      <th>id</th>\n",
       "      <th>title</th>\n",
       "      <th>vote_average</th>\n",
       "      <th>vote_count</th>\n",
       "      <th>popularity</th>\n",
       "      <th>weighted_average_rating</th>\n",
       "    </tr>\n",
       "  </thead>\n",
       "  <tbody>\n",
       "    <tr>\n",
       "      <th>10309</th>\n",
       "      <td>19404</td>\n",
       "      <td>Dilwale Dulhania Le Jayenge</td>\n",
       "      <td>4.55</td>\n",
       "      <td>661.0</td>\n",
       "      <td>34.457024</td>\n",
       "      <td>4.464834</td>\n",
       "    </tr>\n",
       "    <tr>\n",
       "      <th>314</th>\n",
       "      <td>278</td>\n",
       "      <td>The Shawshank Redemption</td>\n",
       "      <td>4.25</td>\n",
       "      <td>8358.0</td>\n",
       "      <td>51.645403</td>\n",
       "      <td>4.244162</td>\n",
       "    </tr>\n",
       "    <tr>\n",
       "      <th>834</th>\n",
       "      <td>238</td>\n",
       "      <td>The Godfather</td>\n",
       "      <td>4.25</td>\n",
       "      <td>6024.0</td>\n",
       "      <td>41.109264</td>\n",
       "      <td>4.241913</td>\n",
       "    </tr>\n",
       "    <tr>\n",
       "      <th>40251</th>\n",
       "      <td>372058</td>\n",
       "      <td>Your Name.</td>\n",
       "      <td>4.25</td>\n",
       "      <td>1030.0</td>\n",
       "      <td>34.461252</td>\n",
       "      <td>4.203956</td>\n",
       "    </tr>\n",
       "    <tr>\n",
       "      <th>12481</th>\n",
       "      <td>155</td>\n",
       "      <td>The Dark Knight</td>\n",
       "      <td>4.15</td>\n",
       "      <td>12269.0</td>\n",
       "      <td>123.167259</td>\n",
       "      <td>4.146294</td>\n",
       "    </tr>\n",
       "    <tr>\n",
       "      <th>2843</th>\n",
       "      <td>550</td>\n",
       "      <td>Fight Club</td>\n",
       "      <td>4.15</td>\n",
       "      <td>9678.0</td>\n",
       "      <td>63.869599</td>\n",
       "      <td>4.145306</td>\n",
       "    </tr>\n",
       "    <tr>\n",
       "      <th>292</th>\n",
       "      <td>680</td>\n",
       "      <td>Pulp Fiction</td>\n",
       "      <td>4.15</td>\n",
       "      <td>8670.0</td>\n",
       "      <td>140.950236</td>\n",
       "      <td>4.144762</td>\n",
       "    </tr>\n",
       "    <tr>\n",
       "      <th>39085</th>\n",
       "      <td>192040</td>\n",
       "      <td>Planet Earth</td>\n",
       "      <td>4.40</td>\n",
       "      <td>176.0</td>\n",
       "      <td>4.501137</td>\n",
       "      <td>4.142426</td>\n",
       "    </tr>\n",
       "    <tr>\n",
       "      <th>522</th>\n",
       "      <td>424</td>\n",
       "      <td>Schindler's List</td>\n",
       "      <td>4.15</td>\n",
       "      <td>4436.0</td>\n",
       "      <td>41.725123</td>\n",
       "      <td>4.139801</td>\n",
       "    </tr>\n",
       "    <tr>\n",
       "      <th>23673</th>\n",
       "      <td>244786</td>\n",
       "      <td>Whiplash</td>\n",
       "      <td>4.15</td>\n",
       "      <td>4376.0</td>\n",
       "      <td>64.299990</td>\n",
       "      <td>4.139662</td>\n",
       "    </tr>\n",
       "  </tbody>\n",
       "</table>\n",
       "</div>"
      ],
      "text/plain": [
       "           id                        title  vote_average  vote_count  \\\n",
       "10309   19404  Dilwale Dulhania Le Jayenge          4.55       661.0   \n",
       "314       278     The Shawshank Redemption          4.25      8358.0   \n",
       "834       238                The Godfather          4.25      6024.0   \n",
       "40251  372058                   Your Name.          4.25      1030.0   \n",
       "12481     155              The Dark Knight          4.15     12269.0   \n",
       "2843      550                   Fight Club          4.15      9678.0   \n",
       "292       680                 Pulp Fiction          4.15      8670.0   \n",
       "39085  192040                 Planet Earth          4.40       176.0   \n",
       "522       424             Schindler's List          4.15      4436.0   \n",
       "23673  244786                     Whiplash          4.15      4376.0   \n",
       "\n",
       "       popularity  weighted_average_rating  \n",
       "10309   34.457024                 4.464834  \n",
       "314     51.645403                 4.244162  \n",
       "834     41.109264                 4.241913  \n",
       "40251   34.461252                 4.203956  \n",
       "12481  123.167259                 4.146294  \n",
       "2843    63.869599                 4.145306  \n",
       "292    140.950236                 4.144762  \n",
       "39085    4.501137                 4.142426  \n",
       "522     41.725123                 4.139801  \n",
       "23673   64.299990                 4.139662  "
      ]
     },
     "execution_count": 10,
     "metadata": {},
     "output_type": "execute_result"
    }
   ],
   "source": [
    "the_movies_df_weighted_average_rating = the_movies_df.sort_values('weighted_average_rating', ascending = False)\n",
    "the_movies_df_weighted_average_rating.head(10)"
   ]
  },
  {
   "cell_type": "markdown",
   "metadata": {
    "id": "4UV9Tp1Qn6uR"
   },
   "source": [
    "#Weighted average + popularity"
   ]
  },
  {
   "cell_type": "markdown",
   "metadata": {
    "id": "qPpsNYIOmSS6"
   },
   "source": [
    "## Why include popularity?\n",
    "##### There can be popular movies for which not many people have voted, in-order to account for that, we'll give 50% weightage to popularity and 50% to the weighted_average_rating"
   ]
  },
  {
   "cell_type": "code",
   "execution_count": 11,
   "metadata": {
    "colab": {
     "base_uri": "https://localhost:8080/",
     "height": 204
    },
    "id": "gvG5Ksh5oQ6W",
    "outputId": "1905a03f-5f14-48ae-ae32-e866d03c8429"
   },
   "outputs": [
    {
     "data": {
      "text/html": [
       "<div>\n",
       "<style scoped>\n",
       "    .dataframe tbody tr th:only-of-type {\n",
       "        vertical-align: middle;\n",
       "    }\n",
       "\n",
       "    .dataframe tbody tr th {\n",
       "        vertical-align: top;\n",
       "    }\n",
       "\n",
       "    .dataframe thead th {\n",
       "        text-align: right;\n",
       "    }\n",
       "</style>\n",
       "<table border=\"1\" class=\"dataframe\">\n",
       "  <thead>\n",
       "    <tr style=\"text-align: right;\">\n",
       "      <th></th>\n",
       "      <th>id</th>\n",
       "      <th>title</th>\n",
       "      <th>vote_average</th>\n",
       "      <th>vote_count</th>\n",
       "      <th>popularity</th>\n",
       "      <th>weighted_average_rating</th>\n",
       "    </tr>\n",
       "  </thead>\n",
       "  <tbody>\n",
       "    <tr>\n",
       "      <th>0</th>\n",
       "      <td>862</td>\n",
       "      <td>Toy Story</td>\n",
       "      <td>3.85</td>\n",
       "      <td>5415.0</td>\n",
       "      <td>0.040087</td>\n",
       "      <td>0.818679</td>\n",
       "    </tr>\n",
       "    <tr>\n",
       "      <th>1</th>\n",
       "      <td>8844</td>\n",
       "      <td>Jumanji</td>\n",
       "      <td>3.45</td>\n",
       "      <td>2413.0</td>\n",
       "      <td>0.031079</td>\n",
       "      <td>0.701245</td>\n",
       "    </tr>\n",
       "    <tr>\n",
       "      <th>2</th>\n",
       "      <td>15602</td>\n",
       "      <td>Grumpier Old Men</td>\n",
       "      <td>3.25</td>\n",
       "      <td>92.0</td>\n",
       "      <td>0.021394</td>\n",
       "      <td>0.610759</td>\n",
       "    </tr>\n",
       "    <tr>\n",
       "      <th>3</th>\n",
       "      <td>31357</td>\n",
       "      <td>Waiting to Exhale</td>\n",
       "      <td>3.05</td>\n",
       "      <td>34.0</td>\n",
       "      <td>0.007049</td>\n",
       "      <td>0.551963</td>\n",
       "    </tr>\n",
       "    <tr>\n",
       "      <th>4</th>\n",
       "      <td>11862</td>\n",
       "      <td>Father of the Bride Part II</td>\n",
       "      <td>2.85</td>\n",
       "      <td>173.0</td>\n",
       "      <td>0.015320</td>\n",
       "      <td>0.526787</td>\n",
       "    </tr>\n",
       "  </tbody>\n",
       "</table>\n",
       "</div>"
      ],
      "text/plain": [
       "      id                        title  vote_average  vote_count  popularity  \\\n",
       "0    862                    Toy Story          3.85      5415.0    0.040087   \n",
       "1   8844                      Jumanji          3.45      2413.0    0.031079   \n",
       "2  15602             Grumpier Old Men          3.25        92.0    0.021394   \n",
       "3  31357            Waiting to Exhale          3.05        34.0    0.007049   \n",
       "4  11862  Father of the Bride Part II          2.85       173.0    0.015320   \n",
       "\n",
       "   weighted_average_rating  \n",
       "0                 0.818679  \n",
       "1                 0.701245  \n",
       "2                 0.610759  \n",
       "3                 0.551963  \n",
       "4                 0.526787  "
      ]
     },
     "execution_count": 11,
     "metadata": {},
     "output_type": "execute_result"
    }
   ],
   "source": [
    "#Normalizing the weighted_average_rating and popularity as the popularity and weighted average have different magnitude scale\n",
    "the_movies_df['weighted_average_rating'] = (the_movies_df['weighted_average_rating'] - the_movies_df['weighted_average_rating'].min()) / (the_movies_df['weighted_average_rating'].max() - the_movies_df['weighted_average_rating'].min())\n",
    "the_movies_df['popularity'] = (the_movies_df['popularity'] - the_movies_df['popularity'].min()) / (the_movies_df['popularity'].max() - the_movies_df['popularity'].min())\n",
    "the_movies_df.head()"
   ]
  },
  {
   "cell_type": "code",
   "execution_count": 12,
   "metadata": {
    "colab": {
     "base_uri": "https://localhost:8080/",
     "height": 204
    },
    "id": "xhqVkhlMoGuz",
    "outputId": "a93b93ed-9058-496e-9cb8-570f2c37c82e"
   },
   "outputs": [
    {
     "data": {
      "text/html": [
       "<div>\n",
       "<style scoped>\n",
       "    .dataframe tbody tr th:only-of-type {\n",
       "        vertical-align: middle;\n",
       "    }\n",
       "\n",
       "    .dataframe tbody tr th {\n",
       "        vertical-align: top;\n",
       "    }\n",
       "\n",
       "    .dataframe thead th {\n",
       "        text-align: right;\n",
       "    }\n",
       "</style>\n",
       "<table border=\"1\" class=\"dataframe\">\n",
       "  <thead>\n",
       "    <tr style=\"text-align: right;\">\n",
       "      <th></th>\n",
       "      <th>id</th>\n",
       "      <th>title</th>\n",
       "      <th>vote_average</th>\n",
       "      <th>vote_count</th>\n",
       "      <th>popularity</th>\n",
       "      <th>weighted_average_rating</th>\n",
       "      <th>weighted_rating_popularity</th>\n",
       "    </tr>\n",
       "  </thead>\n",
       "  <tbody>\n",
       "    <tr>\n",
       "      <th>0</th>\n",
       "      <td>862</td>\n",
       "      <td>Toy Story</td>\n",
       "      <td>3.85</td>\n",
       "      <td>5415.0</td>\n",
       "      <td>0.040087</td>\n",
       "      <td>0.818679</td>\n",
       "      <td>0.429383</td>\n",
       "    </tr>\n",
       "    <tr>\n",
       "      <th>1</th>\n",
       "      <td>8844</td>\n",
       "      <td>Jumanji</td>\n",
       "      <td>3.45</td>\n",
       "      <td>2413.0</td>\n",
       "      <td>0.031079</td>\n",
       "      <td>0.701245</td>\n",
       "      <td>0.366162</td>\n",
       "    </tr>\n",
       "    <tr>\n",
       "      <th>2</th>\n",
       "      <td>15602</td>\n",
       "      <td>Grumpier Old Men</td>\n",
       "      <td>3.25</td>\n",
       "      <td>92.0</td>\n",
       "      <td>0.021394</td>\n",
       "      <td>0.610759</td>\n",
       "      <td>0.316077</td>\n",
       "    </tr>\n",
       "    <tr>\n",
       "      <th>3</th>\n",
       "      <td>31357</td>\n",
       "      <td>Waiting to Exhale</td>\n",
       "      <td>3.05</td>\n",
       "      <td>34.0</td>\n",
       "      <td>0.007049</td>\n",
       "      <td>0.551963</td>\n",
       "      <td>0.279506</td>\n",
       "    </tr>\n",
       "    <tr>\n",
       "      <th>4</th>\n",
       "      <td>11862</td>\n",
       "      <td>Father of the Bride Part II</td>\n",
       "      <td>2.85</td>\n",
       "      <td>173.0</td>\n",
       "      <td>0.015320</td>\n",
       "      <td>0.526787</td>\n",
       "      <td>0.271054</td>\n",
       "    </tr>\n",
       "  </tbody>\n",
       "</table>\n",
       "</div>"
      ],
      "text/plain": [
       "      id                        title  vote_average  vote_count  popularity  \\\n",
       "0    862                    Toy Story          3.85      5415.0    0.040087   \n",
       "1   8844                      Jumanji          3.45      2413.0    0.031079   \n",
       "2  15602             Grumpier Old Men          3.25        92.0    0.021394   \n",
       "3  31357            Waiting to Exhale          3.05        34.0    0.007049   \n",
       "4  11862  Father of the Bride Part II          2.85       173.0    0.015320   \n",
       "\n",
       "   weighted_average_rating  weighted_rating_popularity  \n",
       "0                 0.818679                    0.429383  \n",
       "1                 0.701245                    0.366162  \n",
       "2                 0.610759                    0.316077  \n",
       "3                 0.551963                    0.279506  \n",
       "4                 0.526787                    0.271054  "
      ]
     },
     "execution_count": 12,
     "metadata": {},
     "output_type": "execute_result"
    }
   ],
   "source": [
    "the_movies_df['weighted_rating_popularity'] = (the_movies_df['weighted_average_rating']*0.5) + (the_movies_df['popularity']*0.5)\n",
    "the_movies_df.head()"
   ]
  },
  {
   "cell_type": "code",
   "execution_count": 13,
   "metadata": {
    "colab": {
     "base_uri": "https://localhost:8080/",
     "height": 359
    },
    "id": "3MXOGhKBqspF",
    "outputId": "d23fbcf6-cb68-47e2-957b-ed6c1072606d"
   },
   "outputs": [
    {
     "data": {
      "text/html": [
       "<div>\n",
       "<style scoped>\n",
       "    .dataframe tbody tr th:only-of-type {\n",
       "        vertical-align: middle;\n",
       "    }\n",
       "\n",
       "    .dataframe tbody tr th {\n",
       "        vertical-align: top;\n",
       "    }\n",
       "\n",
       "    .dataframe thead th {\n",
       "        text-align: right;\n",
       "    }\n",
       "</style>\n",
       "<table border=\"1\" class=\"dataframe\">\n",
       "  <thead>\n",
       "    <tr style=\"text-align: right;\">\n",
       "      <th></th>\n",
       "      <th>id</th>\n",
       "      <th>title</th>\n",
       "      <th>vote_average</th>\n",
       "      <th>vote_count</th>\n",
       "      <th>popularity</th>\n",
       "      <th>weighted_average_rating</th>\n",
       "      <th>weighted_rating_popularity</th>\n",
       "    </tr>\n",
       "  </thead>\n",
       "  <tbody>\n",
       "    <tr>\n",
       "      <th>30700</th>\n",
       "      <td>211672</td>\n",
       "      <td>Minions</td>\n",
       "      <td>3.20</td>\n",
       "      <td>4729.0</td>\n",
       "      <td>1.000000</td>\n",
       "      <td>0.630073</td>\n",
       "      <td>0.815036</td>\n",
       "    </tr>\n",
       "    <tr>\n",
       "      <th>33356</th>\n",
       "      <td>297762</td>\n",
       "      <td>Wonder Woman</td>\n",
       "      <td>3.60</td>\n",
       "      <td>5025.0</td>\n",
       "      <td>0.537613</td>\n",
       "      <td>0.746067</td>\n",
       "      <td>0.641840</td>\n",
       "    </tr>\n",
       "    <tr>\n",
       "      <th>24455</th>\n",
       "      <td>177572</td>\n",
       "      <td>Big Hero 6</td>\n",
       "      <td>3.90</td>\n",
       "      <td>6289.0</td>\n",
       "      <td>0.390602</td>\n",
       "      <td>0.833454</td>\n",
       "      <td>0.612028</td>\n",
       "    </tr>\n",
       "    <tr>\n",
       "      <th>42222</th>\n",
       "      <td>321612</td>\n",
       "      <td>Beauty and the Beast</td>\n",
       "      <td>3.40</td>\n",
       "      <td>5530.0</td>\n",
       "      <td>0.524675</td>\n",
       "      <td>0.688199</td>\n",
       "      <td>0.606437</td>\n",
       "    </tr>\n",
       "    <tr>\n",
       "      <th>292</th>\n",
       "      <td>680</td>\n",
       "      <td>Pulp Fiction</td>\n",
       "      <td>4.15</td>\n",
       "      <td>8670.0</td>\n",
       "      <td>0.257449</td>\n",
       "      <td>0.906594</td>\n",
       "      <td>0.582022</td>\n",
       "    </tr>\n",
       "    <tr>\n",
       "      <th>43644</th>\n",
       "      <td>339403</td>\n",
       "      <td>Baby Driver</td>\n",
       "      <td>3.60</td>\n",
       "      <td>2083.0</td>\n",
       "      <td>0.416507</td>\n",
       "      <td>0.743911</td>\n",
       "      <td>0.580209</td>\n",
       "    </tr>\n",
       "    <tr>\n",
       "      <th>26566</th>\n",
       "      <td>283995</td>\n",
       "      <td>Guardians of the Galaxy Vol. 2</td>\n",
       "      <td>3.80</td>\n",
       "      <td>4858.0</td>\n",
       "      <td>0.338511</td>\n",
       "      <td>0.803974</td>\n",
       "      <td>0.571243</td>\n",
       "    </tr>\n",
       "    <tr>\n",
       "      <th>12481</th>\n",
       "      <td>155</td>\n",
       "      <td>The Dark Knight</td>\n",
       "      <td>4.15</td>\n",
       "      <td>12269.0</td>\n",
       "      <td>0.224968</td>\n",
       "      <td>0.907042</td>\n",
       "      <td>0.566005</td>\n",
       "    </tr>\n",
       "    <tr>\n",
       "      <th>23675</th>\n",
       "      <td>210577</td>\n",
       "      <td>Gone Girl</td>\n",
       "      <td>3.95</td>\n",
       "      <td>6023.0</td>\n",
       "      <td>0.282748</td>\n",
       "      <td>0.847889</td>\n",
       "      <td>0.565318</td>\n",
       "    </tr>\n",
       "    <tr>\n",
       "      <th>26564</th>\n",
       "      <td>293660</td>\n",
       "      <td>Deadpool</td>\n",
       "      <td>3.70</td>\n",
       "      <td>11444.0</td>\n",
       "      <td>0.343132</td>\n",
       "      <td>0.776031</td>\n",
       "      <td>0.559581</td>\n",
       "    </tr>\n",
       "  </tbody>\n",
       "</table>\n",
       "</div>"
      ],
      "text/plain": [
       "           id                           title  vote_average  vote_count  \\\n",
       "30700  211672                         Minions          3.20      4729.0   \n",
       "33356  297762                    Wonder Woman          3.60      5025.0   \n",
       "24455  177572                      Big Hero 6          3.90      6289.0   \n",
       "42222  321612            Beauty and the Beast          3.40      5530.0   \n",
       "292       680                    Pulp Fiction          4.15      8670.0   \n",
       "43644  339403                     Baby Driver          3.60      2083.0   \n",
       "26566  283995  Guardians of the Galaxy Vol. 2          3.80      4858.0   \n",
       "12481     155                 The Dark Knight          4.15     12269.0   \n",
       "23675  210577                       Gone Girl          3.95      6023.0   \n",
       "26564  293660                        Deadpool          3.70     11444.0   \n",
       "\n",
       "       popularity  weighted_average_rating  weighted_rating_popularity  \n",
       "30700    1.000000                 0.630073                    0.815036  \n",
       "33356    0.537613                 0.746067                    0.641840  \n",
       "24455    0.390602                 0.833454                    0.612028  \n",
       "42222    0.524675                 0.688199                    0.606437  \n",
       "292      0.257449                 0.906594                    0.582022  \n",
       "43644    0.416507                 0.743911                    0.580209  \n",
       "26566    0.338511                 0.803974                    0.571243  \n",
       "12481    0.224968                 0.907042                    0.566005  \n",
       "23675    0.282748                 0.847889                    0.565318  \n",
       "26564    0.343132                 0.776031                    0.559581  "
      ]
     },
     "execution_count": 13,
     "metadata": {},
     "output_type": "execute_result"
    }
   ],
   "source": [
    "the_movies_df_weighted_rating_popularity = the_movies_df.sort_values('weighted_rating_popularity', ascending = False)\n",
    "the_movies_df_weighted_rating_popularity.head(10)"
   ]
  },
  {
   "cell_type": "code",
   "execution_count": 14,
   "metadata": {
    "id": "EvpPyBuUtEaU"
   },
   "outputs": [],
   "source": [
    "predict_df = the_movies_df_weighted_rating_popularity[['id','weighted_average_rating','weighted_rating_popularity']]"
   ]
  },
  {
   "cell_type": "code",
   "execution_count": 15,
   "metadata": {
    "id": "X9XpRB7DtdSV"
   },
   "outputs": [
    {
     "data": {
      "text/plain": [
       "(100000, 4)"
      ]
     },
     "execution_count": 15,
     "metadata": {},
     "output_type": "execute_result"
    }
   ],
   "source": [
    "# import the data covert that into a convenient data\n",
    "PATH= '/home/ac-optimus/data_science/recommendation_sys/ratings.csv'\n",
    "df = pd.read_csv(PATH, sep= \",\")[:100000]\n",
    "# df = pd.read_csv(PATH, sep= \",\")\n",
    "df.shape"
   ]
  },
  {
   "cell_type": "code",
   "execution_count": 16,
   "metadata": {
    "id": "udDMtoABht_p"
   },
   "outputs": [],
   "source": [
    "def error(y_hat, y):\n",
    "    # MSE\n",
    "    y_hat = np.array(y_hat)\n",
    "    y = np.array(y)\n",
    "    MSE_ = (y_hat- y)**2\n",
    "    MSE = MSE_.sum()\n",
    "    return MSE"
   ]
  },
  {
   "cell_type": "code",
   "execution_count": 17,
   "metadata": {
    "id": "xjbOlCmchu-Y"
   },
   "outputs": [
    {
     "name": "stderr",
     "output_type": "stream",
     "text": [
      "<ipython-input-17-dc6b4da3cda8>:5: SettingWithCopyWarning: \n",
      "A value is trying to be set on a copy of a slice from a DataFrame.\n",
      "Try using .loc[row_indexer,col_indexer] = value instead\n",
      "\n",
      "See the caveats in the documentation: https://pandas.pydata.org/pandas-docs/stable/user_guide/indexing.html#returning-a-view-versus-a-copy\n",
      "  train[int(num_rows*0.8):]['rating']  = train[int(num_rows*0.8):]['rating']*0\n"
     ]
    }
   ],
   "source": [
    "from sklearn.utils import shuffle\n",
    "\n",
    "num_rows = df.shape[0]\n",
    "train, test = df.copy(deep = True), df[int(num_rows*0.8):].copy(deep = True)\n",
    "train[int(num_rows*0.8):]['rating']  = train[int(num_rows*0.8):]['rating']*0\n",
    "train = shuffle(train)"
   ]
  },
  {
   "cell_type": "code",
   "execution_count": 53,
   "metadata": {},
   "outputs": [
    {
     "name": "stdout",
     "output_type": "stream",
     "text": [
      "CPU times: user 1min 15s, sys: 1.07 s, total: 1min 16s\n",
      "Wall time: 1min 17s\n"
     ]
    }
   ],
   "source": [
    "%%time\n",
    "# looking for optimal k\n",
    "y= test['rating']\n",
    "errors = {}\n",
    "y_hat = []\n",
    "misses = 0\n",
    "for i in test.index:\n",
    "    user_i, movie_j = map(int,[test.loc[i]['userId'], \n",
    "                               test.loc[i]['movieId']])\n",
    "    # make the prediction here\n",
    "    if movie_j in predict_df['id'].tolist():\n",
    "        predicted_rating = predict_df[\n",
    "                        predict_df['id']==movie_j]['weighted_average_rating'].values[0]*5\n",
    "    else:\n",
    "        misses+=1\n",
    "        predicted_rating = 0\n",
    "    y_hat.append(predicted_rating)\n",
    "#     print (predicted_rating)\n",
    "error_i = error(np.nan_to_num(np.array(y_hat)), y)        \n",
    "# errors[k]=error_i\n"
   ]
  },
  {
   "cell_type": "code",
   "execution_count": 55,
   "metadata": {},
   "outputs": [
    {
     "data": {
      "text/plain": [
       "11319"
      ]
     },
     "execution_count": 55,
     "metadata": {},
     "output_type": "execute_result"
    }
   ],
   "source": [
    "misses"
   ]
  },
  {
   "cell_type": "code",
   "execution_count": 38,
   "metadata": {},
   "outputs": [
    {
     "data": {
      "text/plain": [
       "0.6300729375791358"
      ]
     },
     "execution_count": 38,
     "metadata": {},
     "output_type": "execute_result"
    }
   ],
   "source": [
    "predict_df[predict_df['id']==211672]['weighted_average_rating'].values[0]"
   ]
  },
  {
   "cell_type": "code",
   "execution_count": 56,
   "metadata": {},
   "outputs": [
    {
     "data": {
      "text/plain": [
       "161777.1973814876"
      ]
     },
     "execution_count": 56,
     "metadata": {},
     "output_type": "execute_result"
    }
   ],
   "source": [
    "error_i"
   ]
  },
  {
   "cell_type": "code",
   "execution_count": 52,
   "metadata": {},
   "outputs": [
    {
     "data": {
      "text/html": [
       "<div>\n",
       "<style scoped>\n",
       "    .dataframe tbody tr th:only-of-type {\n",
       "        vertical-align: middle;\n",
       "    }\n",
       "\n",
       "    .dataframe tbody tr th {\n",
       "        vertical-align: top;\n",
       "    }\n",
       "\n",
       "    .dataframe thead th {\n",
       "        text-align: right;\n",
       "    }\n",
       "</style>\n",
       "<table border=\"1\" class=\"dataframe\">\n",
       "  <thead>\n",
       "    <tr style=\"text-align: right;\">\n",
       "      <th></th>\n",
       "      <th>id</th>\n",
       "      <th>weighted_average_rating</th>\n",
       "      <th>weighted_rating_popularity</th>\n",
       "    </tr>\n",
       "  </thead>\n",
       "  <tbody>\n",
       "    <tr>\n",
       "      <th>30700</th>\n",
       "      <td>211672</td>\n",
       "      <td>0.630073</td>\n",
       "      <td>0.815036</td>\n",
       "    </tr>\n",
       "    <tr>\n",
       "      <th>33356</th>\n",
       "      <td>297762</td>\n",
       "      <td>0.746067</td>\n",
       "      <td>0.641840</td>\n",
       "    </tr>\n",
       "    <tr>\n",
       "      <th>24455</th>\n",
       "      <td>177572</td>\n",
       "      <td>0.833454</td>\n",
       "      <td>0.612028</td>\n",
       "    </tr>\n",
       "    <tr>\n",
       "      <th>42222</th>\n",
       "      <td>321612</td>\n",
       "      <td>0.688199</td>\n",
       "      <td>0.606437</td>\n",
       "    </tr>\n",
       "    <tr>\n",
       "      <th>292</th>\n",
       "      <td>680</td>\n",
       "      <td>0.906594</td>\n",
       "      <td>0.582022</td>\n",
       "    </tr>\n",
       "    <tr>\n",
       "      <th>...</th>\n",
       "      <td>...</td>\n",
       "      <td>...</td>\n",
       "      <td>...</td>\n",
       "    </tr>\n",
       "    <tr>\n",
       "      <th>3471</th>\n",
       "      <td>5491</td>\n",
       "      <td>0.179113</td>\n",
       "      <td>0.094375</td>\n",
       "    </tr>\n",
       "    <tr>\n",
       "      <th>17708</th>\n",
       "      <td>40016</td>\n",
       "      <td>0.172916</td>\n",
       "      <td>0.088768</td>\n",
       "    </tr>\n",
       "    <tr>\n",
       "      <th>13566</th>\n",
       "      <td>14164</td>\n",
       "      <td>0.146683</td>\n",
       "      <td>0.081448</td>\n",
       "    </tr>\n",
       "    <tr>\n",
       "      <th>43393</th>\n",
       "      <td>271404</td>\n",
       "      <td>0.132545</td>\n",
       "      <td>0.072132</td>\n",
       "    </tr>\n",
       "    <tr>\n",
       "      <th>26559</th>\n",
       "      <td>76600</td>\n",
       "      <td>0.000000</td>\n",
       "      <td>0.005498</td>\n",
       "    </tr>\n",
       "  </tbody>\n",
       "</table>\n",
       "<p>45460 rows × 3 columns</p>\n",
       "</div>"
      ],
      "text/plain": [
       "           id  weighted_average_rating  weighted_rating_popularity\n",
       "30700  211672                 0.630073                    0.815036\n",
       "33356  297762                 0.746067                    0.641840\n",
       "24455  177572                 0.833454                    0.612028\n",
       "42222  321612                 0.688199                    0.606437\n",
       "292       680                 0.906594                    0.582022\n",
       "...       ...                      ...                         ...\n",
       "3471     5491                 0.179113                    0.094375\n",
       "17708   40016                 0.172916                    0.088768\n",
       "13566   14164                 0.146683                    0.081448\n",
       "43393  271404                 0.132545                    0.072132\n",
       "26559   76600                 0.000000                    0.005498\n",
       "\n",
       "[45460 rows x 3 columns]"
      ]
     },
     "execution_count": 52,
     "metadata": {},
     "output_type": "execute_result"
    }
   ],
   "source": [
    "predict_df"
   ]
  },
  {
   "cell_type": "code",
   "execution_count": null,
   "metadata": {},
   "outputs": [],
   "source": []
  }
 ],
 "metadata": {
  "colab": {
   "collapsed_sections": [],
   "name": "DataSciProject.ipynb",
   "provenance": [],
   "toc_visible": true
  },
  "kernelspec": {
   "display_name": "Python 3",
   "language": "python",
   "name": "python3"
  },
  "language_info": {
   "codemirror_mode": {
    "name": "ipython",
    "version": 3
   },
   "file_extension": ".py",
   "mimetype": "text/x-python",
   "name": "python",
   "nbconvert_exporter": "python",
   "pygments_lexer": "ipython3",
   "version": "3.8.5"
  }
 },
 "nbformat": 4,
 "nbformat_minor": 1
}
